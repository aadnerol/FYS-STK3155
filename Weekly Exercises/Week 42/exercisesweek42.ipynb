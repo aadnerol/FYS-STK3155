{
 "cells": [
  {
   "cell_type": "markdown",
   "metadata": {},
   "source": [
    "# Exercises week 42\n",
    "\n",
    "**October 13-17, 2025**\n",
    "\n",
    "Date: **Deadline is Friday October 17 at midnight**\n"
   ]
  },
  {
   "cell_type": "markdown",
   "metadata": {},
   "source": [
    "# Overarching aims of the exercises this week\n",
    "\n",
    "The aim of the exercises this week is to train the neural network you implemented last week.\n",
    "\n",
    "To train neural networks, we use gradient descent, since there is no analytical expression for the optimal parameters. This means you will need to compute the gradient of the cost function wrt. the network parameters. And then you will need to implement some gradient method.\n",
    "\n",
    "You will begin by computing gradients for a network with one layer, then two layers, then any number of layers. Keeping track of the shapes and doing things step by step will be very important this week.\n",
    "\n",
    "We recommend that you do the exercises this week by editing and running this notebook file, as it includes some checks along the way that you have implemented the neural network correctly, and running small parts of the code at a time will be important for understanding the methods. If you have trouble running a notebook, you can run this notebook in google colab instead(https://colab.research.google.com/drive/1FfvbN0XlhV-lATRPyGRTtTBnJr3zNuHL#offline=true&sandboxMode=true), though we recommend that you set up VSCode and your python environment to run code like this locally.\n",
    "\n",
    "First, some setup code that you will need.\n"
   ]
  },
  {
   "cell_type": "code",
   "execution_count": 425,
   "metadata": {},
   "outputs": [],
   "source": [
    "import autograd.numpy as np  # We need to use this numpy wrapper to make automatic differentiation work later\n",
    "from autograd import grad, elementwise_grad\n",
    "from sklearn import datasets\n",
    "import matplotlib.pyplot as plt\n",
    "from sklearn.metrics import accuracy_score\n",
    "\n",
    "\n",
    "# Defining some activation functions\n",
    "def ReLU(z):\n",
    "    return np.where(z > 0, z, 0)\n",
    "\n",
    "\n",
    "# Derivative of the ReLU function\n",
    "def ReLU_der(z):\n",
    "    return np.where(z > 0, 1, 0)\n",
    "\n",
    "\n",
    "def sigmoid(z):\n",
    "    return 1 / (1 + np.exp(-z))\n",
    "\n",
    "\n",
    "def mse(predict, target):\n",
    "    return np.mean((predict - target) ** 2)\n"
   ]
  },
  {
   "cell_type": "markdown",
   "metadata": {},
   "source": [
    "# Exercise 1 - Understand the feed forward pass\n",
    "\n",
    "**a)** Complete last weeks' exercises if you haven't already (recommended).\n"
   ]
  },
  {
   "cell_type": "markdown",
   "metadata": {},
   "source": [
    "# Exercise 2 - Gradient with one layer using autograd\n",
    "\n",
    "For the first few exercises, we will not use batched inputs. Only a single input vector is passed through the layer at a time.\n",
    "\n",
    "In this exercise you will compute the gradient of a single layer. You only need to change the code in the cells right below an exercise, the rest works out of the box. Feel free to make changes and see how stuff works though!\n"
   ]
  },
  {
   "cell_type": "markdown",
   "metadata": {},
   "source": [
    "**a)** If the weights and bias of a layer has shapes (10, 4) and (10), what will the shapes of the gradients of the cost function wrt. these weights and this bias be?\n"
   ]
  },
  {
   "cell_type": "markdown",
   "metadata": {},
   "source": [
    "The gradient of the cost function with respect to the weights will have the same shape as the weigths, (10, 4). The gradient of the cost function wrt. the bias will have the same shape as the bias, (10)"
   ]
  },
  {
   "cell_type": "markdown",
   "metadata": {},
   "source": [
    "**b)** Complete the feed_forward_one_layer function. It should use the sigmoid activation function. Also define the weigth and bias with the correct shapes.\n"
   ]
  },
  {
   "cell_type": "code",
   "execution_count": 426,
   "metadata": {},
   "outputs": [],
   "source": [
    "def feed_forward_one_layer(W, b, x):\n",
    "    z = W @ x + b\n",
    "    a = sigmoid(z)\n",
    "    return a\n",
    "\n",
    "\n",
    "def cost_one_layer(W, b, x, target):\n",
    "    predict = feed_forward_one_layer(W, b, x)\n",
    "    return mse(predict, target)\n",
    "\n",
    "\n",
    "x = np.random.rand(2)\n",
    "target = np.random.rand(3)\n",
    "\n",
    "W = np.random.rand(3, 2)\n",
    "b = np.random.rand(3)"
   ]
  },
  {
   "cell_type": "markdown",
   "metadata": {},
   "source": [
    "**c)** Compute the gradient of the cost function wrt. the weigth and bias by running the cell below. You will not need to change anything, just make sure it runs by defining things correctly in the cell above. This code uses the autograd package which uses backprogagation to compute the gradient!\n"
   ]
  },
  {
   "cell_type": "code",
   "execution_count": 427,
   "metadata": {},
   "outputs": [
    {
     "name": "stdout",
     "output_type": "stream",
     "text": [
      "[[ 0.00459  0.02483]\n",
      " [-0.00478 -0.02582]\n",
      " [ 0.0005   0.00272]] [ 0.04132 -0.04297  0.00453]\n",
      "(3, 2)\n",
      "(3,)\n"
     ]
    }
   ],
   "source": [
    "autograd_one_layer = grad(cost_one_layer, [0, 1])\n",
    "W_g, b_g = autograd_one_layer(W, b, x, target)\n",
    "print(W_g, b_g)\n",
    "print(W_g.shape)\n",
    "print(b_g.shape)"
   ]
  },
  {
   "cell_type": "markdown",
   "metadata": {},
   "source": [
    "# Exercise 3 - Gradient with one layer writing backpropagation by hand\n",
    "\n",
    "Before you use the gradient you found using autograd, you will have to find the gradient \"manually\", to better understand how the backpropagation computation works. To do backpropagation \"manually\", you will need to write out expressions for many derivatives along the computation.\n"
   ]
  },
  {
   "cell_type": "markdown",
   "metadata": {},
   "source": [
    "We want to find the gradient of the cost function wrt. the weight and bias. This is quite hard to do directly, so we instead use the chain rule to combine multiple derivatives which are easier to compute.\n",
    "\n",
    "$$\n",
    "\\frac{dC}{dW} = \\frac{dC}{da}\\frac{da}{dz}\\frac{dz}{dW}\n",
    "$$\n",
    "\n",
    "$$\n",
    "\\frac{dC}{db} = \\frac{dC}{da}\\frac{da}{dz}\\frac{dz}{db}\n",
    "$$\n"
   ]
  },
  {
   "cell_type": "markdown",
   "metadata": {},
   "source": [
    "**a)** Which intermediary results can be reused between the two expressions?\n"
   ]
  },
  {
   "cell_type": "markdown",
   "metadata": {},
   "source": [
    "The terms $\\frac{\\partial C}{\\partial a}$ and $\\frac{\\partial a}{\\partial z}$ can be reused between the two expressions."
   ]
  },
  {
   "cell_type": "markdown",
   "metadata": {},
   "source": [
    "**b)** What is the derivative of the cost wrt. the final activation? You can use the autograd calculation to make sure you get the correct result. Remember that we compute the mean in mse.\n"
   ]
  },
  {
   "cell_type": "markdown",
   "metadata": {},
   "source": [
    "We want to compute $\\frac{\\partial C}{\\partial a}=\\frac{\\partial MSE(target, a)}{\\partial a} = \\frac{\\partial \\frac{1}{n}(target - a)^T(target-a)}{\\partial a}$  "
   ]
  },
  {
   "cell_type": "markdown",
   "metadata": {},
   "source": [
    "From exercises week 35, we have that:\n",
    "$$\n",
    "\\frac{\\partial \\left(\\boldsymbol{x}-\\boldsymbol{A}\\boldsymbol{s}\\right)^T\\left(\\boldsymbol{x}-\\boldsymbol{A}\\boldsymbol{s}\\right)}{\\partial \\boldsymbol{s}} = -2\\left(\\boldsymbol{x}-\\boldsymbol{A}\\boldsymbol{s}\\right)^T\\boldsymbol{A},\n",
    "$$"
   ]
  },
  {
   "cell_type": "markdown",
   "metadata": {},
   "source": [
    "So we see that\n",
    "$$\n",
    "\\frac{\\partial C}{\\partial a} = -\\frac{2}{n}(target - a)^T\n",
    "$$"
   ]
  },
  {
   "cell_type": "code",
   "execution_count": 428,
   "metadata": {},
   "outputs": [
    {
     "name": "stdout",
     "output_type": "stream",
     "text": [
      "[ 0.16586 -0.17898  0.02327]\n",
      "[ 0.16586 -0.17898  0.02327]\n"
     ]
    }
   ],
   "source": [
    "z = W @ x + b\n",
    "a = sigmoid(z)\n",
    "\n",
    "predict = a\n",
    "\n",
    "\n",
    "def mse_der(predict, target):\n",
    "    return -2/len(predict) * (target - predict).T\n",
    "\n",
    "\n",
    "print(mse_der(predict, target))\n",
    "\n",
    "cost_autograd = grad(mse, 0)\n",
    "print(cost_autograd(predict, target))"
   ]
  },
  {
   "cell_type": "markdown",
   "metadata": {},
   "source": [
    "**c)** What is the expression for the derivative of the sigmoid activation function? You can use the autograd calculation to make sure you get the correct result.\n"
   ]
  },
  {
   "cell_type": "markdown",
   "metadata": {},
   "source": [
    "The sigmoid activation function is defined as $\\sigma(z)=\\frac{1}{1+e^{-z}}$. Computing the derivative gives:\n",
    "$$\n",
    "\\frac{d\\sigma(z)}{dz}=\\frac{d}{dz}\\frac{1}{1+e^{-z}} = \\frac{e^{-z}}{(1+e^{-z})^2},\n",
    "$$\n",
    "where I used the division rule for differentiation. "
   ]
  },
  {
   "cell_type": "code",
   "execution_count": 429,
   "metadata": {},
   "outputs": [
    {
     "name": "stdout",
     "output_type": "stream",
     "text": [
      "[0.2491  0.24007 0.19457]\n",
      "[0.2491  0.24007 0.19457]\n"
     ]
    }
   ],
   "source": [
    "def sigmoid_der(z):\n",
    "    return np.exp(-z)/((1+np.exp(-z))**2)\n",
    "\n",
    "\n",
    "print(sigmoid_der(z))\n",
    "\n",
    "sigmoid_autograd = elementwise_grad(sigmoid, 0)\n",
    "print(sigmoid_autograd(z))"
   ]
  },
  {
   "cell_type": "markdown",
   "metadata": {},
   "source": [
    "**d)** Using the two derivatives you just computed, compute this intermetidary gradient you will use later:\n",
    "\n",
    "$$\n",
    "\\frac{dC}{dz} = \\frac{dC}{da}\\frac{da}{dz}\n",
    "$$\n"
   ]
  },
  {
   "cell_type": "code",
   "execution_count": 430,
   "metadata": {},
   "outputs": [
    {
     "name": "stdout",
     "output_type": "stream",
     "text": [
      "[ 0.04132 -0.04297  0.00453]\n"
     ]
    }
   ],
   "source": [
    "dC_da = mse_der(predict, target)\n",
    "da_dz = sigmoid_der(z)\n",
    "dC_dz = dC_da*da_dz\n",
    "print(dC_dz)"
   ]
  },
  {
   "cell_type": "markdown",
   "metadata": {},
   "source": [
    "**e)** What is the derivative of the intermediary z wrt. the weight and bias? What should the shapes be? The one for the weights is a little tricky, it can be easier to play around in the next exercise first. You can also try computing it with autograd to get a hint.\n"
   ]
  },
  {
   "cell_type": "markdown",
   "metadata": {},
   "source": [
    "We start by writing out z component-wise: \n",
    "$$\n",
    "z_k = (\\sum_l W_{kl}*x_l ) + b_k\n",
    "$$\n",
    "We start by computing the derivative with respect to the weights: \n",
    "$$\n",
    "\\frac{\\partial (\\sum_l W_{kl}*x_l ) + b_k}{\\partial W_{ij}} = \\frac{\\sum_l W_{kl}*x_l}{\\partial W_{ij}}=\\sum_l \\delta_{ki} \\delta_{lj} x_l\n",
    "$$\n",
    "$$\n",
    "=\\delta_{ki}x_j, \n",
    "$$\n",
    "where $\\delta$ is the Kronecker-delta-notation."
   ]
  },
  {
   "cell_type": "markdown",
   "metadata": {},
   "source": [
    "We then compute the derivative with respect to the bias:\n",
    "$$\n",
    "\\frac{\\partial(\\sum_l W_{kl}x_l)+ b_k}{\\partial b_k} = \\frac{\\partial b_k}{\\partial b_k} = 1, \n",
    "$$\n",
    "so the derivative of the whole vector becomes a vector of ones, with the same shape as the bias vector. "
   ]
  },
  {
   "cell_type": "markdown",
   "metadata": {},
   "source": [
    "**f)** Now combine the expressions you have worked with so far to compute the gradients! Note that you always need to do a feed forward pass while saving the zs and as before you do backpropagation, as they are used in the derivative expressions\n"
   ]
  },
  {
   "cell_type": "code",
   "execution_count": 431,
   "metadata": {},
   "outputs": [
    {
     "name": "stdout",
     "output_type": "stream",
     "text": [
      "[[ 0.00459  0.02483]\n",
      " [-0.00478 -0.02582]\n",
      " [ 0.0005   0.00272]] [ 0.04132 -0.04297  0.00453]\n"
     ]
    }
   ],
   "source": [
    "dC_da = mse_der(predict, target)\n",
    "da_dz = sigmoid_der(z)\n",
    "dC_dz = dC_da*da_dz\n",
    "\n",
    "\n",
    "dC_dW = np.outer(dC_dz, x)\n",
    "dC_db = dC_dz\n",
    "\n",
    "print(dC_dW, dC_db)"
   ]
  },
  {
   "cell_type": "markdown",
   "metadata": {},
   "source": [
    "You should get the same results as with autograd.\n"
   ]
  },
  {
   "cell_type": "code",
   "execution_count": 432,
   "metadata": {},
   "outputs": [
    {
     "name": "stdout",
     "output_type": "stream",
     "text": [
      "[[ 0.00459  0.02483]\n",
      " [-0.00478 -0.02582]\n",
      " [ 0.0005   0.00272]] [ 0.04132 -0.04297  0.00453]\n"
     ]
    }
   ],
   "source": [
    "W_g, b_g = autograd_one_layer(W, b, x, target)\n",
    "print(W_g, b_g)"
   ]
  },
  {
   "cell_type": "markdown",
   "metadata": {},
   "source": [
    "# Exercise 4 - Gradient with two layers writing backpropagation by hand\n"
   ]
  },
  {
   "cell_type": "markdown",
   "metadata": {},
   "source": [
    "Now that you have implemented backpropagation for one layer, you have found most of the expressions you will need for more layers. Let's move up to two layers.\n"
   ]
  },
  {
   "cell_type": "code",
   "execution_count": 433,
   "metadata": {},
   "outputs": [],
   "source": [
    "x = np.random.rand(2)\n",
    "target = np.random.rand(4)\n",
    "\n",
    "W1 = np.random.rand(3, 2)\n",
    "b1 = np.random.rand(3)\n",
    "\n",
    "W2 = np.random.rand(4, 3)\n",
    "b2 = np.random.rand(4)\n",
    "\n",
    "layers = [(W1, b1), (W2, b2)]"
   ]
  },
  {
   "cell_type": "code",
   "execution_count": 434,
   "metadata": {},
   "outputs": [],
   "source": [
    "z1 = W1 @ x + b1\n",
    "a1 = sigmoid(z1)\n",
    "z2 = W2 @ a1 + b2\n",
    "a2 = sigmoid(z2)\n"
   ]
  },
  {
   "cell_type": "markdown",
   "metadata": {},
   "source": [
    "We begin by computing the gradients of the last layer, as the gradients must be propagated backwards from the end.\n",
    "\n",
    "**a)** Compute the gradients of the last layer, just like you did the single layer in the previous exercise.\n"
   ]
  },
  {
   "cell_type": "code",
   "execution_count": 435,
   "metadata": {},
   "outputs": [],
   "source": [
    "dC_da2 = mse_der(predict=a2, target=target)\n",
    "dC_dz2 = dC_da2*sigmoid_der(z2)\n",
    "dC_dW2 = np.outer(dC_dz2, x)\n",
    "dC_db2 = dC_dz2"
   ]
  },
  {
   "cell_type": "markdown",
   "metadata": {},
   "source": [
    "To find the derivative of the cost wrt. the activation of the first layer, we need a new expression, the one furthest to the right in the following.\n",
    "\n",
    "$$\n",
    "\\frac{dC}{da_1} = \\frac{dC}{dz_2}\\frac{dz_2}{da_1}\n",
    "$$\n",
    "\n",
    "**b)** What is the derivative of the second layer intermetiate wrt. the first layer activation? (First recall how you compute $z_2$)\n",
    "\n",
    "$$\n",
    "\\frac{dz_2}{da_1}\n",
    "$$\n"
   ]
  },
  {
   "cell_type": "markdown",
   "metadata": {},
   "source": [
    "We compute $z_2$ in the following way: $z_2=W_2 a_1+ b_2$. Differentiating this with respect to $a_1$ yields:\n",
    "$$\n",
    "\\frac{\\partial z_2}{\\partial a_1} = W_2\n",
    "$$"
   ]
  },
  {
   "cell_type": "markdown",
   "metadata": {},
   "source": [
    "**c)** Use this expression, together with expressions which are equivelent to ones for the last layer to compute all the derivatives of the first layer.\n",
    "\n",
    "$$\n",
    "\\frac{dC}{dW_1} = \\frac{dC}{da_1}\\frac{da_1}{dz_1}\\frac{dz_1}{dW_1}\n",
    "$$\n",
    "\n",
    "$$\n",
    "\\frac{dC}{db_1} = \\frac{dC}{da_1}\\frac{da_1}{dz_1}\\frac{dz_1}{db_1}\n",
    "$$\n"
   ]
  },
  {
   "cell_type": "code",
   "execution_count": 436,
   "metadata": {},
   "outputs": [],
   "source": [
    "dC_da1 = dC_dz2 @ W2\n",
    "dC_dz1 = dC_da1 * sigmoid_der(z1)\n",
    "dC_dW1 = np.outer(dC_dz1, x)\n",
    "dC_db1 = dC_dz1"
   ]
  },
  {
   "cell_type": "code",
   "execution_count": 437,
   "metadata": {},
   "outputs": [
    {
     "name": "stdout",
     "output_type": "stream",
     "text": [
      "[[0.00392 0.00226]\n",
      " [0.00301 0.00173]\n",
      " [0.00222 0.00127]] [0.00516 0.00396 0.00292]\n",
      "[[ 0.03236  0.01862]\n",
      " [ 0.00622  0.00358]\n",
      " [ 0.00925  0.00532]\n",
      " [-0.00149 -0.00086]] [ 0.04262  0.00819  0.01218 -0.00196]\n"
     ]
    }
   ],
   "source": [
    "print(dC_dW1, dC_db1)\n",
    "print(dC_dW2, dC_db2)"
   ]
  },
  {
   "cell_type": "markdown",
   "metadata": {},
   "source": [
    "**d)** Make sure you got the same gradient as the following code which uses autograd to do backpropagation.\n"
   ]
  },
  {
   "cell_type": "code",
   "execution_count": 438,
   "metadata": {},
   "outputs": [],
   "source": [
    "def feed_forward_two_layers(layers, x):\n",
    "    W1, b1 = layers[0]\n",
    "    z1 = W1 @ x + b1\n",
    "    a1 = sigmoid(z1)\n",
    "\n",
    "    W2, b2 = layers[1]\n",
    "    z2 = W2 @ a1 + b2\n",
    "    a2 = sigmoid(z2)\n",
    "\n",
    "    return a2"
   ]
  },
  {
   "cell_type": "code",
   "execution_count": 439,
   "metadata": {},
   "outputs": [
    {
     "data": {
      "text/plain": [
       "[(array([[0.00392, 0.00226],\n",
       "         [0.00301, 0.00173],\n",
       "         [0.00222, 0.00127]]),\n",
       "  array([0.00516, 0.00396, 0.00292])),\n",
       " (array([[ 0.03337,  0.03398,  0.03384],\n",
       "         [ 0.00642,  0.00653,  0.00651],\n",
       "         [ 0.00954,  0.00971,  0.00967],\n",
       "         [-0.00153, -0.00156, -0.00155]]),\n",
       "  array([ 0.04262,  0.00819,  0.01218, -0.00196]))]"
      ]
     },
     "execution_count": 439,
     "metadata": {},
     "output_type": "execute_result"
    }
   ],
   "source": [
    "def cost_two_layers(layers, x, target):\n",
    "    predict = feed_forward_two_layers(layers, x)\n",
    "    return mse(predict, target)\n",
    "\n",
    "\n",
    "grad_two_layers = grad(cost_two_layers, 0)\n",
    "grad_two_layers(layers, x, target)"
   ]
  },
  {
   "cell_type": "markdown",
   "metadata": {},
   "source": [
    "We see that the results are identical."
   ]
  },
  {
   "cell_type": "markdown",
   "metadata": {},
   "source": [
    "**e)** How would you use the gradient from this layer to compute the gradient of an even earlier layer? Would the expressions be any different?\n"
   ]
  },
  {
   "cell_type": "markdown",
   "metadata": {},
   "source": [
    "We would compute the derivatives of an earlier layer (layer 0) in the following way.\n",
    "The derivatives can be written as follows:\n",
    "$$\n",
    "\\frac {dC}{dW_0}=\\frac{dC}{da_0}\\frac{da_0}{dz_0}\\frac{dz_0}{dW_0}, \n",
    "$$\n",
    "$$\n",
    "\\frac{dC}{db_0}=\\frac{dC}{da_0}\\frac{da_0}{dz_0}\\frac{dz_0}{db_0}.\n",
    "$$\n",
    "We also have the following expression: \n",
    "$$\n",
    "\\frac{dC}{da_0}=\\frac{dC}{dz_1}\\frac{dz_1}{da_0}.\n",
    "$$"
   ]
  },
  {
   "cell_type": "markdown",
   "metadata": {},
   "source": [
    "We have already computed $\\frac{dC}{dz_1}$, and $\\frac{dz_1}{da_0}$ can be computed as we did in task b). "
   ]
  },
  {
   "cell_type": "markdown",
   "metadata": {},
   "source": [
    "# Exercise 5 - Gradient with any number of layers writing backpropagation by hand\n"
   ]
  },
  {
   "cell_type": "markdown",
   "metadata": {},
   "source": [
    "Well done on getting this far! Now it's time to compute the gradient with any number of layers.\n",
    "\n",
    "First, some code from the general neural network code from last week. Note that we are still sending in one input vector at a time. We will change it to use batched inputs later.\n"
   ]
  },
  {
   "cell_type": "code",
   "execution_count": 440,
   "metadata": {},
   "outputs": [],
   "source": [
    "def create_layers(network_input_size, layer_output_sizes):\n",
    "    layers = []\n",
    "\n",
    "    i_size = network_input_size\n",
    "    for layer_output_size in layer_output_sizes:\n",
    "        W = np.random.randn(layer_output_size, i_size)\n",
    "        b = np.random.randn(layer_output_size)\n",
    "        layers.append((W, b))\n",
    "\n",
    "        i_size = layer_output_size\n",
    "    return layers\n",
    "\n",
    "\n",
    "def feed_forward(input, layers, activation_funcs):\n",
    "    a = input\n",
    "    for (W, b), activation_func in zip(layers, activation_funcs):\n",
    "        z = W @ a + b\n",
    "        a = activation_func(z)\n",
    "    return a\n",
    "\n",
    "\n",
    "def cost(layers, input, activation_funcs, target):\n",
    "    predict = feed_forward(input, layers, activation_funcs)\n",
    "    return mse(predict, target)"
   ]
  },
  {
   "cell_type": "markdown",
   "metadata": {},
   "source": [
    "You might have already have noticed a very important detail in backpropagation: You need the values from the forward pass to compute all the gradients! The feed forward method above is great for efficiency and for using autograd, as it only cares about computing the final output, but now we need to also save the results along the way.\n",
    "\n",
    "Here is a function which does that for you.\n"
   ]
  },
  {
   "cell_type": "code",
   "execution_count": 441,
   "metadata": {},
   "outputs": [],
   "source": [
    "def feed_forward_saver(input, layers, activation_funcs):\n",
    "    layer_inputs = []\n",
    "    zs = []\n",
    "    a = input\n",
    "    for (W, b), activation_func in zip(layers, activation_funcs):\n",
    "        layer_inputs.append(a)\n",
    "        z = W @ a + b\n",
    "        a = activation_func(z)\n",
    "\n",
    "        zs.append(z)\n",
    "\n",
    "    return layer_inputs, zs, a"
   ]
  },
  {
   "cell_type": "markdown",
   "metadata": {},
   "source": [
    "**a)** Now, complete the backpropagation function so that it returns the gradient of the cost function wrt. all the weigths and biases. Use the autograd calculation below to make sure you get the correct answer.\n"
   ]
  },
  {
   "cell_type": "code",
   "execution_count": 442,
   "metadata": {},
   "outputs": [],
   "source": [
    "def backpropagation(\n",
    "    input, layers, activation_funcs, target, activation_ders, cost_der=mse_der\n",
    "):\n",
    "    layer_inputs, zs, predict = feed_forward_saver(input, layers, activation_funcs)\n",
    "\n",
    "    layer_grads = [() for layer in layers]\n",
    "    \n",
    "    dC_dz_next = None\n",
    "\n",
    "    # We loop over the layers, from the last to the first\n",
    "    for i in reversed(range(len(layers))):\n",
    "        layer_input, z, activation_der = layer_inputs[i], zs[i], activation_ders[i]\n",
    "\n",
    "        if i == len(layers) - 1:\n",
    "            # For last layer we use cost derivative as dC_da(L) can be computed directly\n",
    "            dC_da = cost_der(predict, target)\n",
    "        else:\n",
    "            # For other layers we build on previous z derivative, as dC_da(i) = dC_dz(i+1) * dz(i+1)_da(i)\n",
    "            (W, b) = layers[i + 1]\n",
    "            dC_da = W.T @ dC_dz_next\n",
    "\n",
    "        dC_dz = dC_da*activation_der(z)\n",
    "        dC_dW = np.outer(dC_dz, layer_input)\n",
    "        dC_db = dC_dz\n",
    "\n",
    "        layer_grads[i] = (dC_dW, dC_db)\n",
    "        \n",
    "        dC_dz_next = dC_dz\n",
    "\n",
    "    return layer_grads"
   ]
  },
  {
   "cell_type": "code",
   "execution_count": 443,
   "metadata": {},
   "outputs": [],
   "source": [
    "network_input_size = 2\n",
    "layer_output_sizes = [3, 4]\n",
    "activation_funcs = [sigmoid, ReLU]\n",
    "activation_ders = [sigmoid_der, ReLU_der]\n",
    "\n",
    "layers = create_layers(network_input_size, layer_output_sizes)\n",
    "\n",
    "x = np.random.rand(network_input_size)\n",
    "target = np.random.rand(4)"
   ]
  },
  {
   "cell_type": "code",
   "execution_count": 444,
   "metadata": {},
   "outputs": [
    {
     "name": "stdout",
     "output_type": "stream",
     "text": [
      "[(array([[0.2616 , 0.06239],\n",
      "       [0.04068, 0.0097 ],\n",
      "       [0.16302, 0.03888]]), array([0.31127, 0.0484 , 0.19398])), (array([[ 0.07114,  0.0775 ,  0.03273],\n",
      "       [-0.     , -0.     , -0.     ],\n",
      "       [ 0.31396,  0.34203,  0.14443],\n",
      "       [ 0.53158,  0.57911,  0.24454]]), array([ 0.0911 , -0.     ,  0.40207,  0.68077]))]\n"
     ]
    }
   ],
   "source": [
    "layer_grads = backpropagation(x, layers, activation_funcs, target, activation_ders)\n",
    "print(layer_grads)"
   ]
  },
  {
   "cell_type": "code",
   "execution_count": 445,
   "metadata": {},
   "outputs": [
    {
     "data": {
      "text/plain": [
       "[(array([[0.2616 , 0.06239],\n",
       "         [0.04068, 0.0097 ],\n",
       "         [0.16302, 0.03888]]),\n",
       "  array([0.31127, 0.0484 , 0.19398])),\n",
       " (array([[0.07114, 0.0775 , 0.03273],\n",
       "         [0.     , 0.     , 0.     ],\n",
       "         [0.31396, 0.34203, 0.14443],\n",
       "         [0.53158, 0.57911, 0.24454]]),\n",
       "  array([0.0911 , 0.     , 0.40207, 0.68077]))]"
      ]
     },
     "execution_count": 445,
     "metadata": {},
     "output_type": "execute_result"
    }
   ],
   "source": [
    "cost_grad = grad(cost, 0)\n",
    "cost_grad(layers, x, [sigmoid, ReLU], target)"
   ]
  },
  {
   "cell_type": "markdown",
   "metadata": {},
   "source": [
    "# Exercise 6 - Batched inputs\n",
    "\n",
    "Make new versions of all the functions in exercise 5 which now take batched inputs instead. See last weeks exercise 5 for details on how to batch inputs to neural networks. You will also need to update the backpropogation function.\n"
   ]
  },
  {
   "cell_type": "code",
   "execution_count": 446,
   "metadata": {},
   "outputs": [],
   "source": [
    "def create_layers_batch(network_input_size, layer_output_sizes):\n",
    "    layers = []\n",
    "\n",
    "    i_size = network_input_size\n",
    "    for layer_output_size in layer_output_sizes:\n",
    "        W = np.random.randn(i_size, layer_output_size)\n",
    "        b = np.random.randn(1, layer_output_size)\n",
    "        layers.append((W, b))\n",
    "\n",
    "        i_size = layer_output_size\n",
    "    return layers\n",
    "\n",
    "def feed_forward_batch(inputs, layers, activation_funcs):\n",
    "    a = inputs\n",
    "    for (W, b), activation_func in zip(layers, activation_funcs):\n",
    "        z = a @ W + b\n",
    "        a = activation_func(z)\n",
    "    return a\n",
    "\n",
    "def cost_batch(layers, input, activation_funcs, target):\n",
    "    predict = feed_forward_batch(input, layers, activation_funcs)\n",
    "    return mse(predict, target)\n",
    "\n",
    "def feed_forward_saver_batch(input, layers, activation_funcs):\n",
    "    layer_inputs = []\n",
    "    zs = []\n",
    "    a = input\n",
    "    for (W, b), activation_func in zip(layers, activation_funcs):\n",
    "        layer_inputs.append(a)\n",
    "        z = a @ W + b\n",
    "        a = activation_func(z)\n",
    "\n",
    "        zs.append(z)\n",
    "\n",
    "    return layer_inputs, zs, a"
   ]
  },
  {
   "cell_type": "code",
   "execution_count": 447,
   "metadata": {},
   "outputs": [],
   "source": [
    "def backpropagation_batch(\n",
    "    inputs, layers, activation_funcs, target, activation_ders, cost_der=mse_der\n",
    "):\n",
    "    layer_inputs, zs, predict = feed_forward_saver_batch(inputs, layers, activation_funcs)\n",
    "\n",
    "    layer_grads = [() for layer in layers]\n",
    "    \n",
    "    dC_dz_next = None\n",
    "    \n",
    "    B = inputs.shape[0]\n",
    "\n",
    "    # We loop over the layers, from the last to the first\n",
    "    for i in reversed(range(len(layers))):\n",
    "        layer_input, z, activation_der = layer_inputs[i], zs[i], activation_ders[i]\n",
    "\n",
    "        if i == len(layers) - 1:\n",
    "            # For last layer we use cost derivative as dC_da(L) can be computed directly\n",
    "            dC_da = cost_der(predict, target)\n",
    "        else:\n",
    "            # For other layers we build on previous z derivative, as dC_da(i) = dC_dz(i+1) * dz(i+1)_da(i)\n",
    "            (W_next, b_next) = layers[i + 1]\n",
    "            dC_da = dC_dz_next @ W_next.T\n",
    "\n",
    "        dC_dz = dC_da*activation_der(z)\n",
    "        # Grads (average over batch)\n",
    "        dC_dW = (layer_input.T @ dC_dz)\n",
    "        dC_db = np.sum(dC_dz, axis=0, keepdims=True)\n",
    "\n",
    "        layer_grads[i] = (dC_dW, dC_db)\n",
    "        \n",
    "        dC_dz_next = dC_dz\n",
    "\n",
    "    return layer_grads"
   ]
  },
  {
   "cell_type": "markdown",
   "metadata": {},
   "source": [
    "### Testing/ comparing with autograd\n",
    "\n",
    "Code snippet from ChatGPT"
   ]
  },
  {
   "cell_type": "code",
   "execution_count": 448,
   "metadata": {},
   "outputs": [
    {
     "name": "stdout",
     "output_type": "stream",
     "text": [
      "\n",
      "=== Layer 0 ===\n",
      "dW (manual):\n",
      "[[ 0.1215   0.37245  1.05848  0.10538 -0.04399]\n",
      " [-0.0377   0.37243 -5.43553 -0.11608 -0.23706]\n",
      " [ 0.10893 -2.51195  6.2835   0.92487 -0.18495]\n",
      " [ 0.16942 -1.22071  7.72157  0.75858 -0.18267]]\n",
      "dW (autograd):\n",
      "[[ 0.1215   0.37245  1.05848  0.10538 -0.04399]\n",
      " [-0.0377   0.37243 -5.43553 -0.11608 -0.23706]\n",
      " [ 0.10893 -2.51195  6.2835   0.92487 -0.18495]\n",
      " [ 0.16942 -1.22071  7.72157  0.75858 -0.18267]]\n",
      "dW max|diff|: 0.0\n",
      "\n",
      "db (manual):\n",
      "[[-0.11996 -1.59063 10.19279  0.9371   0.00465]]\n",
      "db (autograd):\n",
      "[[-0.11996 -1.59063 10.19279  0.9371   0.00465]]\n",
      "db max|diff|: 0.0\n",
      "\n",
      "=== Layer 1 ===\n",
      "dW (manual):\n",
      "[[-0.03238  0.03047  0.04005]\n",
      " [ 0.01171 -0.01716  0.00462]\n",
      " [ 5.0515  -7.80837  2.37407]\n",
      " [ 2.91909 -4.35392  1.08239]\n",
      " [ 0.1214  -1.37636  0.67007]]\n",
      "dW (autograd):\n",
      "[[-0.03238  0.03047  0.04005]\n",
      " [ 0.01171 -0.01716  0.00462]\n",
      " [ 5.0515  -7.80837  2.37407]\n",
      " [ 2.91909 -4.35392  1.08239]\n",
      " [ 0.1214  -1.37636  0.67007]]\n",
      "dW max|diff|: 0.0\n",
      "\n",
      "db (manual):\n",
      "[[ 1.80103 -3.10111  0.8156 ]]\n",
      "db (autograd):\n",
      "[[ 1.80103 -3.10111  0.8156 ]]\n",
      "db max|diff|: 0.0\n"
     ]
    }
   ],
   "source": [
    "# ---- Print manual vs autograd gradients for easy side-by-side comparison ----\n",
    "# Assumes your functions (ReLU, ReLU_der, mse, backpropagation_batch, etc.) are already defined.\n",
    "\n",
    "import autograd.numpy as np\n",
    "from autograd import grad\n",
    "\n",
    "np.set_printoptions(precision=5, suppress=True)\n",
    "\n",
    "# ---- toy setup (adjust sizes if you like) ----\n",
    "B, in_dim, h_dim, out_dim = 6, 4, 5, 3\n",
    "rng = np.random.RandomState(42)\n",
    "X = rng.randn(B, in_dim)\n",
    "Y = rng.randn(B, out_dim)\n",
    "\n",
    "# Params in your shape convention: W:(in,out), b:(1,out)\n",
    "W1 = rng.randn(in_dim, h_dim); b1 = rng.randn(1, h_dim)\n",
    "W2 = rng.randn(h_dim, out_dim); b2 = rng.randn(1, out_dim)\n",
    "layers = [(W1, b1), (W2, b2)]\n",
    "\n",
    "# Use ReLU for hidden, identity for output\n",
    "activation_funcs = [ReLU, lambda x: x]\n",
    "activation_ders  = [ReLU_der, lambda x: np.ones_like(x)]\n",
    "\n",
    "# Ensure the cost derivative has shape (B, out_dim)\n",
    "def mse_der_batch(pred, tgt):\n",
    "    return (2.0 / pred.size) * (pred - tgt)\n",
    "\n",
    "# ---- your gradients ----\n",
    "grads_manual = backpropagation_batch(\n",
    "    X,\n",
    "    layers,\n",
    "    activation_funcs,\n",
    "    Y,\n",
    "    activation_ders,\n",
    "    cost_der=mse_der_batch,   # use your mse_der if it already returns (B, out_dim)\n",
    ")\n",
    "\n",
    "# ---- autograd gradients on the exact same forward/loss ----\n",
    "def forward_loss_autograd(W1_, b1_, W2_, b2_, X_, Y_):\n",
    "    z1 = X_ @ W1_ + b1_\n",
    "    a1 = ReLU(z1)\n",
    "    pred = a1 @ W2_ + b2_\n",
    "    return mse(pred, Y_)\n",
    "\n",
    "gW1 = grad(forward_loss_autograd, 0)\n",
    "gb1 = grad(forward_loss_autograd, 1)\n",
    "gW2 = grad(forward_loss_autograd, 2)\n",
    "gb2 = grad(forward_loss_autograd, 3)\n",
    "\n",
    "dW1_ag = gW1(W1, b1, W2, b2, X, Y)\n",
    "db1_ag = gb1(W1, b1, W2, b2, X, Y)\n",
    "dW2_ag = gW2(W1, b1, W2, b2, X, Y)\n",
    "db2_ag = gb2(W1, b1, W2, b2, X, Y)\n",
    "\n",
    "grads_auto = [(dW1_ag, db1_ag), (dW2_ag, db2_ag)]\n",
    "\n",
    "# ---- print and compare ----\n",
    "for i, ((dW_np, db_np), (dW_ag, db_ag)) in enumerate(zip(grads_manual, grads_auto)):\n",
    "    print(f\"\\n=== Layer {i} ===\")\n",
    "    print(\"dW (manual):\")\n",
    "    print(dW_np)\n",
    "    print(\"dW (autograd):\")\n",
    "    print(dW_ag)\n",
    "    print(\"dW max|diff|:\", float(np.max(np.abs(dW_np - dW_ag))))\n",
    "\n",
    "    print(\"\\ndb (manual):\")\n",
    "    print(db_np)\n",
    "    print(\"db (autograd):\")\n",
    "    print(db_ag)\n",
    "    print(\"db max|diff|:\", float(np.max(np.abs(db_np - db_ag))))\n"
   ]
  },
  {
   "cell_type": "markdown",
   "metadata": {},
   "source": [
    "# Exercise 7 - Training\n"
   ]
  },
  {
   "cell_type": "markdown",
   "metadata": {},
   "source": [
    "**a)** Complete exercise 6 and 7 from last week, but use your own backpropogation implementation to compute the gradient.\n",
    "- IMPORTANT: Do not implement the derivative terms for softmax and cross-entropy separately, it will be very hard!\n",
    "- Instead, use the fact that the derivatives multiplied together simplify to **prediction - target** (see [source1](https://medium.com/data-science/derivative-of-the-softmax-function-and-the-categorical-cross-entropy-loss-ffceefc081d1), [source2](https://shivammehta25.github.io/posts/deriving-categorical-cross-entropy-and-softmax/))\n",
    "\n",
    "**b)** Use stochastic gradient descent with momentum when you train your network.\n"
   ]
  },
  {
   "cell_type": "markdown",
   "metadata": {},
   "source": [
    "## a)"
   ]
  },
  {
   "cell_type": "code",
   "execution_count": 449,
   "metadata": {},
   "outputs": [],
   "source": [
    "# Set seed to compare results:\n",
    "np.random.seed(1234)"
   ]
  },
  {
   "cell_type": "code",
   "execution_count": 450,
   "metadata": {},
   "outputs": [
    {
     "name": "stdout",
     "output_type": "stream",
     "text": [
      "Epoch   1/300  loss=213.85  acc=0.700\n",
      "Epoch  50/300  loss=10.72  acc=0.987\n",
      "Epoch 100/300  loss=7.78  acc=0.993\n",
      "Epoch 150/300  loss=6.61  acc=0.993\n",
      "Epoch 200/300  loss=6.08  acc=0.993\n",
      "Epoch 250/300  loss=5.70  acc=0.993\n",
      "Epoch 300/300  loss=5.43  acc=0.993\n",
      "\n",
      "Final (full Iris): loss = 5.428  acc = 0.993\n"
     ]
    }
   ],
   "source": [
    "from sklearn import datasets\n",
    "from sklearn.metrics import accuracy_score\n",
    "\n",
    "# Cross-entropy\n",
    "def cross_entropy(predict, target):\n",
    "    eps = 1e-12\n",
    "    p = np.clip(predict, eps, 1.0 - eps)\n",
    "    return np.sum(-target * np.log(p))\n",
    "\n",
    "# Softmax\n",
    "def softmax(z):\n",
    "    z = z - np.max(z, axis=1, keepdims=True)\n",
    "    e = np.exp(z)\n",
    "    return e / np.sum(e, axis=1, keepdims=True)\n",
    "\n",
    "# Accuracy function\n",
    "def accuracy(predictions, targets):\n",
    "    one_hot_predictions = np.zeros(predictions.shape)\n",
    "\n",
    "    for i, prediction in enumerate(predictions):\n",
    "        one_hot_predictions[i, np.argmax(prediction)] = 1\n",
    "    return accuracy_score(one_hot_predictions, targets)\n",
    "\n",
    "# Derivative for softmax + cross-entropy, only used in the last layer\n",
    "def softmax_ce_der(pred, target):\n",
    "    # Returns dL/da in the last layer: (y_hat - y) / B\n",
    "    B = pred.shape[0]\n",
    "    return (pred - target) / B\n",
    "\n",
    "# Set up data (same as last week)\n",
    "iris = datasets.load_iris()\n",
    "X = iris.data.astype(float)\n",
    "y = iris.target\n",
    "\n",
    "# one-hot targets\n",
    "Y = np.zeros((len(y), 3))\n",
    "Y[np.arange(len(y)), y] = 1\n",
    "\n",
    "# Standardizing\n",
    "X = (X - X.mean(axis=0, keepdims=True)) / (X.std(axis=0, keepdims=True) + 1e-12)\n",
    "\n",
    "# Create layers (same as last week)\n",
    "layers = create_layers_batch(4, [16, 3])\n",
    "\n",
    "# Use softmax as last activation (same as week 41)\n",
    "activation_funcs = [ReLU, softmax]\n",
    "\n",
    "# Laste derivative = identity, so dL/dz = dL/da \n",
    "activation_ders  = [ReLU_der, lambda z: np.ones_like(z)]\n",
    "\n",
    "# Training (without momentum)\n",
    "lr = 0.05\n",
    "epochs = 300\n",
    "batch_size = 32\n",
    "n = X.shape[0]\n",
    "\n",
    "def predict_fn(X_):\n",
    "    a = X_\n",
    "    for (W, b), act in zip(layers, activation_funcs):\n",
    "        a = act(a @ W + b)\n",
    "    return a\n",
    "\n",
    "for epoch in range(1, epochs + 1):\n",
    "    idx = np.random.permutation(n)\n",
    "    Xs, Ys = X[idx], Y[idx]\n",
    "\n",
    "    for start in range(0, n, batch_size):\n",
    "        Xb = Xs[start:start + batch_size]\n",
    "        Yb = Ys[start:start + batch_size]\n",
    "\n",
    "        # Using backprop implemented earlier\n",
    "        grads = backpropagation_batch(\n",
    "            Xb,\n",
    "            layers,\n",
    "            activation_funcs,\n",
    "            Yb,\n",
    "            activation_ders,\n",
    "            cost_der=softmax_ce_der,   \n",
    "        )\n",
    "\n",
    "        # Parameter update (SGD)\n",
    "        new_layers = []\n",
    "        for (W, b), (dW, db) in zip(layers, grads):\n",
    "            W_new = W - lr * dW\n",
    "            b_new = b - lr * db\n",
    "            new_layers.append((W_new, b_new))\n",
    "        layers = new_layers\n",
    "\n",
    "    # Logging\n",
    "    if epoch % 50 == 0 or epoch == 1:\n",
    "        preds = predict_fn(X)\n",
    "        loss = cross_entropy(preds, Y)        \n",
    "        acc  = accuracy(preds, Y)             \n",
    "        print(f\"Epoch {epoch:3d}/{epochs}  loss={loss:.2f}  acc={acc:.3f}\")\n",
    "\n",
    "# End evaluation\n",
    "preds = predict_fn(X)\n",
    "final_loss = cross_entropy(preds, Y)\n",
    "final_acc  = accuracy(preds, Y)\n",
    "print(\"\\nFinal (full Iris): loss =\", round(float(final_loss), 3), \" acc =\", round(float(final_acc), 3))\n"
   ]
  },
  {
   "cell_type": "markdown",
   "metadata": {},
   "source": [
    "## b) With momentum"
   ]
  },
  {
   "cell_type": "code",
   "execution_count": 451,
   "metadata": {},
   "outputs": [
    {
     "name": "stdout",
     "output_type": "stream",
     "text": [
      "Epoch   1/300  loss=55.32  acc=0.867\n",
      "Epoch  50/300  loss=5.83  acc=0.987\n",
      "Epoch 100/300  loss=5.05  acc=0.993\n",
      "Epoch 150/300  loss=4.10  acc=0.987\n",
      "Epoch 200/300  loss=3.50  acc=0.987\n",
      "Epoch 250/300  loss=3.03  acc=0.987\n",
      "Epoch 300/300  loss=2.52  acc=0.993\n",
      "\n",
      "Final (full Iris): loss = 2.516  acc = 0.993\n"
     ]
    }
   ],
   "source": [
    "from sklearn import datasets\n",
    "from sklearn.metrics import accuracy_score\n",
    "\n",
    "# Cross-entropy\n",
    "def cross_entropy(predict, target):\n",
    "    eps = 1e-12\n",
    "    p = np.clip(predict, eps, 1.0 - eps)\n",
    "    return np.sum(-target * np.log(p))\n",
    "\n",
    "# Softmax\n",
    "def softmax(z):\n",
    "    z = z - np.max(z, axis=1, keepdims=True)\n",
    "    e = np.exp(z)\n",
    "    return e / np.sum(e, axis=1, keepdims=True)\n",
    "\n",
    "# Accuracy function\n",
    "def accuracy(predictions, targets):\n",
    "    one_hot_predictions = np.zeros(predictions.shape)\n",
    "\n",
    "    for i, prediction in enumerate(predictions):\n",
    "        one_hot_predictions[i, np.argmax(prediction)] = 1\n",
    "    return accuracy_score(one_hot_predictions, targets)\n",
    "\n",
    "# Derivative for softmax + cross-entropy, only used in the last layer\n",
    "def softmax_ce_der(pred, target):\n",
    "    # Returns dL/da in the last layer: (y_hat - y) / B\n",
    "    B = pred.shape[0]\n",
    "    return (pred - target) / B\n",
    "\n",
    "# Set up data (same as last week)\n",
    "iris = datasets.load_iris()\n",
    "X = iris.data.astype(float)\n",
    "y = iris.target\n",
    "\n",
    "# one-hot targets\n",
    "Y = np.zeros((len(y), 3))\n",
    "Y[np.arange(len(y)), y] = 1\n",
    "\n",
    "# Standardizing\n",
    "X = (X - X.mean(axis=0, keepdims=True)) / (X.std(axis=0, keepdims=True) + 1e-12)\n",
    "\n",
    "# Create layers (same as last week)\n",
    "layers = create_layers_batch(4, [16, 3])\n",
    "\n",
    "# Use softmax as last activation (same as week 41)\n",
    "activation_funcs = [ReLU, softmax]\n",
    "\n",
    "# Laste derivative = identity, so dL/dz = dL/da \n",
    "activation_ders  = [ReLU_der, lambda z: np.ones_like(z)]\n",
    "\n",
    "# Training (with momentum)\n",
    "lr = 0.05\n",
    "beta = 0.9 # Momentum\n",
    "epochs = 300\n",
    "batch_size = 32\n",
    "n = X.shape[0]\n",
    "velocities = [(np.zeros_like(W), np.zeros_like(b)) for (W, b) in layers]\n",
    "\n",
    "def predict_fn(X_):\n",
    "    a = X_\n",
    "    for (W, b), act in zip(layers, activation_funcs):\n",
    "        a = act(a @ W + b)\n",
    "    return a\n",
    "\n",
    "for epoch in range(1, epochs + 1):\n",
    "    idx = np.random.permutation(n)\n",
    "    Xs, Ys = X[idx], Y[idx]\n",
    "\n",
    "    for start in range(0, n, batch_size):\n",
    "        Xb = Xs[start:start + batch_size]\n",
    "        Yb = Ys[start:start + batch_size]\n",
    "\n",
    "        # Using backprop implemented earlier\n",
    "        grads = backpropagation_batch(\n",
    "            Xb,\n",
    "            layers,\n",
    "            activation_funcs,\n",
    "            Yb,\n",
    "            activation_ders,\n",
    "            cost_der=softmax_ce_der,   \n",
    "        )\n",
    "\n",
    "        # Parameter update (SGD with momentum)\n",
    "        new_layers = []\n",
    "        new_vels = []\n",
    "        for (W, b), (dW, db), (vW, vB) in zip(layers, grads, velocities):\n",
    "            vW_new = beta * vW - lr * dW\n",
    "            vB_new = beta * vB - lr * db\n",
    "            W_new = W + vW_new\n",
    "            b_new = b + vB_new\n",
    "            new_layers.append((W_new, b_new))\n",
    "            new_vels.append((vW_new, vB_new))\n",
    "        layers = new_layers\n",
    "        velocities = new_vels\n",
    "\n",
    "    # Logging\n",
    "    if epoch % 50 == 0 or epoch == 1:\n",
    "        preds = predict_fn(X)\n",
    "        loss = cross_entropy(preds, Y)        \n",
    "        acc  = accuracy(preds, Y)             \n",
    "        print(f\"Epoch {epoch:3d}/{epochs}  loss={loss:.2f}  acc={acc:.3f}\")\n",
    "\n",
    "# End evaluation\n",
    "preds = predict_fn(X)\n",
    "final_loss = cross_entropy(preds, Y)\n",
    "final_acc  = accuracy(preds, Y)\n",
    "print(\"\\nFinal (full Iris): loss =\", round(float(final_loss), 3), \" acc =\", round(float(final_acc), 3))\n"
   ]
  },
  {
   "cell_type": "markdown",
   "metadata": {},
   "source": [
    "# Exercise 8 (Optional) - Object orientation\n",
    "\n",
    "Passing in the layers, activations functions, activation derivatives and cost derivatives into the functions each time leads to code which is easy to understand in isoloation, but messier when used in a larger context with data splitting, data scaling, gradient methods and so forth. Creating an object which stores these values can lead to code which is much easier to use.\n",
    "\n",
    "**a)** Write a neural network class. You are free to implement it how you see fit, though we strongly recommend to not save any input or output values as class attributes, nor let the neural network class handle gradient methods internally. Gradient methods should be handled outside, by performing general operations on the layer_grads list using functions or classes separate to the neural network.\n",
    "\n",
    "We provide here a skeleton structure which should get you started.\n"
   ]
  },
  {
   "cell_type": "code",
   "execution_count": null,
   "metadata": {},
   "outputs": [],
   "source": [
    "from typing import List, Tuple, Callable, Optional\n",
    "\n",
    "Array = np.ndarray\n",
    "Layer = Tuple[Array, Array]          \n",
    "Grads = List[Tuple[Array, Array]] \n",
    "\n",
    "class NeuralNetwork:\n",
    "    def __init__(\n",
    "        self,\n",
    "        network_input_size: int,\n",
    "        layer_output_sizes: List[int],\n",
    "        activation_funcs: List[Callable[[Array], Array]],\n",
    "        activation_ders: List[Callable[[Array], Array]],\n",
    "        cost_fun: Callable,\n",
    "        cost_der: Callable,\n",
    "    ):\n",
    "        \"\"\"Setting up neural network with given layers, activation functions\n",
    "        and cost function.\n",
    "\n",
    "        Args:\n",
    "            network_input_size (int): \n",
    "                Number of input neurons\n",
    "            layer_output_sizes (List[int]): \n",
    "                List containing number of nodes in each layer\n",
    "            activation_funcs (List[Callable[[Array], Array]]):\n",
    "                List of activation functions (one for each layer)\n",
    "            activation_ders (List[Callable[[Array], Array]]):\n",
    "                List of derivatives of activation functions\n",
    "            cost_fun (Callable): \n",
    "                Cost function. \n",
    "            cost_der (Callable): \n",
    "                Derivative of cost function\n",
    "        \"\"\"\n",
    "        # Checking that the parameters line up (shapes):\n",
    "        assert len(layer_output_sizes) == len(activation_funcs) == len(activation_ders), (\n",
    "            \"Number of layers, activation functions and derivatives of activation functions must be equal.\"\n",
    "        )\n",
    "        \n",
    "        self.activation_funcs = activation_funcs\n",
    "        self.activation_ders = activation_ders\n",
    "        self.cost_fun = cost_fun\n",
    "        self.cost_der = cost_der\n",
    "        \n",
    "        self.layers = create_layers_batch(network_input_size, layer_output_sizes)\n",
    "\n",
    "    def predict(self, inputs):\n",
    "        \"\"\"Perform a forward pass through the neural network\n",
    "\n",
    "        Args:\n",
    "            inputs (Array): \n",
    "                Input data of shape (B, in_dim), where B is the batch size\n",
    "        \n",
    "        Returns: \n",
    "        np.ndarray:\n",
    "            The network output after the final activation function. Typically \n",
    "            represents probabilities if the last activation is a softmax layer. \n",
    "        \"\"\"\n",
    "        a = inputs\n",
    "        for (W, b), act in zip(self.layers, self.activation_funcs):\n",
    "            a = act(a @ W + b)\n",
    "        \n",
    "        return a\n",
    "\n",
    "    def cost(self, inputs, targets):\n",
    "        \"\"\" Compute the loss for a given batch using the network's configured\n",
    "        loss function.\n",
    "\n",
    "        Args:\n",
    "            inputs (np.ndarray): \n",
    "                Input data of shape (B, in_dim), where B is the batch size\n",
    "            targets (np.ndarray):\n",
    "                Target labels in one-hot (or appropriate) format matching the \n",
    "                output shape of the network, typically (B, out_dim).\n",
    "\n",
    "        Returns:\n",
    "        float: \n",
    "            The scalar loss value computed by `self.cost_fun`\n",
    "        \"\"\"\n",
    "        preds = self.predict(inputs)\n",
    "        return self.cost_fun(preds, targets)\n",
    "\n",
    "    def _feed_forward_saver(self, inputs):\n",
    "        \"\"\"Perform a forward pass while storing intermediate values\n",
    "        needed for backpropagation.\n",
    "\n",
    "        Args:\n",
    "            inputs (np.ndarray): \n",
    "                Input data of shape (B, in_dim), where B is the batch size.\n",
    "\n",
    "        Returns:\n",
    "        tuple:\n",
    "            (layer_inputs, zs, a)\n",
    "            - layer_inputs: list of activations before each layer (a_l)\n",
    "            - zs: list of pre-activation values (z_l)\n",
    "            - a: final output after the last activation\n",
    "        \"\"\"\n",
    "        layer_inputs = []\n",
    "        zs = []\n",
    "        a = inputs\n",
    "        \n",
    "        for (W, b), act in zip(self.layers, self.activation_funcs):\n",
    "            layer_inputs.append(a)\n",
    "            \n",
    "            z = a @ W + b\n",
    "            zs.append(z)\n",
    "            \n",
    "            a = act(z)\n",
    "        \n",
    "        return layer_inputs, zs, a\n",
    "\n",
    "    def compute_gradient(self, inputs, targets):\n",
    "        \"\"\"Compute parameter gradients for a given batch using the configured \n",
    "        cost derivative.\n",
    "\n",
    "        This method is a thin wrapper around the existing `backpropagation_batch`\n",
    "        implementation. It does not perform any optimization step; it only returns\n",
    "        gradients so that an external optimizer can produce weight updates.\n",
    "\n",
    "        Args:\n",
    "            inputs (np.ndarray): \n",
    "                Input batch of shape (B, in_dim).\n",
    "            targets (np.ndarray): \n",
    "                Target batch of shape (B, out_dim), typically one-hot for classification.\n",
    "\n",
    "        Returns:\n",
    "        list[tuple[np.ndarray, np.ndarray]]:\n",
    "            A list of (dW, db) tuples, one per layer, matching `self.layers` order.\n",
    "            Shapes:\n",
    "              - dW: (in_dim_l, out_dim_l)\n",
    "              - db: (1, out_dim_l)\n",
    "              \n",
    "        Notes:\n",
    "        - Uses `self.cost_der` provided at construction time (e.g., softmax CE derivative).\n",
    "        - For softmax + cross-entropy, ensure your last activation derivative is identity\n",
    "          (so you don’t multiply by the softmax derivative again).\n",
    "        \"\"\"\n",
    "        return backpropagation_batch(\n",
    "            inputs=inputs,\n",
    "            layers=self.layers,\n",
    "            activation_funcs=self.activation_funcs,\n",
    "            activation_ders=self.activation_ders,\n",
    "            target=targets,\n",
    "            cost_der=self.cost_der\n",
    "            ) \n",
    "\n",
    "    def update_weights(self, layer_grads):\n",
    "        \"\"\"Apply parameter updates to the network layers.\n",
    "\n",
    "        Args:\n",
    "            layer_grads : list[tuple[np.ndarray, np.ndarray]]\n",
    "                A list of (dW, db) tuples, one per layer, matching the ordering of `self.layers`.\n",
    "                IMPORTANT: These should be *updates* (deltas), not raw gradients.\n",
    "                For example:\n",
    "                - Plain SGD:           (dW, db) = (-lr * gradW, -lr * gradb)\n",
    "                - SGD with momentum:   (dW, db) = (vW, vB) where v = beta*v - lr*grad\n",
    "\n",
    "        Notes:\n",
    "        - This method does not implement any optimization logic (no lr, no momentum).\n",
    "          It simply adds the provided updates to the current weights and biases.\n",
    "        - Shapes must match each layer:\n",
    "              W: (in_dim_l, out_dim_l),  b: (1, out_dim_l)\n",
    "             dW: (in_dim_l, out_dim_l), db: (1, out_dim_l)\n",
    "        \"\"\"\n",
    "        new_layers = []\n",
    "        for (W, b), (dW, db) in zip(self.layers, layer_grads):\n",
    "            new_W = W + dW\n",
    "            new_b = b + db\n",
    "            new_layers.append((new_W, new_b))\n",
    "        \n",
    "        self.layers = new_layers\n",
    "\n",
    "    # These last two methods are not needed in the project, but they can be nice to have! The first one has a layers parameter so that you can use autograd on it\n",
    "    def autograd_compliant_predict(self, layers, inputs):\n",
    "        pass\n",
    "\n",
    "    def autograd_gradient(self, inputs, targets):\n",
    "        pass"
   ]
  }
 ],
 "metadata": {
  "kernelspec": {
   "display_name": "base",
   "language": "python",
   "name": "python3"
  },
  "language_info": {
   "codemirror_mode": {
    "name": "ipython",
    "version": 3
   },
   "file_extension": ".py",
   "mimetype": "text/x-python",
   "name": "python",
   "nbconvert_exporter": "python",
   "pygments_lexer": "ipython3",
   "version": "3.11.5"
  }
 },
 "nbformat": 4,
 "nbformat_minor": 4
}
