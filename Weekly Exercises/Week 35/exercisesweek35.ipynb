{
 "cells": [
  {
   "cell_type": "markdown",
   "id": "b4005770",
   "metadata": {},
   "source": [
    "# Exercises week 35\n",
    "\n",
    "## Deriving and Implementing Ordinary Least Squares"
   ]
  },
  {
   "cell_type": "markdown",
   "id": "2ca1b589",
   "metadata": {},
   "source": [
    "This week you will be deriving the analytical expressions for linear regression, building up the model from scratch. This will include taking several derivatives of products of vectors and matrices. Such derivatives are central to the optimization of many machine learning models. Although we will often use automatic differentiation in actual calculations, to be able to have analytical expressions is extremely helpful in case we have simpler derivatives as well as when we analyze various properties (like second derivatives) of the chosen cost functions.\n",
    "\n",
    "Vectors are always written as boldfaced lower case letters and matrices as upper case boldfaced letters. You will find useful the notes from week 35 on derivatives of vectors and matrices. See also the textbook of Faisal at al, chapter 5 and in particular sections 5.3-5.5 at <https://github.com/CompPhysics/MachineLearning/blob/master/doc/Textbooks/MathMLbook.pdf>"
   ]
  },
  {
   "cell_type": "markdown",
   "id": "41e92bf9",
   "metadata": {},
   "source": [
    "### Learning goals\n",
    "\n",
    "After completing these exercises, you will know how to\n",
    "- Take the derivatives of simple products between vectors and matrices\n",
    "- Implement OLS using the analytical expressions\n",
    "- Create a feature matrix from a set of data\n",
    "- Create a feature matrix for a polynomial model\n",
    "- Evaluate the MSE score of various model on training and test data, and comparing their performance\n",
    "\n",
    "### Deliverables\n",
    "\n",
    "Complete the following exercises while working in a jupyter notebook. Then, in canvas, include\n",
    "- The jupyter notebook with the exercises completed\n",
    "- An exported PDF of the notebook (https://code.visualstudio.com/docs/datascience/jupyter-notebooks#_export-your-jupyter-notebook)"
   ]
  },
  {
   "cell_type": "markdown",
   "id": "f7a9209d",
   "metadata": {},
   "source": [
    "## How to take derivatives of Matrix-Vector expressions"
   ]
  },
  {
   "cell_type": "markdown",
   "id": "45f3712e",
   "metadata": {},
   "source": [
    "In these exercises it is always useful to write out with summation indices the various quantities. Take also a look at the weekly slides from week 35 and the various examples included there.\n",
    "\n",
    "As an example, consider the function\n",
    "\n",
    "$$\n",
    "f(\\boldsymbol{x}) =\\boldsymbol{A}\\boldsymbol{x},\n",
    "$$\n",
    "\n",
    "which reads for a specific component $f_i$ (we define the matrix $\\boldsymbol{A}$ to have dimension $n\\times n$ and the vector $\\boldsymbol{x}$ to have length $n$)\n",
    "\n",
    "$$\n",
    "f_i =\\sum_{j=0}^{n-1}a_{ij}x_j,\n",
    "$$\n",
    "\n",
    "which leads to\n",
    "\n",
    "$$\n",
    "\\frac{\\partial f_i}{\\partial x_j}= a_{ij},\n",
    "$$\n",
    "\n",
    "and written out in terms of the vector $\\boldsymbol{x}$ we have\n",
    "\n",
    "$$\n",
    "\\frac{\\partial f(\\boldsymbol{x})}{\\partial \\boldsymbol{x}}= \\boldsymbol{A}.\n",
    "$$"
   ]
  },
  {
   "cell_type": "markdown",
   "id": "5fa8a4e6",
   "metadata": {},
   "source": [
    "## Exercise 1 - Finding the derivative of Matrix-Vector expressions"
   ]
  },
  {
   "cell_type": "markdown",
   "id": "df7a2270",
   "metadata": {},
   "source": [
    "**a)** Consider the expression\n",
    "\n",
    "$$\n",
    "\\frac{\\partial (\\boldsymbol{a}^T\\boldsymbol{x})}{\\partial \\boldsymbol{x}},\n",
    "$$\n",
    "\n",
    "Where $\\boldsymbol{a}$ and $\\boldsymbol{x}$ are column-vectors with length $n$.\n",
    "\n",
    "What is the *shape* of the expression we are taking the derivative of?\n",
    "\n",
    "What is the *shape* of the thing we are taking the derivative with respect to?\n",
    "\n",
    "What is the *shape* of the result of the expression?"
   ]
  },
  {
   "cell_type": "markdown",
   "id": "c0396734",
   "metadata": {},
   "source": [
    "**b)** Show that\n",
    "\n",
    "$$\n",
    "\\frac{\\partial (\\boldsymbol{a}^T\\boldsymbol{x})}{\\partial \\boldsymbol{x}} = \\boldsymbol{a}^T,\n",
    "$$"
   ]
  },
  {
   "cell_type": "markdown",
   "id": "dc39d541",
   "metadata": {},
   "source": [
    "**c)** Show that\n",
    "\n",
    "$$\n",
    "\\frac{\\partial (\\boldsymbol{a}^T\\boldsymbol{A}\\boldsymbol{a})}{\\partial \\boldsymbol{a}} = \\boldsymbol{a}^T(\\boldsymbol{A}+\\boldsymbol{A}^T),\n",
    "$$"
   ]
  },
  {
   "cell_type": "markdown",
   "id": "ca68b868",
   "metadata": {},
   "source": [
    "## Exercise 1 - Answers\n",
    "**a)** The shape of the expression we are taking the derivative of, $$ (\\boldsymbol{a}^T\\boldsymbol{x}), $$ is an $1 \\times n$ vector multiplied by a $n \\times 1$ vector, so an $n \\times n$ matrix. We are taking the derivative with respect to $\\boldsymbol{x}$, which is has the shape $n \\times 1$. The result of the expression is $ \\boldsymbol{a}^T $ (will show this in task b), with has the shape $n \\times 1$.\n",
    "\n"
   ]
  },
  {
   "cell_type": "markdown",
   "id": "95e50ab6",
   "metadata": {},
   "source": [
    "**b)** Want to show that\n",
    "\n",
    "$$\n",
    "\\frac{\\partial (\\boldsymbol{a}^T\\boldsymbol{x})}{\\partial \\boldsymbol{x}} = \\boldsymbol{a}^T.\n",
    "$$\n",
    "\n",
    "We start by defining the function $f$ as $$f(\\boldsymbol{x})=\\boldsymbol{a}^T\\boldsymbol{x}.$$\n",
    "$\\boldsymbol{a}^T$ is a row vector with entries $[a_1, a_2, ..., a_n]$, and $\\boldsymbol{x}$ is a column vector with entries $[x_1, x_2, ..., x_n]^T$. \n",
    "\n",
    "Multiplying these vectors, we see that \n",
    "$$\n",
    "f(\\boldsymbol{x}) =\\sum_{i=1}^{n}a_ix_i.\n",
    "$$\n",
    "\n",
    "Differentiating componentwise gives\n",
    "$$\n",
    "\\frac{\\partial f}{\\partial x_j} = \\frac{\\partial}{\\partial x_j} \\sum_{i=1}^{n}a_i x_i = a_i, \n",
    "$$\n",
    "where the last equality occurs because a partial derivative treats all variables other than $x_j$ as constants, making their derivatives zero.\n",
    "\n",
    "By collecting all partial derivatives, we get:\n",
    "$$\n",
    "\\frac{\\partial (\\boldsymbol{a}^T \\boldsymbol{x})}{\\partial \\boldsymbol{x}} = \\frac{\\partial f}{\\partial \\boldsymbol{x}} = [a_1, a_2, ... , a_n] = \\boldsymbol{a}^T\n",
    "$$"
   ]
  },
  {
   "cell_type": "markdown",
   "id": "d4d6eb1d",
   "metadata": {},
   "source": [
    "**c)** Want to show that\n",
    "\n",
    "$$\n",
    "\\frac{\\partial (\\boldsymbol{a}^T\\boldsymbol{A}\\boldsymbol{a})}{\\partial \\boldsymbol{a}} = \\boldsymbol{a}^T(\\boldsymbol{A}+\\boldsymbol{A}^T).\n",
    "$$\n",
    "\n",
    "To make the expression valid, we assume that $\\boldsymbol{a}$ is an n-dimensional column vector, and that $\\boldsymbol{A}$ is an $n \\times n$ matrix.\n",
    "\n",
    "Multiplying $\\boldsymbol{a}^T \\boldsymbol{A}$ gives a n-dimensional row vector, where each entry is given by $(\\boldsymbol{a}^T \\boldsymbol{A})_j = \\sum_{i=1}^{n}a_iA_{ij}$. Multiplying this expression with $\\boldsymbol{a}$ results in a scalar:\n",
    "$$\n",
    "(\\boldsymbol{a}^T \\boldsymbol{A})\\boldsymbol{a} = \\sum_{j=1}^{n}(\\boldsymbol{a}^T \\boldsymbol{A})_j a_j = \\sum_{i=1}^{n} \\sum_{j=1}^{n} a_i A_{ij} a_j.\n",
    "$$\n",
    "\n",
    "We now define the scalar function $f$ by $f(\\boldsymbol{a})=\\sum_{i=1}^{n} \\sum_{j=1}^{n} a_i A_{ij} a_j$\n",
    "\n",
    "Differentiating componentwise for a fixed $k$ gives:\n",
    "$$\n",
    "\\frac{\\partial f}{\\partial a_k} = \\frac{\\partial}{\\partial a_k}\\sum_{i=1}^{n} \\sum_{j=1}^{n} a_i A_{ij} a_j\n",
    "$$\n",
    "\n",
    "In the double sum, the factor $a_i A_{ij} a_j$ depends on $a_k$ if either $i=k$ or $j=k$. Thus, we can split up the sums:\n",
    "$$\n",
    "\\frac{\\partial f}{\\partial a_k} = \\sum_{j=1}^{n} \\frac{\\partial}{\\partial a_k} (a_k A_{kj} a_j) + \\sum_{i=1}^{n} \\frac{\\partial}{\\partial a_k} (a_i A_{ik} a_k)\n",
    "$$\n",
    "\n",
    "We differentiate each term, getting $\\frac{\\partial}{\\partial a_k} (a_k A_{kj} a_j) = A_{kj} a_j$ and $\\frac{\\partial}{\\partial a_k} (a_i A_{ik} a_k) = A_{ik} a_i$. So we get the expression:\n",
    "$$\n",
    "\\frac{\\partial f}{\\partial a_k} = \\sum_{j=1}^{n} A_{kj} a_j + \\sum_{i=1}^{n} A_{ik} a_i\n",
    "$$\n",
    "\n",
    "We observe that that these sums can be seen as components of matrix-vector products:\n",
    "\n",
    "$$\n",
    "\\sum_{j=1}^{n}A_{kj}a_j = (\\boldsymbol{A}\\boldsymbol{a})_k, \\sum_{i=1}^{n}A_{ik}a_i = (\\boldsymbol{A}^T \\boldsymbol{a})_k\n",
    "$$\n",
    "\n",
    "Thus, \n",
    "\n",
    "$$\n",
    "\\frac{\\partial f}{\\partial a_k} = (\\boldsymbol{A}\\boldsymbol{a})_k + (\\boldsymbol{A}^T \\boldsymbol{a})_k\n",
    "$$\n",
    "for each k. When differentiating with respect to the whole vector $\\boldsymbol{a}$, we get:\n",
    "\n",
    "$$\n",
    "\\frac{\\partial (\\boldsymbol{a}^T\\boldsymbol{A}\\boldsymbol{a})}{\\partial \\boldsymbol{a}} = \\frac{\\partial f}{\\partial \\boldsymbol{a}} = (\\boldsymbol{A}\\boldsymbol{a}) + (\\boldsymbol{A}^T \\boldsymbol{a}) = (\\boldsymbol{A} + \\boldsymbol{A}^T) \\boldsymbol{a},\n",
    "$$\n",
    "which is the transpose of $\\boldsymbol{a}^T(\\boldsymbol{A}+\\boldsymbol{A}^T)$.\n"
   ]
  },
  {
   "cell_type": "markdown",
   "id": "498d13ec",
   "metadata": {},
   "source": [
    "## Exercise 2 - Deriving the expression for OLS"
   ]
  },
  {
   "cell_type": "markdown",
   "id": "f3f771de",
   "metadata": {},
   "source": [
    "The ordinary least squares method finds the parameters $\\boldsymbol{\\theta}$ which minimizes the squared error between our model $\\boldsymbol{X\\theta}$ and the true values $\\boldsymbol{y}$.\n",
    "\n",
    "To find the parameters $\\boldsymbol{\\theta}$ which minimizes this error, we take the derivative of the squared error expression with respect to $\\boldsymbol{\\theta}$, and set it equal to 0."
   ]
  },
  {
   "cell_type": "markdown",
   "id": "49690237",
   "metadata": {},
   "source": [
    "**a)** Very briefly explain why the approach above finds the parameters $\\boldsymbol{\\theta}$ which minimizes this error."
   ]
  },
  {
   "cell_type": "markdown",
   "id": "b7cccc9d",
   "metadata": {},
   "source": [
    "We typically write the squared error as\n",
    "\n",
    "$$\n",
    "\\vert\\vert\\boldsymbol{y} - \\boldsymbol{X\\theta}\\vert\\vert^2\n",
    "$$\n",
    "\n",
    "which we can rewrite in matrix-vector form as\n",
    "\n",
    "$$\n",
    "\\left(\\boldsymbol{y}-\\boldsymbol{X}\\boldsymbol{\\theta}\\right)^T\\left(\\boldsymbol{y}-\\boldsymbol{X}\\boldsymbol{\\theta}\\right)\n",
    "$$"
   ]
  },
  {
   "cell_type": "markdown",
   "id": "8fbecf74",
   "metadata": {},
   "source": [
    "**b)** If $\\boldsymbol{X}$ is invertible, what is the expression for the optimal parameters $\\boldsymbol{\\theta}$? (**Hint:** Don't compute any derivatives, but solve $\\boldsymbol{X\\theta}=\\boldsymbol{y}$ for $\\boldsymbol{\\theta}$)"
   ]
  },
  {
   "cell_type": "markdown",
   "id": "f37af8f0",
   "metadata": {},
   "source": [
    "**c)** Show that\n",
    "\n",
    "$$\n",
    "\\frac{\\partial \\left(\\boldsymbol{x}-\\boldsymbol{A}\\boldsymbol{s}\\right)^T\\left(\\boldsymbol{x}-\\boldsymbol{A}\\boldsymbol{s}\\right)}{\\partial \\boldsymbol{s}} = -2\\left(\\boldsymbol{x}-\\boldsymbol{A}\\boldsymbol{s}\\right)^T\\boldsymbol{A},\n",
    "$$"
   ]
  },
  {
   "cell_type": "markdown",
   "id": "869fca4d",
   "metadata": {},
   "source": [
    "**d)** Using the expression from **c)**, but substituting back in $\\boldsymbol{\\theta}$, $\\boldsymbol{y}$ and $\\boldsymbol{X}$, find the expression for the optimal parameters $\\boldsymbol{\\theta}$ in the case that $\\boldsymbol{X}$ is not invertible, but $\\boldsymbol{X^T X}$ is, which is most often the case.\n",
    "\n",
    "$$\n",
    "\\boldsymbol{\\hat{\\theta}_{OLS}} = ...\n",
    "$$"
   ]
  },
  {
   "cell_type": "markdown",
   "id": "82ef29dd",
   "metadata": {},
   "source": [
    "## Exercise 2 - Answers"
   ]
  },
  {
   "cell_type": "markdown",
   "id": "aecc8c2b",
   "metadata": {},
   "source": [
    "**a)** We have a function defining the squared error, and we can minimize a function by differentiating, setting the term equal to 0, and solving for the parameters. The error is squared to include both positive and negative contributions, making sure that the negative errors does not cancel out the positive ones. "
   ]
  },
  {
   "cell_type": "markdown",
   "id": "7c2e1f49",
   "metadata": {},
   "source": [
    "**b)** We have that \n",
    "$$\n",
    "\\vert\\vert\\boldsymbol{y} - \\boldsymbol{X\\theta}\\vert\\vert^2 = \\left(\\boldsymbol{y}-\\boldsymbol{X}\\boldsymbol{\\theta}\\right)^T\\left(\\boldsymbol{y}-\\boldsymbol{X}\\boldsymbol{\\theta}\\right),\n",
    "$$\n",
    "so minimizing the error (finding the optimal parameters $\\boldsymbol{\\theta}$) can be done by setting one of the factors (in this case, both of the factors) equal to zero:\n",
    "$$\n",
    "\\boldsymbol{y} - \\boldsymbol{X\\theta} = 0 \\Rightarrow \\boldsymbol{X \\theta} = \\boldsymbol{y}.\n",
    "$$\n",
    "Now, assuming that $\\boldsymbol{X}$ is invertible, we can solve the matrix equation, which gives the following expression for the optimal value of $\\boldsymbol{\\theta}$:\n",
    "$$\n",
    "\\boldsymbol{\\theta} = \\boldsymbol{X}^{-1} \\boldsymbol{y}.\n",
    "$$\n",
    "\n",
    "This value of $\\boldsymbol{\\theta}$ makes the error equal to zero, and since the error is defined as a norm (and is squared), it cannot be negative. Hence, these are the optimal parameters."
   ]
  },
  {
   "cell_type": "markdown",
   "id": "79ffe8b3",
   "metadata": {},
   "source": [
    "**c)** We start by defining/clarifying the dimensions of the terms: $\\boldsymbol{x}$ and $\\boldsymbol{s}$ are n-dimensional column vectors ($n \\times 1$). $\\boldsymbol{A}$ is an $n \\times n$ matrix. This makes the vector-matrix product $\\boldsymbol{As}$ an $n\\times 1$ vector. The entries of $\\boldsymbol{x}$ are $[x_1, ..., x_n]$, the entries of $\\boldsymbol{s}$ are $[s_1, ..., s_n]$, while the $i, j$-th element of $\\boldsymbol{A}$ is denoted by $A_{ij}$\n",
    "\n",
    "By multiplying $\\boldsymbol{A}$ and $\\boldsymbol{s}$, we get that the $k$-th entry of $\\boldsymbol{As}$ is given by: \n",
    "$$\n",
    "(\\boldsymbol{As})_k = \\sum_{j=1}^{n}A_{kj}s_j.\n",
    "$$\n",
    "\n",
    "Further,\n",
    "$$\n",
    "(\\boldsymbol{x}-\\boldsymbol{As})_k = x_k - \\sum_{j=1}^{n}A_{kj}s_j\n",
    "$$\n",
    "\n",
    "Since $(\\boldsymbol{x}-\\boldsymbol{As})^T$ is an $1 \\times n$ vector, and $(\\boldsymbol{x}-\\boldsymbol{As})$ is an $n \\times 1$ vector, its product becomes a scalar, given by:\n",
    "$$\n",
    "\\sum_{k=1}^{n} (x_k - \\sum_{j=1}^{n}A_{kj}s_j)^2\n",
    "$$\n",
    "\n",
    "Now, we differentiate with respect to a given component $s_m$:\n",
    "$$\n",
    "\\frac{\\partial}{\\partial s_m} \\sum_{k=1}^{n} (x_k - \\sum_{j=1}^{n}A_{kj}s_j)^2\n",
    "$$\n",
    "Chain rule gives: \n",
    "$$\n",
    "\\frac{\\partial}{\\partial s_m} \\sum_{k=1}^{n} (x_k - \\sum_{j=1}^{n}A_{kj}s_j)^2 = \\sum_{k=1}^{n}2(x_k-\\sum_{j=1}^{n}A_{kj}s_j)*\\frac{\\partial}{\\partial s_m} (x_k - \\sum_{j=1}^{n}A_{kj}s_j)\n",
    "$$\n",
    "\n",
    "We see that the second factor of the expression reduces:\n",
    "$$\n",
    "\\frac{\\partial}{\\partial s_m} (x_k - \\sum_{j=1}^{n}A_{kj}s_j) = -A_{km}\n",
    "$$\n",
    "\n",
    "Now we have:\n",
    "$$\n",
    "\\frac{\\partial}{\\partial s_m} (\\boldsymbol{x}-\\boldsymbol{As})^T(\\boldsymbol{x}-\\boldsymbol{As}) = -2\\sum_{k=1}^{n}(x_k-\\sum_{j=1}^{n}A_{kj}s_j)A_{km}\n",
    "$$\n",
    "\n",
    "We recognize the sum as $(As)_k$:\n",
    "$$\n",
    "... = -2\\sum_{k=1}^{n}(x_k-(As)_k)A_{km},\n",
    "$$\n",
    "which is the $m$-th component of the vector $-2(\\boldsymbol{x}-\\boldsymbol{As})^T\\boldsymbol{A}$\n",
    "\n",
    "So now we have shown that:\n",
    "$$\n",
    "\\frac{\\partial \\left(\\boldsymbol{x}-\\boldsymbol{A}\\boldsymbol{s}\\right)^T\\left(\\boldsymbol{x}-\\boldsymbol{A}\\boldsymbol{s}\\right)}{\\partial \\boldsymbol{s}} = -2\\left(\\boldsymbol{x}-\\boldsymbol{A}\\boldsymbol{s}\\right)^T\\boldsymbol{A},\n",
    "$$"
   ]
  },
  {
   "cell_type": "markdown",
   "id": "4c081341",
   "metadata": {},
   "source": [
    "**d)** We still want to minimize the expression:\n",
    "$$\n",
    "\\vert\\vert\\boldsymbol{y} - \\boldsymbol{X\\theta}\\vert\\vert^2 = \\left(\\boldsymbol{y}-\\boldsymbol{X}\\boldsymbol{\\theta}\\right)^T\\left(\\boldsymbol{y}-\\boldsymbol{X}\\boldsymbol{\\theta}\\right),\n",
    "$$\n",
    "but now we dont assume that $\\boldsymbol{X}$ is invertible. Instead, we differentiate:\n",
    "$$\n",
    "\\frac{\\partial (\\boldsymbol{y}-\\boldsymbol{X\\theta})^T(\\boldsymbol{y}-\\boldsymbol{X\\theta})}{\\partial \\boldsymbol{\\theta}} = -2(\\boldsymbol{y}-\\boldsymbol{X\\theta})^T\\boldsymbol{X}, \n",
    "$$\n",
    "by using the result in **c)**. Setting this derivative equal to zero, yields the following equation, which is solved using matrix calculations:\n",
    "$$\n",
    "-2(\\boldsymbol{y}-\\boldsymbol{X\\theta})^T\\boldsymbol{X}=0\n",
    "$$\n",
    "$$\n",
    "(\\boldsymbol{y}-\\boldsymbol{X\\theta})\\boldsymbol{X}=0\n",
    "$$\n",
    "$$\n",
    "(\\boldsymbol{y}^T-(\\boldsymbol{X\\theta})^T)\\boldsymbol{X}=0\n",
    "$$\n",
    "$$\n",
    "\\boldsymbol{y}^T\\boldsymbol{X}-\\boldsymbol{\\theta}^T\\boldsymbol{X}^T\\boldsymbol{X}=0\n",
    "$$\n",
    "$$\n",
    "\\boldsymbol{\\theta}^T = (\\boldsymbol{y}^T\\boldsymbol{X})(\\boldsymbol{X}^T\\boldsymbol{X})^{-1},\n",
    "$$\n",
    "under the assumption that $\\boldsymbol{X}^T\\boldsymbol{X}$ is invertible.\n",
    "\n",
    "Transposing both sides gives:\n",
    "$$\n",
    "\\boldsymbol{\\hat{\\theta}_{OLS}} = ((\\boldsymbol{y}^T\\boldsymbol{X})(\\boldsymbol{X}^T\\boldsymbol{X})^{-1})^T = ((\\boldsymbol{X}^T\\boldsymbol{X})^{-1})^T(\\boldsymbol{y}^T\\boldsymbol{X})^T = ((\\boldsymbol{X}^T\\boldsymbol{X})^T)^{-1}(\\boldsymbol{X}^T\\boldsymbol{y}) = (\\boldsymbol{X}^T\\boldsymbol{X})^{-1}(\\boldsymbol{X}^T\\boldsymbol{y})\n",
    "$$"
   ]
  },
  {
   "cell_type": "markdown",
   "id": "57ca3d74",
   "metadata": {},
   "source": [
    "## Exercise 3 - Creating feature matrix and implementing OLS using the analytical expression"
   ]
  },
  {
   "cell_type": "markdown",
   "id": "5dc179f7",
   "metadata": {},
   "source": [
    "With the expression for $\\boldsymbol{\\hat{\\theta}_{OLS}}$, you now have what you need to implement OLS regression with your input data and target data $\\boldsymbol{y}$. But before you can do that, you need to set up you input data as a feature matrix $\\boldsymbol{X}$.\n",
    "\n",
    "In a feature matrix, each row is a datapoint and each column is a feature of that data. If you want to predict someones spending based on their income and number of children, for instance, you would create a row for each person in your dataset, with the montly income and the number of children as columns.\n",
    "\n",
    "We typically also include an intercept in our models. The intercept is a value that is added to our prediction regardless of the value of the other features. The intercept tries to account for constant effects in our data that are not dependant on anything else. In our current example, the intercept could account for living expenses which are typical regardless of income or childcare expenses.\n",
    "\n",
    "We calculate the optimal intercept by including a feature with the constant value of 1 in our model, which is then multplied by some parameter $\\theta_0$ from the OLS method into the optimal intercept value (which will be $\\theta_0$). In practice, we include the intercept in our model by adding a column of ones to the start of our feature matrix."
   ]
  },
  {
   "cell_type": "code",
   "execution_count": 506,
   "id": "e5ff2a69",
   "metadata": {},
   "outputs": [],
   "source": [
    "import numpy as np"
   ]
  },
  {
   "cell_type": "code",
   "execution_count": 507,
   "id": "a3cf2792",
   "metadata": {},
   "outputs": [],
   "source": [
    "n = 20\n",
    "income = np.array([116., 161., 167., 118., 172., 163., 179., 173., 162., 116., 101., 176., 178., 172., 143., 135., 160., 101., 149., 125.])\n",
    "children = np.array([5, 3, 0, 4, 5, 3, 0, 4, 4, 3, 3, 5, 1, 0, 2, 3, 2, 1, 5, 4])\n",
    "spending = np.array([152., 141., 102., 136., 161., 129.,  99., 159., 160., 107.,  98., 164., 121.,  93., 112., 127., 117.,  69., 156., 131.])\n"
   ]
  },
  {
   "cell_type": "markdown",
   "id": "5da61481",
   "metadata": {},
   "source": [
    "**a)** Create a feature matrix $\\boldsymbol{X}$ for the features income and children, including an intercept column of ones at the start."
   ]
  },
  {
   "cell_type": "code",
   "execution_count": 508,
   "id": "5ad87a65",
   "metadata": {},
   "outputs": [],
   "source": [
    "X = np.zeros((n, 3))\n",
    "# Intercept column\n",
    "X[:, 0] = np.ones((n))\n",
    "# Income\n",
    "X[:, 1] = income\n",
    "\n",
    "# Children\n",
    "X[:, 2] = children\n",
    "\n",
    "#print(X)"
   ]
  },
  {
   "cell_type": "markdown",
   "id": "e0ddfac2",
   "metadata": {},
   "source": [
    "**b)** Use the expression from **3d)** to find the optimal parameters $\\boldsymbol{\\hat{\\beta}_{OLS}}$ for predicting spending based on these features. Create a function for this operation, as you are going to need to use it a lot."
   ]
  },
  {
   "cell_type": "code",
   "execution_count": 509,
   "id": "8f3f68aa",
   "metadata": {},
   "outputs": [],
   "source": [
    "def OLS_parameters(X, y):\n",
    "    return np.linalg.inv((X.T@X))@(X.T@y)\n",
    "\n",
    "y=spending\n",
    "beta = OLS_parameters(X, y)\n",
    "#print(beta)"
   ]
  },
  {
   "cell_type": "markdown",
   "id": "0cb6da80",
   "metadata": {},
   "source": [
    "## Exercise 4 - Fitting a polynomial"
   ]
  },
  {
   "cell_type": "markdown",
   "id": "71015064",
   "metadata": {},
   "source": [
    "In this course, we typically do linear regression using polynomials, though in real world applications it is also very common to make linear models based on measured features like you did in the previous exercise.\n",
    "\n",
    "When fitting a polynomial with linear regression, we make each polynomial degree($x, x^2, x^3, ..., x^p$) its own feature."
   ]
  },
  {
   "cell_type": "code",
   "execution_count": 510,
   "id": "d7476c84",
   "metadata": {},
   "outputs": [],
   "source": [
    "n = 100\n",
    "x = np.linspace(-3, 3, n)\n",
    "y = np.exp(-x**2) + 1.5 * np.exp(-(x-2)**2) + np.random.normal(0, 0.1)"
   ]
  },
  {
   "cell_type": "markdown",
   "id": "8321451b",
   "metadata": {},
   "source": [
    "**a)** Create a feature matrix $\\boldsymbol{X}$ for the features $x, x^2, x^3, x^4, x^5$, including an intercept column of ones at the start. Make this into a function, as you will do this a lot over the next weeks."
   ]
  },
  {
   "cell_type": "code",
   "execution_count": 511,
   "id": "91496e40",
   "metadata": {},
   "outputs": [],
   "source": [
    "def polynomial_features(x, p):\n",
    "    n = len(x)\n",
    "    X = np.zeros((n, p + 1))\n",
    "    X[:, 0] = np.ones((n))\n",
    "    for i in range(1, p+1):\n",
    "        X[:, i]=x**i \n",
    "    return X\n",
    "\n",
    "X = polynomial_features(x, 5)\n",
    "#print(X)"
   ]
  },
  {
   "cell_type": "markdown",
   "id": "b84b1e31",
   "metadata": {},
   "source": [
    "**b)** Use the expression from **3d)** to find the optimal parameters $\\boldsymbol{\\hat{\\beta}_{OLS}}$ for predicting $\\boldsymbol{y}$ based on these features. If you have done everything right so far, this code will not need changing."
   ]
  },
  {
   "cell_type": "code",
   "execution_count": 512,
   "id": "034f502c",
   "metadata": {},
   "outputs": [],
   "source": [
    "beta = OLS_parameters(X, y)\n",
    "#print(beta)"
   ]
  },
  {
   "cell_type": "markdown",
   "id": "d703f788",
   "metadata": {},
   "source": [
    "**c)** Like in exercise 4 last week, split your feature matrix and target data into a training split and test split."
   ]
  },
  {
   "cell_type": "code",
   "execution_count": 513,
   "id": "29171358",
   "metadata": {},
   "outputs": [],
   "source": [
    "from sklearn.model_selection import train_test_split\n",
    "\n",
    "# Splitting data into training and testing\n",
    "X_train, X_test, y_train, y_test = train_test_split(x, y, test_size=0.2)"
   ]
  },
  {
   "cell_type": "markdown",
   "id": "a0e3509f",
   "metadata": {},
   "source": [
    "**d)** Train your model on the training data(find the parameters which best fit) and compute the MSE on both the training and test data."
   ]
  },
  {
   "cell_type": "code",
   "execution_count": 514,
   "id": "1e346f4c",
   "metadata": {},
   "outputs": [
    {
     "name": "stdout",
     "output_type": "stream",
     "text": [
      "Mean Squared Error, training data:  0.0134\n",
      "Mean Squared Error, testing data:  0.0172\n"
     ]
    }
   ],
   "source": [
    "# Feature matrices for training and testing data\n",
    "x_train = polynomial_features(X_train, 5)\n",
    "x_test = polynomial_features(X_test, 5)\n",
    "\n",
    "# Fitting model on training data\n",
    "beta_train = OLS_parameters(x_train, y_train)\n",
    "\n",
    "# Predicting\n",
    "y_pred_train = x_train@beta_train\n",
    "y_pred_test = x_test@beta_train\n",
    "\n",
    "# Mean Squared Error\n",
    "from sklearn.metrics import mean_squared_error\n",
    "\n",
    "MSE_training = mean_squared_error(y_train, y_pred_train)\n",
    "MSE_test = mean_squared_error(y_test, y_pred_test)\n",
    "\n",
    "# Printing results\n",
    "print(\"Mean Squared Error, training data: \", np.round(MSE_training, 4))\n",
    "print(\"Mean Squared Error, testing data: \", np.round(MSE_test, 4))"
   ]
  },
  {
   "cell_type": "markdown",
   "id": "7e431889",
   "metadata": {},
   "source": [
    "**e)** Do the same for each polynomial degree from 2 to 10, and plot the MSE on both the training and test data as a function of polynomial degree. The aim is to reproduce Figure 2.11 of [Hastie et al](https://github.com/CompPhysics/MLErasmus/blob/master/doc/Textbooks/elementsstat.pdf). Feel free to read the discussions leading to figure 2.11 of Hastie et al. "
   ]
  },
  {
   "cell_type": "code",
   "execution_count": 515,
   "id": "ceb57457",
   "metadata": {},
   "outputs": [
    {
     "data": {
      "image/png": "[encoded data removed]",
      "text/plain": [
       "<Figure size 640x480 with 1 Axes>"
      ]
     },
     "metadata": {},
     "output_type": "display_data"
    }
   ],
   "source": [
    "\n",
    "\n",
    "# Matrix for storing MSE data. First column MSE_training, second column MSE_testing\n",
    "# Each row is a polynomial degree, from 2 to 10\n",
    "\n",
    "poly_deg_min = 2\n",
    "poly_deg_max = 10\n",
    "\n",
    "MSE_data = np.zeros((poly_deg_max - poly_deg_min + 1, 2))\n",
    "\n",
    "for i in range(poly_deg_min, poly_deg_max + 1):\n",
    "    X_train_poly = polynomial_features(X_train, i)\n",
    "    X_test_poly = polynomial_features(X_test, i)\n",
    "    beta = OLS_parameters(X_train_poly, y_train)\n",
    "    y_pred_train = X_train_poly@beta\n",
    "    y_pred_test = X_test_poly@beta\n",
    "    \n",
    "    MSE_data[i-poly_deg_min, 0] = mean_squared_error(y_train, y_pred_train)\n",
    "    MSE_data[i-poly_deg_min, 1] = mean_squared_error(y_test, y_pred_test)\n",
    "\n",
    "# Plotting\n",
    "poly_deg = np.arange(poly_deg_min, poly_deg_max + 1, 1)\n",
    "mse_training_data = MSE_data[:, 0]\n",
    "mse_test_data = MSE_data[:, 1]\n",
    "\n",
    "import matplotlib.pyplot as plt\n",
    "\n",
    "plt.plot(poly_deg, MSE_data[:,0], marker=\"o\", label=\"Training sample\")\n",
    "plt.plot(poly_deg, MSE_data[:,1], marker=\"o\", label=\"Test sample\")\n",
    "plt.legend()\n",
    "plt.xlabel(\"Polynomial degree\")\n",
    "plt.ylabel(\"Prediction error\")\n",
    "plt.show()"
   ]
  },
  {
   "cell_type": "markdown",
   "id": "5e5b5954",
   "metadata": {},
   "source": [
    "**f)** Interpret the graph. Why do the lines move as they do? What does it tell us about model performance and generalizability?"
   ]
  },
  {
   "cell_type": "markdown",
   "id": "ad2acfb9",
   "metadata": {},
   "source": [
    "The graph shows that the prediction error in both the training data and testing data is reduced when the number of degrees increases. This is not what figure 2.11 shows. In that figure, the test sample prediction error starts to increase when the number of degrees increases, while the training data prediction error decreases. This is because of overfitting: when you increase the number of degrees, the prediction becomes perfect for the training data, but is overfitted for the test data, resulting in a higher prediction error. The reason why this figure does not show this is probably because of a numerical error (ill-conditioned matrix inverse, for example)"
   ]
  },
  {
   "cell_type": "markdown",
   "id": "5994f0c5",
   "metadata": {},
   "source": [
    "## Exercise 5 - Comparing your code with sklearn"
   ]
  },
  {
   "cell_type": "markdown",
   "id": "8f595b7a",
   "metadata": {},
   "source": [
    "When implementing different algorithms for the first time, it can be helpful to double check your results with established implementations before you go on to add more complexity."
   ]
  },
  {
   "cell_type": "markdown",
   "id": "8ab310c1",
   "metadata": {},
   "source": [
    "**a)** Make sure your `polynomial_features` function creates the same feature matrix as sklearns PolynomialFeatures.\n",
    "\n",
    "(https://scikit-learn.org/stable/modules/generated/sklearn.preprocessing.PolynomialFeatures.html)"
   ]
  },
  {
   "cell_type": "code",
   "execution_count": 516,
   "id": "85b964d1",
   "metadata": {},
   "outputs": [
    {
     "name": "stdout",
     "output_type": "stream",
     "text": [
      "True\n"
     ]
    }
   ],
   "source": [
    "from sklearn.preprocessing import PolynomialFeatures\n",
    "from sklearn.linear_model import LinearRegression\n",
    "\n",
    "n = 100\n",
    "x = np.linspace(-3, 3, n)\n",
    "y = np.exp(-x**2) + 1.5 * np.exp(-(x-2)**2) + np.random.normal(0, 0.1)\n",
    "my_X = polynomial_features(x, 5)\n",
    "\n",
    "x=x.reshape(-1, 1)\n",
    "poly_features = PolynomialFeatures(degree=5)\n",
    "sklearn_X = poly_features.fit_transform(x)\n",
    "\n",
    "are_close = np.allclose(my_X, sklearn_X, rtol=1e-12, atol=1e-12)\n",
    "print(are_close)\n",
    "\n"
   ]
  },
  {
   "cell_type": "markdown",
   "id": "73c32c52",
   "metadata": {},
   "source": [
    "**b)** Make sure your `OLS_parameters` function computes the same parameters as sklearns LinearRegression with fit_intercept set to False, since the intercept is included in the feature matrix. Use `your_model_object.coef_` to extract the computed parameters.\n",
    "\n",
    "(https://scikit-learn.org/stable/modules/generated/sklearn.linear_model.LinearRegression.html)"
   ]
  },
  {
   "cell_type": "code",
   "execution_count": 517,
   "id": "35b04126",
   "metadata": {},
   "outputs": [
    {
     "name": "stdout",
     "output_type": "stream",
     "text": [
      "True\n"
     ]
    }
   ],
   "source": [
    "my_beta = OLS_parameters(my_X, y)\n",
    "\n",
    "poly_model = LinearRegression(fit_intercept = False).fit(sklearn_X, y)\n",
    "sklearn_beta = poly_model.coef_\n",
    "\n",
    "are_close = np.allclose(my_beta, sklearn_beta, rtol=1e-12, atol=1e-12)\n",
    "\n",
    "print(are_close)"
   ]
  }
 ],
 "metadata": {
  "kernelspec": {
   "display_name": "base",
   "language": "python",
   "name": "python3"
  },
  "language_info": {
   "codemirror_mode": {
    "name": "ipython",
    "version": 3
   },
   "file_extension": ".py",
   "mimetype": "text/x-python",
   "name": "python",
   "nbconvert_exporter": "python",
   "pygments_lexer": "ipython3",
   "version": "3.11.5"
  }
 },
 "nbformat": 4,
 "nbformat_minor": 5
}
