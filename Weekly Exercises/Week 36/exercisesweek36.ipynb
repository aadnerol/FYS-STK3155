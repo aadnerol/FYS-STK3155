{
 "cells": [
  {
   "cell_type": "markdown",
   "id": "9dd8f8d0",
   "metadata": {},
   "source": [
    "# Exercises week 36\n",
    "\n",
    "## Deriving and Implementing Ridge Regression"
   ]
  },
  {
   "cell_type": "markdown",
   "id": "e5cc5739",
   "metadata": {},
   "source": [
    "## Learning goals\n",
    "\n",
    "After completing these exercises, you will know how to\n",
    "- Take more derivatives of simple products between vectors and matrices\n",
    "- Implement Ridge regression using the analytical expressions\n",
    "- Scale data appropriately for linear regression\n",
    "- Evaluate a model across two different hyperparameters"
   ]
  },
  {
   "cell_type": "markdown",
   "id": "427d9b9d",
   "metadata": {},
   "source": [
    "## Exercise 1 - Choice of model and degrees of freedom"
   ]
  },
  {
   "cell_type": "markdown",
   "id": "ff6ebdb5",
   "metadata": {},
   "source": [
    "**a)** How many degrees of freedom does an OLS model fit to the features $x, x^2, x^3$ and the intercept have?\n",
    "\n",
    "**b)** Why is it bad for a model to have too many degrees of freedom?\n",
    "\n",
    "**c)** Why is it bad for a model to have too few degrees of freedom?\n",
    "\n",
    "**d)** Read [chapter 3.4.1 of Hastie et al.'s book](https://link.springer.com/book/10.1007/978-0-387-84858-7). What is the expression for the effective degrees of freedom of the ridge regression fit?\n",
    "\n",
    "**e)** Why might we want to use Ridge regression instead of OLS?\n",
    "\n",
    "**f)** Why migth we want to use OLS instead of Ridge regression?"
   ]
  },
  {
   "cell_type": "markdown",
   "id": "8bbef32d",
   "metadata": {},
   "source": [
    "## Exercise 1 - Answers"
   ]
  },
  {
   "cell_type": "markdown",
   "id": "8ab83fcd",
   "metadata": {},
   "source": [
    "**a)** An OLS model fit to the features $x$, $x^2$, $x^3$ and the intercept will have parameters $\\theta _1, ..., \\theta _4$. So the model including the intercept has 4 degrees of freedom."
   ]
  },
  {
   "cell_type": "markdown",
   "id": "b57f5699",
   "metadata": {},
   "source": [
    "**b)** Too many degrees of freedom can cause a variety of issues. The most important issues are overfitting and interpretability loss. Overfitting causes a model to be a perfect fit for the training data, but nothing is generalized from the data. So if we want to predict data that is not in the training data, we can get a huge prediction error. Interpretability loss means that if we have many parameters (degrees of freedom), it is difficult to interpret the physical meaning of each parameter. "
   ]
  },
  {
   "cell_type": "markdown",
   "id": "df520966",
   "metadata": {},
   "source": [
    "**c)** Too few degrees of freedom can cause underfitting. This means that the model is biased, so predictions are systematically wrong in the same direction. The model is too simple to capture the structure of the data. This means that the model does not explain enough. "
   ]
  },
  {
   "cell_type": "markdown",
   "id": "3bd6a151",
   "metadata": {},
   "source": [
    "**d)** The expression for the effective degrees of freedom of the ridge regression fit is:\n",
    "$$\n",
    "df(\\lambda) = \\sum_{j=1}^{p}\\frac{d_j^2}{d_j^2 + \\lambda},\n",
    "$$\n",
    "where $d_j^2$ are the eigenvalues (squared singular values) of X. This expression does not include the intercept, so if we include the intercept, the expression becomes:\n",
    "$$\n",
    "(\\sum_{j=1}^{p}\\frac{d_j^2}{d_j^2 + \\lambda} )+ 1\n",
    "$$"
   ]
  },
  {
   "cell_type": "markdown",
   "id": "871567f6",
   "metadata": {},
   "source": [
    "**e)** There are multiple reasons. Ridge regression intruduces an extra element on the diagonal on the matrix $(X^TX)$, so the matrix becomes non-singular and you can compute its inverse. In addition, Ridge regression controls overfitting. "
   ]
  },
  {
   "cell_type": "markdown",
   "id": "d3429edc",
   "metadata": {},
   "source": [
    "**f)** The OLS gives an unbiased estimate, while the Ridge regression are biased (variance/bias-tradeoff). In addition, the parameters in OLS are easy and intuitive to interpret. "
   ]
  },
  {
   "cell_type": "markdown",
   "id": "a78b2ce2",
   "metadata": {},
   "source": [
    "## Exercise 2 - Deriving the expression for Ridge Regression\n",
    "\n",
    "The aim here is to derive the expression for the optimal parameters using Ridge regression.\n",
    "\n",
    "The expression for the standard Mean Squared Error (MSE) which we used to define our cost function and the equations for the ordinary least squares (OLS) method, was given by the optimization problem"
   ]
  },
  {
   "cell_type": "markdown",
   "id": "93a7ad16",
   "metadata": {},
   "source": [
    "$$\n",
    "{\\displaystyle \\min_{\\boldsymbol{\\beta}\\in {\\mathbb{R}}^{p}}}\\frac{1}{n}\\left\\{\\left(\\boldsymbol{y}-\\boldsymbol{X}\\boldsymbol{\\beta}\\right)^T\\left(\\boldsymbol{y}-\\boldsymbol{X}\\boldsymbol{\\beta}\\right)\\right\\}.\n",
    "$$"
   ]
  },
  {
   "cell_type": "markdown",
   "id": "6b182c01",
   "metadata": {},
   "source": [
    "By minimizing the above equation with respect to the parameters $\\boldsymbol{\\beta}$ we could then obtain an analytical expression for the parameters $\\boldsymbol{\\hat\\beta_{OLS}}$.\n",
    "\n",
    "We can add a regularization parameter $\\lambda$ by\n",
    "defining a new cost function to be optimized, that is"
   ]
  },
  {
   "cell_type": "markdown",
   "id": "fb065daf",
   "metadata": {},
   "source": [
    "$$\n",
    "{\\displaystyle \\min_{\\boldsymbol{\\beta}\\in\n",
    "{\\mathbb{R}}^{p}}}\\frac{1}{n}\\vert\\vert \\boldsymbol{y}-\\boldsymbol{X}\\boldsymbol{\\beta}\\vert\\vert_2^2+\\lambda\\vert\\vert \\boldsymbol{\\beta}\\vert\\vert_2^2\n",
    "$$"
   ]
  },
  {
   "cell_type": "markdown",
   "id": "89ae11e8",
   "metadata": {},
   "source": [
    "which leads to the Ridge regression minimization problem. (One can require as part of the optimization problem that $\\vert\\vert \\boldsymbol{\\beta}\\vert\\vert_2^2\\le t$, where $t$ is a finite number larger than zero. We will not implement that in this course.)"
   ]
  },
  {
   "cell_type": "markdown",
   "id": "456d58d4",
   "metadata": {},
   "source": [
    "### a) Expression for Ridge regression\n",
    "\n",
    "Show that the optimal parameters"
   ]
  },
  {
   "cell_type": "markdown",
   "id": "a5677efd",
   "metadata": {},
   "source": [
    "$$\n",
    "\\hat{\\boldsymbol{\\beta}}_{\\mathrm{Ridge}} = \\left(\\boldsymbol{X}^T\\boldsymbol{X}+\\lambda\\boldsymbol{I}\\right)^{-1}\\boldsymbol{X}^T\\boldsymbol{y},\n",
    "$$"
   ]
  },
  {
   "cell_type": "markdown",
   "id": "e7b08048",
   "metadata": {},
   "source": [
    "with $\\boldsymbol{I}$ being a $p\\times p$ identity matrix.\n",
    "\n",
    "The ordinary least squares result is"
   ]
  },
  {
   "cell_type": "markdown",
   "id": "8bb0e6af",
   "metadata": {},
   "source": [
    "$$\n",
    "\\hat{\\boldsymbol{\\beta}}_{\\mathrm{OLS}} = \\left(\\boldsymbol{X}^T\\boldsymbol{X}\\right)^{-1}\\boldsymbol{X}^T\\boldsymbol{y},\n",
    "$$"
   ]
  },
  {
   "cell_type": "markdown",
   "id": "c74affb1",
   "metadata": {},
   "source": [
    "## Exercise 2 - Answers"
   ]
  },
  {
   "cell_type": "markdown",
   "id": "3653962e",
   "metadata": {},
   "source": [
    "**a)** We start by defining the cost function as:\n",
    "$$\n",
    "C(\\boldsymbol{X}, \\boldsymbol{\\beta}) = \\frac{1}{n} \\vert \\vert \\boldsymbol{y} - \\boldsymbol{X\\beta}\\vert \\vert _2 ^2 + \\lambda\\vert\\vert\\boldsymbol{\\beta}\\vert\\vert _2 ^2\n",
    "$$\n",
    "We then use the definition of the 2-norm to rewrite the cost function as:\n",
    "$$\n",
    "C(\\boldsymbol{X}, \\boldsymbol{\\beta}) = \\frac{1}{n} (\\sum_i(y_i - (X\\beta)_i)^2 + \\lambda \\sum_i\\beta _i ^2) = \\frac{1}{n}((\\boldsymbol{y}-\\boldsymbol{X\\beta})^T(\\boldsymbol{y}-\\boldsymbol{X\\beta}) + \\lambda\\beta ^T \\beta)\n",
    "$$\n",
    "\n",
    "Now, we want to differentiate with respect to $\\beta$. We use the following result from last weeks exercise:\n",
    "$$\n",
    "\\frac{\\partial \\left(\\boldsymbol{x}-\\boldsymbol{A}\\boldsymbol{s}\\right)^T\\left(\\boldsymbol{x}-\\boldsymbol{A}\\boldsymbol{s}\\right)}{\\partial \\boldsymbol{s}} = -2\\left(\\boldsymbol{x}-\\boldsymbol{A}\\boldsymbol{s}\\right)^T\\boldsymbol{A}.\n",
    "$$\n",
    "Differentiating gives:\n",
    "$$\n",
    "\\frac{\\partial C}{\\partial \\boldsymbol{\\beta}}=\\frac{\\partial}{\\partial\\boldsymbol\\beta}(\\frac{1}{n}((\\boldsymbol{y}-\\boldsymbol{X\\beta})^T(\\boldsymbol{y}-\\boldsymbol{X\\beta}) + \\lambda\\beta ^T \\beta)) = \\frac{1}{n}(-2(\\boldsymbol{y}-\\boldsymbol{X\\beta})^T\\boldsymbol{X} + 2\\lambda\\boldsymbol{\\beta}^T) = \\frac{-2}{n}((\\boldsymbol{y}-\\boldsymbol{X\\beta})^T\\boldsymbol{X} - \\lambda\\boldsymbol{\\beta}^T)\n",
    "$$\n",
    "\n",
    "We equate this to zero:\n",
    "$$\n",
    "\\frac{-2}{n}((\\boldsymbol{y}-\\boldsymbol{X\\beta})^T\\boldsymbol{X} - \\lambda\\boldsymbol{\\beta}^T) = 0 \n",
    "$$\n",
    "$$\n",
    "\\Rightarrow (\\boldsymbol{y}-\\boldsymbol{X\\beta})^T\\boldsymbol{X} - \\lambda\\boldsymbol{\\beta}^T = 0\n",
    "$$\n",
    "$$\n",
    "\\Rightarrow (\\boldsymbol{y}-\\boldsymbol{X\\beta})^T\\boldsymbol{X} = \\lambda\\boldsymbol{\\beta}^T\n",
    "$$\n",
    "$$\n",
    "\\Rightarrow (\\boldsymbol{y}^T-\\boldsymbol{\\beta}^T\\boldsymbol{X}^T)\\boldsymbol{X}=\\lambda\\boldsymbol{\\beta}^T\n",
    "$$\n",
    "$$\n",
    "\\Rightarrow \\boldsymbol{y}^T\\boldsymbol{X} - \\boldsymbol{\\beta}^T\\boldsymbol{X}^T\\boldsymbol{X} = \\lambda \\boldsymbol{\\beta}^T\n",
    "$$\n",
    "Transposing both sides gives:\n",
    "$$\n",
    "(\\boldsymbol{y}^T\\boldsymbol{X})^T - (\\boldsymbol{\\beta}^T\\boldsymbol{X}^T\\boldsymbol{X})^T = (\\lambda\\boldsymbol{\\beta}^T)^T\n",
    "$$\n",
    "$$\n",
    "\\Rightarrow \\boldsymbol{X}^T\\boldsymbol{y} - \\boldsymbol{X}^T\\boldsymbol{X}\\boldsymbol{\\beta} = \\lambda \\boldsymbol{\\beta}\n",
    "$$\n",
    "$$\n",
    "\\Rightarrow \\boldsymbol{X}^T\\boldsymbol{y} = \\boldsymbol{X}^T\\boldsymbol{X}\\boldsymbol{\\beta} + \\lambda\\boldsymbol{\\beta}\n",
    "$$\n",
    "$$\n",
    "\\Rightarrow \\boldsymbol{X}^T\\boldsymbol{y} = (\\boldsymbol{X}^T\\boldsymbol{X} + \\lambda \\boldsymbol{I})\\boldsymbol{\\beta}, \n",
    "$$\n",
    "where the $p\\times p$ identity matrix $\\boldsymbol{I}$ ensures that $\\lambda\\boldsymbol{\\beta}$ is treated as a matrix-vector multiplication. Inverting $(\\boldsymbol{X}^T\\boldsymbol{X} + \\lambda \\boldsymbol{I})$, and multiplying both sides by this inverse, gives:\n",
    "$$\n",
    "\\boldsymbol{\\beta} = (\\boldsymbol{X}^T\\boldsymbol{X}+\\lambda\\boldsymbol{I})^{-1}\\boldsymbol{X}^T\\boldsymbol{y}\n",
    "$$\n",
    "\n",
    "The matrix $(\\boldsymbol{X}^T\\boldsymbol{X} + \\lambda \\boldsymbol{I})$ is invertible because of the parameter $\\lambda$ being added on to all diagonal elements. "
   ]
  },
  {
   "cell_type": "markdown",
   "id": "2faaae78",
   "metadata": {},
   "source": [
    "## Exercise 3 - Scaling data"
   ]
  },
  {
   "cell_type": "code",
   "execution_count": 57,
   "id": "8ed79466",
   "metadata": {},
   "outputs": [],
   "source": [
    "import numpy as np\n",
    "import matplotlib.pyplot as plt\n",
    "from sklearn.model_selection import train_test_split\n",
    "from sklearn.preprocessing import StandardScaler"
   ]
  },
  {
   "cell_type": "code",
   "execution_count": 58,
   "id": "59d6f347",
   "metadata": {},
   "outputs": [],
   "source": [
    "n = 100\n",
    "x = np.linspace(-3, 3, n)\n",
    "y = np.exp(-x**2) + 1.5 * np.exp(-(x-2)**2) + np.random.normal(0, 0.1)"
   ]
  },
  {
   "cell_type": "markdown",
   "id": "c9fc9fe0",
   "metadata": {},
   "source": [
    "**a)** Adapt your function from last week to only include the intercept column if the boolean argument `intercept` is set to true."
   ]
  },
  {
   "cell_type": "code",
   "execution_count": 59,
   "id": "5aa9c86d",
   "metadata": {},
   "outputs": [],
   "source": [
    "def polynomial_features(x, p, intercept=False):\n",
    "    n = len(x)\n",
    "    # Condition on intercept:\n",
    "    if intercept==True:\n",
    "        X = np.zeros((n, p + 1))\n",
    "        for i in range(p+1):\n",
    "            X[:, i] = x ** i\n",
    "            # First column becomes ones because for all x, x**i = 1 when i=0.\n",
    "    else: \n",
    "        X = np.zeros((n, p))\n",
    "        for i in range(p):\n",
    "            X[:, i] = x ** (i+1)\n",
    "    \n",
    "    return X "
   ]
  },
  {
   "cell_type": "code",
   "execution_count": 60,
   "id": "fca571f2",
   "metadata": {},
   "outputs": [
    {
     "data": {
      "text/plain": [
       "'\\nX_intercept = polynomial_features(x, 3, intercept=True)\\nX_notintercept = polynomial_features(x, 3)\\nprint(X_intercept)\\nprint(X_notintercept)\\n'"
      ]
     },
     "execution_count": 60,
     "metadata": {},
     "output_type": "execute_result"
    }
   ],
   "source": [
    "#Printing feature matrix with and without intercept (testing)\n",
    "\"\"\"\n",
    "X_intercept = polynomial_features(x, 3, intercept=True)\n",
    "X_notintercept = polynomial_features(x, 3)\n",
    "print(X_intercept)\n",
    "print(X_notintercept)\n",
    "\"\"\""
   ]
  },
  {
   "cell_type": "markdown",
   "id": "c5924634",
   "metadata": {},
   "source": [
    "**b)** Split your data into training and test data(80/20 split)"
   ]
  },
  {
   "cell_type": "code",
   "execution_count": 61,
   "id": "676541e7",
   "metadata": {},
   "outputs": [],
   "source": [
    "X = polynomial_features(x, 3)"
   ]
  },
  {
   "cell_type": "code",
   "execution_count": 62,
   "id": "f895606f",
   "metadata": {},
   "outputs": [],
   "source": [
    "X_train, X_test, y_train, y_test = train_test_split(X, y, test_size=0.2)\n",
    "x_train = X_train[:, 0] # These are used for plotting\n",
    "x_test = X_test[:, 0] # These are used for plotting"
   ]
  },
  {
   "cell_type": "markdown",
   "id": "a58f05ad",
   "metadata": {},
   "source": [
    "**c)** Scale your design matrix with the sklearn standard scaler, though based on the mean and standard deviation of the training data only."
   ]
  },
  {
   "cell_type": "code",
   "execution_count": 63,
   "id": "0c07995a",
   "metadata": {},
   "outputs": [],
   "source": [
    "scaler = StandardScaler()\n",
    "scaler.fit(X_train)\n",
    "X_train_s = scaler.transform(X_train)\n",
    "X_test_s = scaler.transform(X_test)\n",
    "y_offset = np.mean(y_train)"
   ]
  },
  {
   "cell_type": "markdown",
   "id": "63b86003",
   "metadata": {},
   "source": [
    "## Exercise 4 - Implementing Ridge Regression"
   ]
  },
  {
   "cell_type": "markdown",
   "id": "a2f52ef2",
   "metadata": {},
   "source": [
    "**a)** Implement a function for computing the optimal Ridge parameters using the expression from **2a)**."
   ]
  },
  {
   "cell_type": "code",
   "execution_count": 64,
   "id": "69f19bde",
   "metadata": {},
   "outputs": [],
   "source": [
    "def Ridge_parameters(X, y, lam = 1.0):\n",
    "    # Assumes X is scaled and has no intercept column\n",
    "    p = X.shape[1]\n",
    "    return np.linalg.pinv((X.T @ X)+ lam*np.eye(p)) @ X.T @ y\n",
    "\n",
    "beta = Ridge_parameters(X_train_s, y_train)\n",
    "#print(beta)"
   ]
  },
  {
   "cell_type": "markdown",
   "id": "626c81ba",
   "metadata": {},
   "source": [
    "**b)** Fit a model to the data, and plot the prediction using both the training and test x-values extracted before scaling, and the y_offset."
   ]
  },
  {
   "cell_type": "code",
   "execution_count": 65,
   "id": "f9ba0655",
   "metadata": {},
   "outputs": [
    {
     "data": {
      "image/png": "[encoded data removed]",
      "text/plain": [
       "<Figure size 640x480 with 1 Axes>"
      ]
     },
     "metadata": {},
     "output_type": "display_data"
    }
   ],
   "source": [
    "plt.plot(x, y, label = \"Input data\", color=\"green\")\n",
    "plt.scatter(x_train, X_train_s @ beta + y_offset, label=\"Predicted y values, training x-values\")\n",
    "plt.scatter(x_test, X_test_s @ beta + y_offset, label=\"Predicted y values, testing x-values\")\n",
    "plt.legend()\n",
    "plt.show()"
   ]
  },
  {
   "cell_type": "markdown",
   "id": "2993cfae",
   "metadata": {},
   "source": [
    "## Exercise 5 - Testing multiple hyperparameters"
   ]
  },
  {
   "cell_type": "markdown",
   "id": "e6cdc89a",
   "metadata": {},
   "source": [
    "**a)** Compute the MSE of your ridge model for polynomials of degrees 1 to 5 with lambda set to 0.01. Plot the MSE as a function of polynomial degree.\n",
    "\n",
    "**b)** Compute the MSE of your ridge model for a polynomial with degree 3, and with lambdas from $10^{-1}$ to $10^{-5}$ on a logarithmic scale. Plot the MSE as a function of lambda.\n",
    "\n",
    "**c)** Compute the MSE of your ridge model for polynomials of degrees 1 to 5, and with lambdas from $10^{-1}$ to $10^{-5}$ on a logarithmic scale. Plot the MSE as a function of polynomial degree and lambda using a [heatmap](https://matplotlib.org/stable/gallery/images_contours_and_fields/image_annotated_heatmap.html)."
   ]
  },
  {
   "cell_type": "markdown",
   "id": "5da0c4d9",
   "metadata": {},
   "source": [
    "## Exercise 5 - Answers"
   ]
  },
  {
   "cell_type": "markdown",
   "id": "b9846b9d",
   "metadata": {},
   "source": [
    "**a)**"
   ]
  },
  {
   "cell_type": "code",
   "execution_count": 68,
   "id": "ae985e85",
   "metadata": {},
   "outputs": [
    {
     "name": "stdout",
     "output_type": "stream",
     "text": [
      "[0. 0. 0. 0. 0.]\n"
     ]
    },
    {
     "data": {
      "image/png": "[encoded data removed]",
      "text/plain": [
       "<Figure size 640x480 with 1 Axes>"
      ]
     },
     "metadata": {},
     "output_type": "display_data"
    }
   ],
   "source": [
    "from sklearn.metrics import mean_squared_error\n",
    "# Define lambda\n",
    "lam = 0.01\n",
    "degrees = np.arange(1, 6)\n",
    "# MSE computed on test data\n",
    "MSE = np.zeros(len(degrees))\n",
    "print(MSE)\n",
    "\n",
    "# Split data (not splitting the feature matries as in the last task)\n",
    "x_train, x_test, y_train, y_test = train_test_split(x, y, test_size=0.2)\n",
    "\n",
    "\n",
    "for i in degrees:\n",
    "    # Make feature matrices\n",
    "    X_train = polynomial_features(x_train, i)\n",
    "    X_test = polynomial_features(x_test, i)\n",
    "    # Scale data\n",
    "    scaler = StandardScaler()\n",
    "    scaler.fit(X_train)\n",
    "    X_train_s = scaler.transform(X_train)\n",
    "    X_test_s = scaler.transform(X_test)\n",
    "    y_offset = np.mean(y_train)\n",
    "    \n",
    "    # Estimate parameters\n",
    "    beta = Ridge_parameters(X_train_s, y_train, lam)\n",
    "    # Predict on test data\n",
    "    y_test_pred = X_test_s @ beta + y_offset\n",
    "    # Compute MSE on test data\n",
    "    MSE[i-1] = mean_squared_error(y_test, y_test_pred)\n",
    "\n",
    "# Plotting\n",
    "plt.plot(degrees, MSE, marker=\"o\", label=\"MSE Ridge model (test data)\")\n",
    "plt.xlabel(\"Polynomial degree\")\n",
    "plt.ylabel(\"MSE, predicting on test data\")\n",
    "plt.legend()\n",
    "plt.show()\n",
    "    "
   ]
  }
 ],
 "metadata": {
  "kernelspec": {
   "display_name": "base",
   "language": "python",
   "name": "python3"
  },
  "language_info": {
   "codemirror_mode": {
    "name": "ipython",
    "version": 3
   },
   "file_extension": ".py",
   "mimetype": "text/x-python",
   "name": "python",
   "nbconvert_exporter": "python",
   "pygments_lexer": "ipython3",
   "version": "3.11.5"
  }
 },
 "nbformat": 4,
 "nbformat_minor": 5
}
