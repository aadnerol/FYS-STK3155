{
 "cells": [
  {
   "cell_type": "markdown",
   "id": "1da77599",
   "metadata": {},
   "source": [
    "# Exercises week 38\n",
    "\n",
    "## September 15-19\n",
    "\n",
    "## Resampling and the Bias-Variance Trade-off\n"
   ]
  },
  {
   "cell_type": "markdown",
   "id": "e9f27b0e",
   "metadata": {},
   "source": [
    "### Learning goals\n",
    "\n",
    "After completing these exercises, you will know how to\n",
    "\n",
    "- Derive expectation and variances values related to linear regression\n",
    "- Compute expectation and variances values related to linear regression\n",
    "- Compute and evaluate the trade-off between bias and variance of a model\n",
    "\n",
    "### Deliverables\n",
    "\n",
    "Complete the following exercises while working in a jupyter notebook. Then, in canvas, include\n",
    "\n",
    "- The jupyter notebook with the exercises completed\n",
    "- An exported PDF of the notebook (https://code.visualstudio.com/docs/datascience/jupyter-notebooks#_export-your-jupyter-notebook)\n"
   ]
  },
  {
   "cell_type": "markdown",
   "id": "984af8e3",
   "metadata": {},
   "source": [
    "## Use the books!\n",
    "\n",
    "This week deals with various mean values and variances in linear regression methods (here it may be useful to look up chapter 3, equation (3.8) of [Trevor Hastie, Robert Tibshirani, Jerome H. Friedman, The Elements of Statistical Learning, Springer](https://www.springer.com/gp/book/9780387848570)).\n",
    "\n",
    "For more discussions on Ridge regression and calculation of expectation values, [Wessel van Wieringen's](https://arxiv.org/abs/1509.09169) article is highly recommended.\n",
    "\n",
    "The exercises this week are also a part of project 1 and can be reused in the theory part of the project.\n",
    "\n",
    "### Definitions\n",
    "\n",
    "We assume that there exists a continuous function $f(\\boldsymbol{x})$ and a normal distributed error $\\boldsymbol{\\varepsilon}\\sim N(0, \\sigma^2)$ which describes our data\n"
   ]
  },
  {
   "cell_type": "markdown",
   "id": "c16f7d0e",
   "metadata": {},
   "source": [
    "$$\n",
    "\\boldsymbol{y} = f(\\boldsymbol{x})+\\boldsymbol{\\varepsilon}\n",
    "$$\n"
   ]
  },
  {
   "cell_type": "markdown",
   "id": "9fcf981a",
   "metadata": {
    "vscode": {
     "languageId": "plaintext"
    }
   },
   "source": [
    "We further assume that this continous function can be modeled with a linear model $\\mathbf{\\tilde{y}}$ of some features $\\mathbf{X}$.\n"
   ]
  },
  {
   "cell_type": "markdown",
   "id": "d4189366",
   "metadata": {},
   "source": [
    "$$\n",
    "\\boldsymbol{y} = \\boldsymbol{\\tilde{y}} + \\boldsymbol{\\varepsilon} = \\boldsymbol{X}\\boldsymbol{\\beta} +\\boldsymbol{\\varepsilon}\n",
    "$$\n"
   ]
  },
  {
   "cell_type": "markdown",
   "id": "f4fca21b",
   "metadata": {},
   "source": [
    "We therefore get that our data $\\boldsymbol{y}$ has an expectation value $\\boldsymbol{X}\\boldsymbol{\\beta}$ and variance $\\sigma^2$, that is $\\boldsymbol{y}$ follows a normal distribution with mean value $\\boldsymbol{X}\\boldsymbol{\\beta}$ and variance $\\sigma^2$.\n"
   ]
  },
  {
   "cell_type": "markdown",
   "id": "5de0c7e6",
   "metadata": {},
   "source": [
    "## Exercise 1: Expectation values for ordinary least squares expressions\n"
   ]
  },
  {
   "cell_type": "markdown",
   "id": "d878c699",
   "metadata": {},
   "source": [
    "**a)** With the expressions for the optimal parameters $\\boldsymbol{\\hat{\\beta}_{OLS}}$ show that\n"
   ]
  },
  {
   "cell_type": "markdown",
   "id": "08b7007d",
   "metadata": {},
   "source": [
    "$$\n",
    "\\mathbb{E}(\\boldsymbol{\\hat{\\beta}_{OLS}}) = \\boldsymbol{\\beta}.\n",
    "$$\n"
   ]
  },
  {
   "cell_type": "markdown",
   "id": "46e93394",
   "metadata": {},
   "source": [
    "**b)** Show that the variance of $\\boldsymbol{\\hat{\\beta}_{OLS}}$ is\n"
   ]
  },
  {
   "cell_type": "markdown",
   "id": "be1b65be",
   "metadata": {},
   "source": [
    "$$\n",
    "\\mathbf{Var}(\\boldsymbol{\\hat{\\beta}_{OLS}}) = \\sigma^2 \\, (\\mathbf{X}^{T} \\mathbf{X})^{-1}.\n",
    "$$\n"
   ]
  },
  {
   "cell_type": "markdown",
   "id": "d2143684",
   "metadata": {},
   "source": [
    "We can use the last expression when we define a [confidence interval](https://en.wikipedia.org/wiki/Confidence_interval) for the parameters $\\boldsymbol{\\hat{\\beta}_{OLS}}$.\n",
    "A given parameter ${\\boldsymbol{\\hat{\\beta}_{OLS}}}_j$ is given by the diagonal matrix element of the above matrix.\n"
   ]
  },
  {
   "cell_type": "markdown",
   "id": "13cfc714",
   "metadata": {},
   "source": [
    "## Exercise 1: Answers\n",
    "**a)** The expression for the optimal parameters $\\boldsymbol{\\hat{\\beta}_{OLS}}$ is: \n",
    "$$\n",
    "\\boldsymbol{\\hat{\\beta}_{OLS}} = (\\boldsymbol{X}^T\\boldsymbol{X})^{-1}(\\boldsymbol{X}^T\\boldsymbol{y})\n",
    "$$\n",
    "We want to compute $\\mathbb{E}[\\boldsymbol{\\hat{\\beta}_{OLS}}]$:\n",
    "$$\n",
    "\\mathbb{E}[\\boldsymbol{\\hat{\\beta}_{OLS}}] = \\mathbb{E}[(\\boldsymbol{X}^T\\boldsymbol{X})^{-1}(\\boldsymbol{X}^T\\boldsymbol{y})]=(\\boldsymbol{X}^T\\boldsymbol{X})^{-1}\\boldsymbol{X}^T\\mathbb{E}[\\boldsymbol{y}], \n",
    "$$\n",
    "where we have used the calculation rules of expectation values. The next step is to recall the assumption that $\\boldsymbol{y} = \\boldsymbol{\\tilde{y}} + \\boldsymbol{\\varepsilon} = \\boldsymbol{X}\\boldsymbol{\\beta} +\\boldsymbol{\\varepsilon}$, so the expression can be rewritten as:\n",
    "$$\n",
    "(\\boldsymbol{X}^T\\boldsymbol{X})^{-1}\\boldsymbol{X}^T\\mathbb{E}[\\boldsymbol{X\\beta} + \\epsilon] = (\\boldsymbol{X}^T\\boldsymbol{X})^{-1}\\boldsymbol{X}^T(\\mathbb{E}[\\boldsymbol{X}\\boldsymbol{\\beta}] + \\mathbb{E}[\\epsilon]) = (\\boldsymbol{X}^T\\boldsymbol{X})^{-1}\\boldsymbol{X}^T(\\mathbb{E}[\\boldsymbol{X}\\boldsymbol{\\beta}] + 0) = (\\boldsymbol{X}^T\\boldsymbol{X})^{-1}\\boldsymbol{X}^T\\boldsymbol{X}(\\mathbb{E}[\\boldsymbol{\\beta}]) = \\mathbb{E}[\\boldsymbol{\\beta}]=\\boldsymbol{\\beta},\n",
    "$$\n",
    "where we have used that $\\epsilon$ is normal distributed with expectation 0."
   ]
  },
  {
   "cell_type": "markdown",
   "id": "d7768fb9",
   "metadata": {},
   "source": [
    "**b)**\n",
    "\n",
    "The variance of $\\boldsymbol{\\hat{\\beta}_{OLS}}$ can be written as:\n",
    "$$\n",
    "\\mathbf{Var}(\\boldsymbol{\\hat{\\beta}_{OLS}}) = \\mathbb{E}[(\\boldsymbol{\\hat{\\beta}_{OLS}}-\\mathbb{E}[\\boldsymbol{\\hat{\\beta}_{OLS}}])^2]\n",
    "$$\n",
    "Using the expression for the optimal parameters $\\boldsymbol{\\hat{\\beta}_{OLS}}$, and the result from a), we get:\n",
    "$$\n",
    "\\mathbb{E}[((\\boldsymbol{X}^T\\boldsymbol{X})^{-1}(\\boldsymbol{X}^T\\boldsymbol{y})-\\boldsymbol{\\beta})^2] = \\mathbb{E}[((\\boldsymbol{X}^T\\boldsymbol{X})^{-1}(\\boldsymbol{X}^T(\\boldsymbol{X\\beta} + \\epsilon))-\\boldsymbol{\\beta})^2] = \\mathbb{E}[((\\boldsymbol{X}^T\\boldsymbol{X})^{-1}(\\boldsymbol{X}^T\\boldsymbol{X})\\boldsymbol{\\beta} + (\\boldsymbol{X}^T\\boldsymbol{X})^{-1}\\boldsymbol{X}^T\\epsilon - \\boldsymbol{\\beta})^2] = \\mathbb{E}[(\\boldsymbol{\\beta}-\\boldsymbol{\\beta} + (\\boldsymbol{X}^T\\boldsymbol{X})^{-1}\\boldsymbol{X}^T\\epsilon)^2] = \\mathbb{E}[((\\boldsymbol{X}^T\\boldsymbol{X})^{-1}\\boldsymbol{X}^T\\epsilon)^2]\n",
    "$$\n",
    "\n",
    "Squaring the matrix gives (we neglect $\\epsilon$ for now):\n",
    "$$\n",
    "(\\boldsymbol{X}^T\\boldsymbol{X})^{-1}\\boldsymbol{X}^T((\\boldsymbol{X}^T\\boldsymbol{X})^{-1}\\boldsymbol{X}^T)^T = (\\boldsymbol{X}^T\\boldsymbol{X})^{-1}\\boldsymbol{X}^T\\boldsymbol{X}((\\boldsymbol{X}^T\\boldsymbol{X})^{-1})^T = ((\\boldsymbol{X}^T\\boldsymbol{X})^{-1})^T = ((\\boldsymbol{X}\\boldsymbol{X}^T)^{-1})^T = (\\boldsymbol{X}^T\\boldsymbol{X})^{-1}\n",
    "$$\n",
    "\n",
    "Now we consider $\\epsilon$. After squaring the matrix, the expression becomes:\n",
    "$$\n",
    "\\mathbb{E}[(\\boldsymbol{X}^T\\boldsymbol{X})^{-1}\\epsilon^2] = (\\boldsymbol{X}^T\\boldsymbol{X})^{-1}\\mathbb{E}[\\epsilon^2] = (\\boldsymbol{X}^T\\boldsymbol{X})^{-1}\\sigma^2,\n",
    "$$\n",
    "since the expectation of $\\epsilon^2$ is the variance of $\\epsilon$, because $\\epsilon$ has mean 0. "
   ]
  },
  {
   "cell_type": "markdown",
   "id": "f5c2dc22",
   "metadata": {},
   "source": [
    "## Exercise 2: Expectation values for Ridge regression\n"
   ]
  },
  {
   "cell_type": "markdown",
   "id": "3893e3e7",
   "metadata": {},
   "source": [
    "**a)** With the expressions for the optimal parameters $\\boldsymbol{\\hat{\\beta}_{Ridge}}$ show that\n"
   ]
  },
  {
   "cell_type": "markdown",
   "id": "79dc571f",
   "metadata": {},
   "source": [
    "$$\n",
    "\\mathbb{E} \\big[ \\hat{\\boldsymbol{\\beta}}^{\\mathrm{Ridge}} \\big]=(\\mathbf{X}^{T} \\mathbf{X} + \\lambda \\mathbf{I}_{pp})^{-1} (\\mathbf{X}^{\\top} \\mathbf{X})\\boldsymbol{\\beta}\n",
    "$$\n"
   ]
  },
  {
   "cell_type": "markdown",
   "id": "028209a1",
   "metadata": {},
   "source": [
    "We see that $\\mathbb{E} \\big[ \\hat{\\boldsymbol{\\beta}}^{\\mathrm{Ridge}} \\big] \\not= \\mathbb{E} \\big[\\hat{\\boldsymbol{\\beta}}^{\\mathrm{OLS}}\\big ]$ for any $\\lambda > 0$.\n"
   ]
  },
  {
   "cell_type": "markdown",
   "id": "b4e721fc",
   "metadata": {},
   "source": [
    "**b)** Show that the variance is\n"
   ]
  },
  {
   "cell_type": "markdown",
   "id": "090eb1e1",
   "metadata": {},
   "source": [
    "$$\n",
    "\\mathbf{Var}[\\hat{\\boldsymbol{\\beta}}^{\\mathrm{Ridge}}]=\\sigma^2[  \\mathbf{X}^{T} \\mathbf{X} + \\lambda \\mathbf{I} ]^{-1}  \\mathbf{X}^{T}\\mathbf{X} \\{ [  \\mathbf{X}^{\\top} \\mathbf{X} + \\lambda \\mathbf{I} ]^{-1}\\}^{T}\n",
    "$$\n"
   ]
  },
  {
   "cell_type": "markdown",
   "id": "6b8e8697",
   "metadata": {},
   "source": [
    "We see that if the parameter $\\lambda$ goes to infinity then the variance of the Ridge parameters $\\boldsymbol{\\beta}$ goes to zero.\n"
   ]
  },
  {
   "cell_type": "markdown",
   "id": "01c58b95",
   "metadata": {},
   "source": [
    "### Exercise 2: Answers"
   ]
  },
  {
   "cell_type": "markdown",
   "id": "b6ea7cb0",
   "metadata": {},
   "source": [
    "**a)**\n",
    "\n",
    "The optimal parameters $\\boldsymbol{\\hat{\\beta}_{Ridge}}$ is given by:\n",
    "$$\n",
    "\\boldsymbol{\\hat{\\beta}_{Ridge}} = (\\boldsymbol{X}^T\\boldsymbol{X} + \\lambda \\mathbf{I})^{-1}\\boldsymbol{X}^T\\boldsymbol{y}.\n",
    "$$\n",
    "So the expected value can be written as:\n",
    "$$\n",
    "\\mathbb{E}[\\boldsymbol{\\hat{\\beta}_{Ridge}}] = \\mathbb{E}[(\\boldsymbol{X}^T\\boldsymbol{X} + \\lambda \\mathbf{I})^{-1}\\boldsymbol{X}^T\\boldsymbol{y}] = (\\boldsymbol{X}^T\\boldsymbol{X} + \\lambda \\mathbf{I})^{-1} \\mathbb{E}[(\\boldsymbol{X}^T\\boldsymbol{y}]\n",
    "$$\n",
    "\n",
    "Substituting $\\boldsymbol{y} = \\boldsymbol{X\\beta} + \\epsilon$ gives:\n",
    "$$\n",
    "(\\boldsymbol{X}^T\\boldsymbol{X} + \\lambda \\mathbf{I})^{-1} \\mathbb{E}[\\boldsymbol{X}^T(\\boldsymbol{X\\beta} + \\epsilon)] = (\\boldsymbol{X}^T\\boldsymbol{X} + \\lambda \\mathbf{I})^{-1}(\\boldsymbol{X}^T\\boldsymbol{X}\\mathbb{E}[\\boldsymbol{\\beta}]+\\boldsymbol{X}^T\\mathbb{E}[\\epsilon])\n",
    "$$\n",
    "\n",
    "We know that $\\mathbb{E}[\\boldsymbol{\\beta}]=\\boldsymbol{\\beta}$ and $\\mathbb{E}[\\epsilon] = 0$, so the expression can be re-written as:\n",
    "$$\n",
    "(\\boldsymbol{X}^T\\boldsymbol{X} + \\lambda \\mathbf{I})^{-1}\\boldsymbol{X}^T\\boldsymbol{X}\\boldsymbol{\\beta}\n",
    "$$\n"
   ]
  },
  {
   "cell_type": "markdown",
   "id": "f226ac60",
   "metadata": {},
   "source": [
    "**b)**\n",
    "\n",
    "We start by rewriting the variance in terms of expected values: \n",
    "$$\n",
    "\\mathbf{Var}[\\boldsymbol{\\hat{\\beta}}] = \\mathbb{E}[(\\boldsymbol{\\hat{\\beta}}-\\mathbb{E}[\\boldsymbol{\\hat{\\beta}}])^2]\n",
    "$$\n",
    "We then use the expression for the optimal parameters and the expression obtained in task 2a):\n",
    "$$\n",
    "\\mathbb{E}[((\\boldsymbol{X}^T\\boldsymbol{X}+\\lambda \\mathbf{I})^{-1}\\boldsymbol{X}^T\\boldsymbol{y} - (\\boldsymbol{X}^T\\boldsymbol{X} + \\lambda \\mathbf{I})^{-1}(\\boldsymbol{X}^T\\boldsymbol{X})\\boldsymbol{\\beta})^2]\n",
    "$$\n",
    "We then substitute $\\boldsymbol{y} = \\boldsymbol{X\\beta} + \\epsilon$, and simplify:\n",
    "$$\n",
    "\\mathbb{E}[((\\boldsymbol{X}^T\\boldsymbol{X}+\\lambda \\mathbf{I})^{-1}\\boldsymbol{X}^T(\\boldsymbol{X\\beta} + \\epsilon) - (\\boldsymbol{X}^T\\boldsymbol{X} + \\lambda \\mathbf{I})^{-1}(\\boldsymbol{X}^T\\boldsymbol{X})\\boldsymbol{\\beta})^2] = \\mathbb{E}[((\\boldsymbol{X}^T\\boldsymbol{X} + \\lambda \\mathbf{I})^{-1}\\boldsymbol{X}^T\\epsilon)^2]\n",
    "$$\n",
    "Squaring the matrix and $\\epsilon$ gives:\n",
    "$$\n",
    "\\mathbb{E}[(\\boldsymbol{X}^T\\boldsymbol{X}+\\lambda \\mathbf{I})^{-1}\\boldsymbol{X}^T((\\boldsymbol{X}^T\\boldsymbol{X} + \\lambda \\mathbf{I})^{-1}\\boldsymbol{X}^T)^T \\epsilon^2] = \n",
    "\\mathbb{E}[(\\boldsymbol{X}^T\\boldsymbol{X}+\\lambda \\mathbf{I})^{-1}\\boldsymbol{X}^T\\boldsymbol{X}((\\boldsymbol{X}^T\\boldsymbol{X} + \\lambda \\mathbf{I})^{-1})^T \\epsilon^2] =\n",
    "$$\n",
    "$$\n",
    "(\\boldsymbol{X}^T\\boldsymbol{X}+\\lambda \\mathbf{I})^{-1}\\boldsymbol{X}^T\\boldsymbol{X}((\\boldsymbol{X}^T\\boldsymbol{X} + \\lambda \\mathbf{I})^{-1})^T \\mathbb{E}[\\epsilon^2] = \n",
    "(\\boldsymbol{X}^T\\boldsymbol{X}+\\lambda \\mathbf{I})^{-1}\\boldsymbol{X}^T\\boldsymbol{X}((\\boldsymbol{X}^T\\boldsymbol{X} + \\lambda \\mathbf{I})^{-1})^T \\sigma^2, \n",
    "$$\n",
    "since $\\mathbb{E}[\\epsilon^2]=\\sigma^2$"
   ]
  },
  {
   "cell_type": "markdown",
   "id": "74bc300b",
   "metadata": {},
   "source": [
    "## Exercise 3: Deriving the expression for the Bias-Variance Trade-off\n"
   ]
  },
  {
   "cell_type": "markdown",
   "id": "eeb86010",
   "metadata": {},
   "source": [
    "The aim of this exercise is to derive the equations for the bias-variance tradeoff to be used in project 1.\n",
    "\n",
    "The parameters $\\boldsymbol{\\hat{\\beta}_{OLS}}$ are found by optimizing the mean squared error via the so-called cost function\n"
   ]
  },
  {
   "cell_type": "markdown",
   "id": "522a0d1d",
   "metadata": {},
   "source": [
    "$$\n",
    "C(\\boldsymbol{X},\\boldsymbol{\\beta}) =\\frac{1}{n}\\sum_{i=0}^{n-1}(y_i-\\tilde{y}_i)^2=\\mathbb{E}\\left[(\\boldsymbol{y}-\\boldsymbol{\\tilde{y}})^2\\right]\n",
    "$$\n"
   ]
  },
  {
   "cell_type": "markdown",
   "id": "831db06c",
   "metadata": {},
   "source": [
    "**a)** Show that you can rewrite this into an expression which contains\n",
    "\n",
    "- the variance of the model (the variance term)\n",
    "- the expected deviation of the mean of the model from the true data (the bias term)\n",
    "- the variance of the noise\n",
    "\n",
    "In other words, show that:\n"
   ]
  },
  {
   "cell_type": "markdown",
   "id": "8cc52b3c",
   "metadata": {},
   "source": [
    "$$\n",
    "\\mathbb{E}\\left[(\\boldsymbol{y}-\\boldsymbol{\\tilde{y}})^2\\right]=\\mathrm{Bias}[\\tilde{y}]+\\mathrm{var}[\\tilde{y}]+\\sigma^2,\n",
    "$$\n"
   ]
  },
  {
   "cell_type": "markdown",
   "id": "8cb50416",
   "metadata": {},
   "source": [
    "with\n"
   ]
  },
  {
   "cell_type": "markdown",
   "id": "e49bdbb4",
   "metadata": {},
   "source": [
    "$$\n",
    "\\mathrm{Bias}[\\tilde{y}]=\\mathbb{E}\\left[\\left(\\boldsymbol{y}-\\mathbb{E}\\left[\\boldsymbol{\\tilde{y}}\\right]\\right)^2\\right],\n",
    "$$\n"
   ]
  },
  {
   "cell_type": "markdown",
   "id": "eca5554a",
   "metadata": {},
   "source": [
    "and\n"
   ]
  },
  {
   "cell_type": "markdown",
   "id": "b1054343",
   "metadata": {},
   "source": [
    "$$\n",
    "\\mathrm{var}[\\tilde{y}]=\\mathbb{E}\\left[\\left(\\tilde{\\boldsymbol{y}}-\\mathbb{E}\\left[\\boldsymbol{\\tilde{y}}\\right]\\right)^2\\right]=\\frac{1}{n}\\sum_i(\\tilde{y}_i-\\mathbb{E}\\left[\\boldsymbol{\\tilde{y}}\\right])^2.\n",
    "$$\n",
    "In order to arrive at the equation for the bias, we have to approximate the unknown function $f$ with the output/target values $y$."
   ]
  },
  {
   "cell_type": "markdown",
   "id": "70fbfcd7",
   "metadata": {},
   "source": [
    "**b)** Explain what the terms mean and discuss their interpretations.\n"
   ]
  },
  {
   "cell_type": "markdown",
   "id": "59d4a21a",
   "metadata": {},
   "source": [
    "### Exercise 3: Answers"
   ]
  },
  {
   "cell_type": "markdown",
   "id": "b3748420",
   "metadata": {},
   "source": [
    "**a)** \n",
    "We start by expanding the square in the original expression:\n",
    "$$\n",
    "\\mathbb{E}[(\\boldsymbol{y}-\\boldsymbol{\\tilde{y}})^2]=\\mathbb{E}[\\boldsymbol{y}^2]-2\\mathbb{E}[\\boldsymbol{y}\\boldsymbol{\\tilde{y}}] + \\mathbb{E}[\\boldsymbol{\\tilde{y}}^2]\n",
    "$$\n",
    "We now look at each term, starting with $\\mathbb{E}[\\boldsymbol{y}^2]$:\n",
    "$$\n",
    "\\mathbb{E}[\\boldsymbol{y}^2] = \\mathbb{E}[(f + \\epsilon)^2] = \\mathbb{E}[f^2 + 2f\\epsilon + \\epsilon^2] = \\mathbb{E}[f^2] + 2\\mathbb{E}[f\\epsilon] + \\mathbb{E}[\\epsilon^2]\n",
    "$$\n",
    "We know that $2\\mathbb{E}[f\\epsilon] = 0$ and $\\mathbb{E}[\\epsilon^2] = \\sigma^2$, so we get: \n",
    "$$\n",
    "\\mathbb{E}[\\boldsymbol{y}^2] = \\mathbb{E}[f^2] + \\sigma^2\n",
    "$$\n",
    "We then consider the term $-2\\mathbb{E}[\\boldsymbol{y}\\boldsymbol{\\tilde{y}}]$:\n",
    "$$\n",
    "-2\\mathbb{E}[\\boldsymbol{y}\\boldsymbol{\\tilde{y}}] = -2\\mathbb{E}[(f+\\epsilon)\\boldsymbol{y}] = -2\\mathbb{E}[f\\boldsymbol{\\tilde{y}}+\\epsilon \\boldsymbol{\\tilde{y}}] = -2(\\mathbb{E}[f\\boldsymbol{\\tilde{y}}] + \\mathbb{E}[\\epsilon \\boldsymbol{\\tilde{y}}])\n",
    "$$\n",
    "We know that $\\mathbb{E}[\\epsilon \\boldsymbol{\\tilde{y}}]=0$, so we get:\n",
    "$$\n",
    "-2\\mathbb{E}[\\boldsymbol{y}\\boldsymbol{\\tilde{y}}] = -2 \\mathbb{E}[f\\boldsymbol{\\tilde{y}}]\n",
    "$$\n",
    "\n",
    "On the last term, we use the relation between expectation values and variance:\n",
    "$$\n",
    "\\mathbb{E}[\\boldsymbol{\\tilde{y}}^2] = \\mathbf{Var}[\\boldsymbol{\\tilde{y}}] + (\\mathbb{E}[\\boldsymbol{\\tilde{y}}])^2\n",
    "$$\n",
    "\n",
    "Gathering all the terms gives:\n",
    "$$\n",
    "\\mathbb{E}[(\\boldsymbol{y}-\\boldsymbol{\\tilde{y}})^2] = \\mathbb{E}[f^2] + \\sigma^2 -2 \\mathbb{E}[f\\boldsymbol{\\tilde{y}}] + \\mathbf{Var}[\\boldsymbol{\\tilde{y}}] + (\\mathbb{E}[\\boldsymbol{\\tilde{y}}])^2\n",
    "$$\n",
    "$$\n",
    "= \\mathbb{E}[(f-\\mathbb{E}[\\boldsymbol{\\tilde{y}}])^2] + \\mathbf{Var}[\\boldsymbol{\\tilde{y}}] + \\sigma^2 \n",
    "$$\n",
    "$$\n",
    "= \\mathbf{Bias}[\\boldsymbol{\\tilde{y}}] + \\mathbf{Var}[\\boldsymbol{\\tilde{y}}] + \\sigma^2\n",
    "$$"
   ]
  },
  {
   "cell_type": "markdown",
   "id": "1c6c11a6",
   "metadata": {},
   "source": [
    "**b)**\n",
    "\n",
    "The terms stands for the bias of the predictions compared to the target, the variance of the predictions compared to the target, and the variance of the noise in the input data (the variance of $\\epsilon$). If we think of the target as a target on a shooting range, and the predictions as shots fired, we can explain the terms in the following way: \n",
    "A high bias means that the mean value of all our shots lie far away from the center of the target. If the variance is small, we can correct this by adjusting the sight (adjusting the model). A high variance means that the shots are scattered, and not gathered around a point. If we want to reduce the scatter, we need to train more (reduce the variance by training the model more)."
   ]
  },
  {
   "cell_type": "markdown",
   "id": "b8f8b9d1",
   "metadata": {},
   "source": [
    "## Exercise 4: Computing the Bias and Variance\n"
   ]
  },
  {
   "cell_type": "markdown",
   "id": "9e012430",
   "metadata": {},
   "source": [
    "Before you compute the bias and variance of a real model for different complexities, let's for now assume that you have sampled predictions and targets for a single model complexity using bootstrap resampling.\n",
    "\n",
    "**a)** Using the expression above, compute the mean squared error, bias and variance of the given data. Check that the sum of the bias and variance correctly gives (approximately) the mean squared error.\n"
   ]
  },
  {
   "cell_type": "code",
   "execution_count": 1,
   "id": "b5bf581c",
   "metadata": {},
   "outputs": [
    {
     "name": "stdout",
     "output_type": "stream",
     "text": [
      "Bias:  210.58779586411154\n",
      "Variance:  8.289633669793657\n",
      "MSE:  218.95151017978932\n",
      "Variance + bias:  218.8774295339052\n"
     ]
    }
   ],
   "source": [
    "import numpy as np\n",
    "\n",
    "n = 100\n",
    "bootstraps = 1000\n",
    "\n",
    "predictions = np.random.rand(bootstraps, n) * 10 + 10\n",
    "targets = np.random.rand(bootstraps, n)\n",
    "\n",
    "\n",
    "# Compute MSE\n",
    "mse = np.mean((predictions-targets)**2)\n",
    "# Compute bias\n",
    "pred_mean = np.mean(predictions, axis = 0)\n",
    "target_mean = np.mean(targets, axis = 0)\n",
    "bias = np.mean((pred_mean - target_mean)**2)\n",
    "# Compute variance\n",
    "var_per_point = np.mean((predictions - pred_mean)**2, axis = 0)\n",
    "variance = np.mean(var_per_point)\n",
    "\n",
    "### Printing, and checking that bias + variance is approx. = mse\n",
    "print(\"Bias: \", bias)\n",
    "print(\"Variance: \", variance)\n",
    "print(\"MSE: \", mse)\n",
    "print(\"Variance + bias: \", variance + bias)"
   ]
  },
  {
   "cell_type": "markdown",
   "id": "7b1dc621",
   "metadata": {},
   "source": [
    "**b)** Change the prediction values in some way to increase the bias while decreasing the variance.\n",
    "\n",
    "**c)** Change the prediction values in some way to increase the variance while decreasing the bias.\n"
   ]
  },
  {
   "cell_type": "markdown",
   "id": "fbcaaa47",
   "metadata": {},
   "source": [
    "### Answers a-c\n",
    "**a)** The sum of bias and variance is approximately equal to the MSE. \n",
    "\n",
    "**b)** Increasing the offset (the constant at the end of the prediction term) while decreasing the amplitude of the noise results in increased bias and reduced variance: \n",
    "\n",
    "Amplitude = 0.1, offset = 100 results in bias = 9909 and variance = 0.0008\n",
    "\n",
    "**c)** Increasing the amplitude of the noise while decreasing the offset results in increased variance and decreased bias:\n",
    "\n",
    "\n",
    "Amplitude = 15, offset = 5 results in bias = 144 and variance = 18.77\n"
   ]
  },
  {
   "cell_type": "markdown",
   "id": "8da63362",
   "metadata": {},
   "source": [
    "**d)** Perform a bias-variance analysis of a polynomial OLS model fit to a one-dimensional function by computing and plotting the bias and variances values as a function of the polynomial degree of your model.\n"
   ]
  },
  {
   "cell_type": "code",
   "execution_count": 2,
   "id": "dd5855e4",
   "metadata": {},
   "outputs": [],
   "source": [
    "import numpy as np\n",
    "import matplotlib.pyplot as plt\n",
    "from sklearn.preprocessing import (\n",
    "    PolynomialFeatures,\n",
    ")  # use the fit_transform method of the created object!\n",
    "from sklearn.linear_model import LinearRegression\n",
    "from sklearn.metrics import mean_squared_error\n",
    "from sklearn.model_selection import train_test_split\n",
    "from sklearn.utils import resample"
   ]
  },
  {
   "cell_type": "code",
   "execution_count": 10,
   "id": "4d8b598f",
   "metadata": {},
   "outputs": [
    {
     "data": {
      "image/png": "[encoded data removed]",
      "text/plain": [
       "<Figure size 340.39x210.377 with 1 Axes>"
      ]
     },
     "metadata": {},
     "output_type": "display_data"
    }
   ],
   "source": [
    "n = 100\n",
    "bootstraps = 1000\n",
    "\n",
    "# Define the function without the noise\n",
    "def f(x):\n",
    "    return np.exp(-(x**2)) + 1.5 * np.exp(-((x - 2) ** 2))\n",
    "\n",
    "x = np.linspace(-3, 3, n)\n",
    "y = f(x) + np.random.normal(0, 0.1, size=n)\n",
    "\n",
    "biases = []\n",
    "variances = []\n",
    "mses = []\n",
    "\n",
    "x = x.reshape(-1, 1)\n",
    "deg_min = 1\n",
    "deg_max = 10\n",
    "\n",
    "# Fixed train/test-split used on all degrees for comparable results\n",
    "x_train, x_test, y_train, y_test = train_test_split(\n",
    "    x, y, test_size=0.2, random_state=123)\n",
    "n_test_points = len(y_test)\n",
    "n_train_points = len(y_train)\n",
    "\n",
    "# noiseless target on the fixed test inputs (for bias only)\n",
    "f_test = f(x_test.ravel())\n",
    "\n",
    "for p in range(deg_min, deg_max + 1):\n",
    "    # Make polynomial features\n",
    "    poly_features = PolynomialFeatures(degree=p)\n",
    "\n",
    "    # Built design matrix (fixed train/test-split)\n",
    "    X_train = poly_features.fit_transform(x_train)\n",
    "    X_test  = poly_features.transform(x_test)\n",
    "\n",
    "    # Make array for predictions\n",
    "    predictions = np.zeros((bootstraps, n_test_points))\n",
    "    # Define targets (noisy) for MSE\n",
    "    target = y_test\n",
    "\n",
    "    for b in range(bootstraps):\n",
    "        # Make bootstrap sample\n",
    "        X_train_re, y_train_re = resample(\n",
    "            X_train, y_train, n_samples=n_train_points, random_state=b\n",
    "        )\n",
    "        # Fit model on the sample data:\n",
    "        poly_model = LinearRegression(fit_intercept=False).fit(X_train_re, y_train_re)\n",
    "        # Make predictions on test data:\n",
    "        poly_predict = poly_model.predict(X_test)\n",
    "        # Add predictions to array\n",
    "        predictions[b, :] = poly_predict\n",
    "\n",
    "    # Calculate bias against the noiseless function on the fixed test inputs\n",
    "    pred_mean = np.mean(predictions, axis=0)\n",
    "    biases.append(np.mean((pred_mean - f_test)**2))\n",
    "\n",
    "    # Calculate variance (per test point over bootstraps, then average)\n",
    "    var_per_point = np.mean((predictions - pred_mean)**2, axis=0)\n",
    "    variances.append(np.mean(var_per_point))\n",
    "\n",
    "    # Calculate MSE against the noisy targets\n",
    "    mses.append(np.mean((predictions - target)**2))\n",
    "\n",
    "# Plotting results\n",
    "\n",
    "# ---- Sett LaTeX-font og størrelser til å matche revtex4 (10 pt) ----\n",
    "plt.rcParams.update({\n",
    "    \"text.usetex\": True,       # bruk LaTeX for tekst\n",
    "    \"font.family\": \"serif\",    # Computer Modern Serif\n",
    "    \"font.size\": 10,           # revtex4 default 10 pt\n",
    "    \"axes.labelsize\": 10,\n",
    "    \"xtick.labelsize\": 8,\n",
    "    \"ytick.labelsize\": 8,\n",
    "    \"legend.fontsize\": 8,\n",
    "})\n",
    "\n",
    "# ---- Konverter kolonnebredde fra pt til inches for matplotlib ----\n",
    "pt_per_inch = 72.27\n",
    "columnwidth_pt = 246.0  # fra LaTeX \\columnwidth\n",
    "fig_width_in = columnwidth_pt / pt_per_inch\n",
    "\n",
    "# Valgfri høyde: bruk gyllen ratio eller annen\n",
    "golden_ratio = 1.618\n",
    "fig_height_in = fig_width_in / golden_ratio\n",
    "\n",
    "# ---- Lag figur med riktig bredde ----\n",
    "fig, ax = plt.subplots(figsize=(fig_width_in, fig_height_in))\n",
    "\n",
    "degrees = np.arange(deg_min, deg_max + 1)\n",
    "plt.plot(degrees, variances, marker=\"o\", label=\"Variance\")\n",
    "plt.plot(degrees, biases, marker=\"o\", label=\"Bias\")\n",
    "plt.plot(degrees, mses, marker=\"o\", label=\"Mean squared error\")\n",
    "plt.xlabel(\"Polynomial degree\")\n",
    "plt.ylabel(\"Error\")\n",
    "plt.title(\"Bias-Variance trade-off\")\n",
    "plt.legend()\n",
    "plt.show()\n",
    "\n",
    "fig.tight_layout()\n",
    "fig.savefig(\"bias_variance.pdf\", bbox_inches='tight')\n"
   ]
  },
  {
   "cell_type": "markdown",
   "id": "3813061d",
   "metadata": {},
   "source": [
    "**e)** Discuss the bias-variance trade-off as function of your model complexity (the degree of the polynomial)."
   ]
  },
  {
   "cell_type": "markdown",
   "id": "253b8461",
   "metadata": {},
   "source": [
    "### Exercise 4e: Answers\n",
    "\n",
    "The figure shows the bias-variance trade-off: When the complexity of the model increases, the bias is reduced, while the variance increases. So increasing the model complexity leads to overfitting. When choosing a model complexity, we should try to minimize the MSE, so in this case we should choose a degree between 6 and 8.  \n",
    "\n",
    "\n"
   ]
  },
  {
   "cell_type": "markdown",
   "id": "98a06821",
   "metadata": {},
   "source": [
    "**f)** Compute and discuss the bias and variance as function of the number of data points (choose a suitable polynomial degree to show something interesting)."
   ]
  },
  {
   "cell_type": "code",
   "execution_count": 4,
   "id": "c0acc3dd",
   "metadata": {},
   "outputs": [
    {
     "data": {
      "image/png": "[encoded data removed]",
      "text/plain": [
       "<Figure size 640x480 with 1 Axes>"
      ]
     },
     "metadata": {},
     "output_type": "display_data"
    }
   ],
   "source": [
    "# Define list of n_datapoints:\n",
    "n_datapoints = np.array([30, 40, 60, 90, 100, 150, 200, 250, 300, 400, 500])\n",
    "# Define number of bootstraps:\n",
    "bootstraps = 1000\n",
    "# Define polynomial degree: \n",
    "poly_deg = 5\n",
    "# Define the function without the noise\n",
    "def f(x):\n",
    "    return np.exp(-(x**2)) + 1.5 * np.exp(-((x - 2) ** 2))\n",
    "# Define empty lists of mse, bias and variance:\n",
    "biases = []\n",
    "variances = []\n",
    "mses = []\n",
    "\n",
    "# Looping over n_datapoints: \n",
    "for n in n_datapoints:\n",
    "    # Define x-array\n",
    "    x = np.linspace(-3, 3, n)\n",
    "    # Define target with noise\n",
    "    y = f(x) + np.random.normal(0, 0.1, size=n)\n",
    "    # Reshape x\n",
    "    x = x.reshape(-1, 1)\n",
    "    # Train/test split:\n",
    "    x_train, x_test, y_train, y_test = train_test_split(\n",
    "    x, y, test_size=0.2, random_state=123)\n",
    "    n_test_points = len(y_test)\n",
    "    n_train_points = len(y_train)\n",
    "\n",
    "    # noiseless target on the fixed test inputs (for bias only)\n",
    "    f_test = f(x_test.ravel())\n",
    "    \n",
    "    # Make polynomial features\n",
    "    poly_features = PolynomialFeatures(degree=poly_deg)\n",
    "\n",
    "    # Build design matrix (fixed train/test-split)\n",
    "    X_train = poly_features.fit_transform(x_train)\n",
    "    X_test  = poly_features.transform(x_test)\n",
    "\n",
    "    # Make array for predictions\n",
    "    predictions = np.zeros((bootstraps, n_test_points))\n",
    "    # Define targets (noisy) for MSE\n",
    "    target = y_test\n",
    "    \n",
    "    for b in range(bootstraps):\n",
    "        # Make bootstrap sample\n",
    "        X_train_re, y_train_re = resample(\n",
    "            X_train, y_train, n_samples=n_train_points, random_state=b\n",
    "        )\n",
    "        # Fit model on the sample data:\n",
    "        poly_model = LinearRegression(fit_intercept=False).fit(X_train_re, y_train_re)\n",
    "        # Make predictions on test data:\n",
    "        poly_predict = poly_model.predict(X_test)\n",
    "        # Add predictions to array\n",
    "        predictions[b, :] = poly_predict\n",
    "        \n",
    "    # Calculate bias against the noiseless function on the fixed test inputs\n",
    "    pred_mean = np.mean(predictions, axis=0)\n",
    "    biases.append(np.mean((pred_mean - f_test)**2))\n",
    "\n",
    "    # Calculate variance (per test point over bootstraps, then average)\n",
    "    var_per_point = np.mean((predictions - pred_mean)**2, axis=0)\n",
    "    variances.append(np.mean(var_per_point))\n",
    "\n",
    "    # Calculate MSE against the noisy targets\n",
    "    mses.append(np.mean((predictions - target)**2))\n",
    "\n",
    "# Plotting results\n",
    "plt.plot(n_datapoints, variances, marker=\"o\", label=\"Variance\")\n",
    "plt.plot(n_datapoints, biases, marker=\"o\", label=\"Bias\")\n",
    "plt.plot(n_datapoints, mses, marker=\"o\", label=\"Mean squared error\")\n",
    "plt.xlabel(\"Number of datapoints\")\n",
    "plt.title(f\"MSE, variance and bias as a function of n_datapoints, polynomial degree: {poly_deg}\")\n",
    "plt.legend()\n",
    "plt.show()\n",
    "\n"
   ]
  },
  {
   "cell_type": "markdown",
   "id": "65f06c27",
   "metadata": {},
   "source": [
    "### Comments to 4f\n",
    "We start by comparing the figures for degree 7 and 2:"
   ]
  },
  {
   "cell_type": "markdown",
   "id": "c4b52db2",
   "metadata": {},
   "source": [
    "![Degree 5:](4f_polydeg_5.png)\n",
    "![Degree 2:](4f_polydeg_2_1.png)\n"
   ]
  },
  {
   "cell_type": "markdown",
   "id": "29cce47b",
   "metadata": {},
   "source": [
    "We see that the model with a high complexity has a huge variance for small n_datapoints. Both the variance and the bias is quickly reduced with increasing n, and they stay the same while n is larger than 100. \n",
    "\n",
    "For the low-complexity model, we get å large bias for low n, and a relatively small variance. Both the variance and the bias is reduced by increasing n, and they stay relatively flat for n>100. The bias is larger than the variance for this model. "
   ]
  },
  {
   "cell_type": "markdown",
   "id": "46250fbc",
   "metadata": {},
   "source": [
    "## Exercise 5: Interpretation of scaling and metrics\n"
   ]
  },
  {
   "cell_type": "markdown",
   "id": "5af53055",
   "metadata": {},
   "source": [
    "In this course, we often ask you to scale data and compute various metrics. Although these practices are \"standard\" in the field, we will require you to demonstrate an understanding of _why_ you need to scale data and use these metrics. Both so that you can make better arguements about your results, and so that you will hopefully make fewer mistakes.\n",
    "\n",
    "First, a few reminders: In this course you should always scale the columns of the feature matrix, and sometimes scale the target data, when it is worth the effort. By scaling, we mean subtracting the mean and dividing by the standard deviation, though there are many other ways to scale data. When scaling either the feature matrix or the target data, the intercept becomes a bit harder to implement and understand, so take care.\n",
    "\n",
    "Briefly answer the following:\n",
    "\n",
    "**a)** Why do we scale data?\n",
    "\n",
    "**b)** Why does the OLS method give practically equivelent models on scaled and unscaled data?\n",
    "\n",
    "**c)** Why does the Ridge method **not** give practically equivelent models on scaled and unscaled data? Why do we only consider the model on scaled data correct?\n",
    "\n",
    "**d)** Why do we say that the Ridge method gives a biased model?\n",
    "\n",
    "**e)** Is the MSE of the OLS method affected by scaling of the feature matrix? Is it affected by scaling of the target data?\n",
    "\n",
    "**f)** Read about the R2 score, a metric we will ask you to use a lot later in the course. Is the R2 score of the OLS method affected by scaling of the feature matrix? Is it affected by scaling of the target data?\n",
    "\n",
    "**g)** Give interpretations of the following R2 scores: 0, 0.5, 1.\n",
    "\n",
    "**h)** What is an advantage of the R2 score over the MSE?\n"
   ]
  },
  {
   "cell_type": "markdown",
   "id": "3b0d44c8",
   "metadata": {},
   "source": [
    "### Exercise 5: Answers"
   ]
  },
  {
   "cell_type": "markdown",
   "id": "e91645eb",
   "metadata": {},
   "source": [
    "**a)**\n",
    "\n",
    "We scale data for a number of reasons. It can help reduce numerical instability when inverting matrices, and it can help \"balance\" features, so they are comparable. In Ridge and Lasso, the penalty depends on coefficient size, so by scaling the data we make the features comparable, ensuring that the correct penalty is given to each feature."
   ]
  },
  {
   "cell_type": "markdown",
   "id": "a6c16efd",
   "metadata": {},
   "source": [
    "**b)**\n",
    "\n",
    "Because there is no penalty. And if you scale a column of the design matrix by a constant c, the corresponding feature will be divided by this c. "
   ]
  },
  {
   "cell_type": "markdown",
   "id": "fdce9638",
   "metadata": {},
   "source": [
    "**c)**\n",
    "\n",
    "Because the penalty is applied directly to the coefficients. So a large coefficient will get a larger penalty. By scaling the data, we make the features comparable, so the coefficients get the \"correct\" penalty, ensuring that the model becomes \"correct\""
   ]
  },
  {
   "cell_type": "markdown",
   "id": "53040953",
   "metadata": {},
   "source": [
    "**d)**\n",
    "\n",
    "Because in Ridge the coefficients are shrunk towards zero. This introduces bias, but reduces variance. So overall, we may get a smaller mean squared error. "
   ]
  },
  {
   "cell_type": "markdown",
   "id": "0cb3b5fe",
   "metadata": {},
   "source": [
    "**e)**\n",
    "\n",
    "MSE is not affected by scaling the feature matrix. It is affected by scaling the target data."
   ]
  },
  {
   "cell_type": "markdown",
   "id": "f9c3359b",
   "metadata": {},
   "source": [
    "**f)**\n",
    "\n",
    "Neither scaling the feature matrix nor scaling the target data will affect the R2 score. "
   ]
  },
  {
   "cell_type": "markdown",
   "id": "9c5588b5",
   "metadata": {},
   "source": [
    "**g)**\n",
    "\n",
    "R2 = 0: This means that the model does no better than just predicting the mean of the target variable. It explains none of the variance in the data.\n",
    "\n",
    "R2 = 0.5: The model explains 50% of the variance in the data, compared to computing the mean. \n",
    "\n",
    "R2 = 1: This means that the model perfectly predicts the data, and explains 100% of the variance in the target variable. "
   ]
  },
  {
   "cell_type": "markdown",
   "id": "4698be1c",
   "metadata": {},
   "source": [
    "**h)**\n",
    "\n",
    "R2 is easier to interpret, because it can be interpreted as \"percent of variance explained by the model\". It is also dimensionless, so it is easy to compare the R2 score across models and data. The MSE is not dimensionless."
   ]
  }
 ],
 "metadata": {
  "kernelspec": {
   "display_name": "base",
   "language": "python",
   "name": "python3"
  },
  "language_info": {
   "codemirror_mode": {
    "name": "ipython",
    "version": 3
   },
   "file_extension": ".py",
   "mimetype": "text/x-python",
   "name": "python",
   "nbconvert_exporter": "python",
   "pygments_lexer": "ipython3",
   "version": "3.11.5"
  }
 },
 "nbformat": 4,
 "nbformat_minor": 5
}
