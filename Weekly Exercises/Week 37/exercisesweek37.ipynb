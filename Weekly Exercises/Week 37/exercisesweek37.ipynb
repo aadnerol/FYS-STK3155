{
 "cells": [
  {
   "cell_type": "markdown",
   "id": "8e6632a0",
   "metadata": {
    "editable": true
   },
   "source": [
    "<!-- HTML file automatically generated from DocOnce source (https://github.com/doconce/doconce/)\n",
    "doconce format html exercisesweek37.do.txt  -->\n",
    "<!-- dom:TITLE: Exercises week 37 -->"
   ]
  },
  {
   "cell_type": "markdown",
   "id": "82705c4f",
   "metadata": {
    "editable": true
   },
   "source": [
    "# Exercises week 37\n",
    "**Implementing gradient descent for Ridge and ordinary Least Squares Regression**\n",
    "\n",
    "Date: **September 8-12, 2025**"
   ]
  },
  {
   "cell_type": "markdown",
   "id": "921bf331",
   "metadata": {
    "editable": true
   },
   "source": [
    "## Learning goals\n",
    "\n",
    "After having completed these exercises you will have:\n",
    "1. Your own code for the implementation of the simplest gradient descent approach applied to ordinary least squares (OLS) and Ridge regression\n",
    "\n",
    "2. Be able to compare the analytical expressions for OLS and Ridge regression with the gradient descent approach\n",
    "\n",
    "3. Explore the role of the learning rate in the gradient descent approach and the hyperparameter $\\lambda$ in Ridge regression\n",
    "\n",
    "4. Scale the data properly"
   ]
  },
  {
   "cell_type": "markdown",
   "id": "adff65d5",
   "metadata": {
    "editable": true
   },
   "source": [
    "## Simple one-dimensional second-order polynomial\n",
    "\n",
    "We start with a very simple function"
   ]
  },
  {
   "cell_type": "markdown",
   "id": "70418b3d",
   "metadata": {
    "editable": true
   },
   "source": [
    "$$\n",
    "f(x)= 2-x+5x^2,\n",
    "$$"
   ]
  },
  {
   "cell_type": "markdown",
   "id": "11a3cf73",
   "metadata": {
    "editable": true
   },
   "source": [
    "defined for $x\\in [-2,2]$. You can add noise if you wish. \n",
    "\n",
    "We are going to fit this function with a polynomial ansatz. The easiest thing is to set up a second-order polynomial and see if you can fit the above function.\n",
    "Feel free to play around with higher-order polynomials."
   ]
  },
  {
   "cell_type": "markdown",
   "id": "04a06b51",
   "metadata": {
    "editable": true
   },
   "source": [
    "## Exercise 1, scale your data\n",
    "\n",
    "Before fitting a regression model, it is good practice to normalize or\n",
    "standardize the features. This ensures all features are on a\n",
    "comparable scale, which is especially important when using\n",
    "regularization. Here we will perform standardization, scaling each\n",
    "feature to have mean 0 and standard deviation 1."
   ]
  },
  {
   "cell_type": "markdown",
   "id": "408db3d9",
   "metadata": {
    "editable": true
   },
   "source": [
    "### 1a)\n",
    "\n",
    "Compute the mean and standard deviation of each column (feature) in your design/feature matrix $\\boldsymbol{X}$.\n",
    "Subtract the mean and divide by the standard deviation for each feature.\n",
    "\n",
    "We will also center the target $\\boldsymbol{y}$ to mean $0$. Centering $\\boldsymbol{y}$\n",
    "(and each feature) means the model does not require a separate intercept\n",
    "term, the data is shifted such that the intercept is effectively 0\n",
    ". (In practice, one could include an intercept in the model and not\n",
    "penalize it, but here we simplify by centering.)\n",
    "Choose $n=100$ data points and set up $\\boldsymbol{x}, \\boldsymbol{y}$ and the design matrix $\\boldsymbol{X}$."
   ]
  },
  {
   "cell_type": "code",
   "execution_count": 1,
   "id": "118355a8",
   "metadata": {},
   "outputs": [],
   "source": [
    "import numpy as np\n",
    "n_features = 2\n",
    "n = 100\n",
    "x = np.linspace(-2, 2, n)\n",
    "y = 2 - x + 5*x**2  +np.random.normal(0, 0.1)\n",
    "\n",
    "def polynomial_features(x, p, intercept=False):\n",
    "    n = len(x)\n",
    "    # Condition on intercept:\n",
    "    if intercept==True:\n",
    "        X = np.zeros((n, p + 1))\n",
    "        for i in range(p+1):\n",
    "            X[:, i] = x ** i\n",
    "            # First column becomes ones because for all x, x**i = 1 when i=0.\n",
    "    else: \n",
    "        X = np.zeros((n, p))\n",
    "        for i in range(p):\n",
    "            X[:, i] = x ** (i+1)\n",
    "    \n",
    "    return X \n",
    "\n",
    "X = polynomial_features(x, n_features, intercept = False)\n"
   ]
  },
  {
   "cell_type": "code",
   "execution_count": 2,
   "id": "37fb732c",
   "metadata": {
    "collapsed": false,
    "editable": true
   },
   "outputs": [],
   "source": [
    "# Standardize features (zero mean, unit variance for each feature)\n",
    "X_mean = X.mean(axis=0)\n",
    "X_std = X.std(axis=0)\n",
    "X_std[X_std == 0] = 1  # safeguard to avoid division by zero for constant features\n",
    "X_norm = (X - X_mean) / X_std\n",
    "\n",
    "# Center the target to zero mean (optional, to simplify intercept handling)\n",
    "y_mean = y.mean()\n",
    "y_centered = y - y_mean"
   ]
  },
  {
   "cell_type": "markdown",
   "id": "d861e1e3",
   "metadata": {
    "editable": true
   },
   "source": [
    "Fill in the necessary details. Do we need to center the $y$-values? \n",
    "\n",
    "After this preprocessing, each column of $\\boldsymbol{X}_{\\mathrm{norm}}$ has mean zero and standard deviation $1$\n",
    "and $\\boldsymbol{y}_{\\mathrm{centered}}$ has mean 0. This makes the optimization landscape\n",
    "nicer and ensures the regularization penalty $\\lambda \\sum_j\n",
    "\\theta_j^2$ in Ridge regression treats each coefficient fairly (since features are on the\n",
    "same scale)."
   ]
  },
  {
   "cell_type": "markdown",
   "id": "279ba8fe",
   "metadata": {},
   "source": [
    "## Exercise 1 - Answers\n",
    "**a)** We should center the y-values if we do not include the intercept. "
   ]
  },
  {
   "cell_type": "markdown",
   "id": "b3e774d0",
   "metadata": {
    "editable": true
   },
   "source": [
    "## Exercise 2, calculate the gradients\n",
    "\n",
    "Find the gradients for OLS and Ridge regression using the mean-squared error as cost/loss function."
   ]
  },
  {
   "cell_type": "markdown",
   "id": "36d86b9c",
   "metadata": {},
   "source": [
    "## Exercise 2 - Answers"
   ]
  },
  {
   "cell_type": "markdown",
   "id": "c181e9bd",
   "metadata": {},
   "source": [
    "### Gradient for OLS\n",
    "\n",
    "The cost function for OLS is defined as\n",
    "$$\n",
    "C(\\boldsymbol{\\theta}) = \\frac{1}{n} \\vert\\vert\\boldsymbol{y} - \\boldsymbol{X\\theta} \\vert\\vert _2 ^2 = \\frac{1}{n}(\\boldsymbol{y}-\\boldsymbol{X\\theta})^T(\\boldsymbol{y}- \\boldsymbol{X\\theta})\n",
    "$$\n",
    "\n",
    "We want to calculate the gradient of $C(\\boldsymbol{\\theta})$, which is the same as differentiating $C$ with respect to the vector $\\boldsymbol{\\theta}$:\n",
    "$$\n",
    "\\nabla_{\\boldsymbol{\\theta}}C(\\boldsymbol{\\theta}) = \\frac{\\partial C(\\boldsymbol{\\theta})}{\\partial\\boldsymbol{\\theta}} = \\frac{\\partial}{\\partial\\boldsymbol{\\theta}}\\frac{1}{n} (\\boldsymbol{y}-\\boldsymbol{X\\theta})^T(\\boldsymbol{y}-\\boldsymbol{X\\theta}) = \\frac{1}{n} \\frac{\\partial}{\\partial\\boldsymbol{\\theta}}(\\boldsymbol{y}-\\boldsymbol{X\\theta})^T(\\boldsymbol{y}-\\boldsymbol{X\\theta}) = -\\frac{2}{n}(\\boldsymbol{y}-\\boldsymbol{X\\theta})^T\\boldsymbol{X}\n",
    "$$\n",
    "\n",
    "The last calculation is based on the results we showed in the exercises for week 35. \n",
    "We end up with: \n",
    "$$\n",
    "\\nabla_{\\boldsymbol{\\theta}}C(\\boldsymbol{\\theta}) = -\\frac{2}{n}(\\boldsymbol{y}-\\boldsymbol{X\\theta})^T\\boldsymbol{X}\n",
    "$$\n"
   ]
  },
  {
   "cell_type": "markdown",
   "id": "645cd7a0",
   "metadata": {},
   "source": [
    "### Gradient for Ridge regression\n",
    "The cost function is defined as \n",
    "$$\n",
    "C_{Ridge}(\\boldsymbol{\\theta}) = \\frac{1}{n}\\vert\\vert \\boldsymbol{y}-\\boldsymbol{X}\\boldsymbol{\\theta}\\vert\\vert_2^2+\\lambda\\vert\\vert \\boldsymbol{\\theta}\\vert\\vert_2^2 = \\frac{1}{n}((\\boldsymbol{y}-\\boldsymbol{X\\theta})^T(\\boldsymbol{y}-\\boldsymbol{X\\theta})) + \\lambda\\theta ^T \\theta\n",
    "$$\n",
    "\n",
    "We now calculate the gradient of $C_{Ridge}(\\boldsymbol{\\theta})$:\n",
    "$$\n",
    "\\nabla _{\\boldsymbol{\\theta}} C_{Ridge}(\\boldsymbol{\\theta}) = \\frac{\\partial C_{Ridge}(\\boldsymbol{\\theta})}{\\partial \\boldsymbol{\\theta}} = \\frac{\\partial}{\\partial\\boldsymbol{\\theta}}[\\frac{1}{n}((\\boldsymbol{y}-\\boldsymbol{X\\theta})^T(\\boldsymbol{y}-\\boldsymbol{X\\theta})) + \\lambda\\theta ^T \\theta]\n",
    "$$\n",
    "\n",
    "Using the results from exercises week 36, we get: \n",
    "$$\n",
    "\\nabla _{\\boldsymbol{\\theta}} C_{Ridge}(\\boldsymbol{\\theta}) = -2(\\frac{1}{n}(\\boldsymbol{y}-\\boldsymbol{X\\theta})^T\\boldsymbol{X} - \\lambda \\boldsymbol{\\theta}^T) = 2(\\frac{1}{n}(\\boldsymbol{X\\theta}-\\boldsymbol{y})^T\\boldsymbol{X} + \\lambda \\boldsymbol{\\theta}^T)\n",
    "$$"
   ]
  },
  {
   "cell_type": "markdown",
   "id": "5023e67b",
   "metadata": {},
   "source": [
    "### Note to exercise 2:\n",
    "In these calculations, the gradients are represented as row-vectors. In the notes on github, the gradients are represented by column-vectors. We can easily obtain the column vectors by transposing the results given here:\n",
    "$$\n",
    "\\nabla _{\\boldsymbol{\\theta}} C_{Ridge}(\\boldsymbol{\\theta}) = 2(\\frac{1}{n}\\boldsymbol{X}^T(\\boldsymbol{X\\theta}-\\boldsymbol{y}) + \\lambda \\boldsymbol{\\theta},\n",
    "$$\n",
    "and\n",
    "$$\n",
    "\\nabla_{\\boldsymbol{\\theta}}C(\\boldsymbol{\\theta}) = -\\frac{2}{n}\\boldsymbol{X}^T(\\boldsymbol{y}-\\boldsymbol{X\\theta}) = \\frac{2}{n}\\boldsymbol{X}^T(\\boldsymbol{X\\theta}-\\boldsymbol{y})\n",
    "$$\n"
   ]
  },
  {
   "cell_type": "markdown",
   "id": "d5dc7708",
   "metadata": {
    "editable": true
   },
   "source": [
    "## Exercise 3, using the analytical formulae for OLS and Ridge regression to find the optimal paramters $\\boldsymbol{\\theta}$"
   ]
  },
  {
   "cell_type": "code",
   "execution_count": 3,
   "id": "4c9c86ac",
   "metadata": {
    "collapsed": false,
    "editable": true
   },
   "outputs": [
    {
     "data": {
      "text/plain": [
       "'\\ntheta_closed_formRidge = ?\\ntheta_closed_formOLS = ?\\n\\nprint(\"Closed-form Ridge coefficients:\", theta_closed_form)\\nprint(\"Closed-form OLS coefficients:\", theta_closed_form)\\n'"
      ]
     },
     "execution_count": 3,
     "metadata": {},
     "output_type": "execute_result"
    }
   ],
   "source": [
    "# Set regularization parameter, either a single value or a vector of values\n",
    "# Note that lambda is a python keyword. The lambda keyword is used to create small, single-expression functions without a formal name. These are often called \"anonymous functions\" or \"lambda functions.\"\n",
    "lam = 1\n",
    "\n",
    "\n",
    "# Analytical form for OLS and Ridge solution: theta_Ridge = (X^T X + lambda * I)^{-1} X^T y and theta_OLS = (X^T X)^{-1} X^T y\n",
    "I = np.eye(n_features)\n",
    "\"\"\"\n",
    "theta_closed_formRidge = ?\n",
    "theta_closed_formOLS = ?\n",
    "\n",
    "print(\"Closed-form Ridge coefficients:\", theta_closed_form)\n",
    "print(\"Closed-form OLS coefficients:\", theta_closed_form)\n",
    "\"\"\""
   ]
  },
  {
   "cell_type": "markdown",
   "id": "eeae00fd",
   "metadata": {
    "editable": true
   },
   "source": [
    "This computes the Ridge and OLS regression coefficients directly. The identity\n",
    "matrix $I$ has the same size as $X^T X$. It adds $\\lambda$ to the diagonal of $X^T X$ for Ridge regression. We\n",
    "then invert this matrix and multiply by $X^T y$. The result\n",
    "for $\\boldsymbol{\\theta}$  is a NumPy array of shape (n$\\_$features,) containing the\n",
    "fitted parameters $\\boldsymbol{\\theta}$."
   ]
  },
  {
   "cell_type": "markdown",
   "id": "e1c215d5",
   "metadata": {
    "editable": true
   },
   "source": [
    "### 3a)\n",
    "\n",
    "Finalize, in the above code, the OLS and Ridge regression determination of the optimal parameters $\\boldsymbol{\\theta}$."
   ]
  },
  {
   "cell_type": "code",
   "execution_count": 4,
   "id": "f9cfce01",
   "metadata": {},
   "outputs": [
    {
     "name": "stdout",
     "output_type": "stream",
     "text": [
      "Closed-form Ridge coefficients: [-0.99270216  5.85255151]\n",
      "Closed-form OLS coefficients: [-1.          5.87012592]\n",
      "Closed-form Ridge coefficients, scaled data: [-1.15475828  6.02217511]\n",
      "Closed-form OLS coefficients, scaled data: [-1.16630586  6.08239686]\n"
     ]
    }
   ],
   "source": [
    "# Will implement using functions:\n",
    "\n",
    "def theta_closed_formRidge(X, y, lam):\n",
    "    I = np.eye(n_features)\n",
    "    return (np.linalg.pinv((X.T@X) + lam * I)) @ (X.T @ y)\n",
    "\n",
    "def theta_closed_formOLS(X, y):\n",
    "    return (np.linalg.pinv(X.T@X)) @ X.T @ y\n",
    "\n",
    "theta_closed_form_Ridge = theta_closed_formRidge(X, y, lam)\n",
    "theta_closed_form_Ridge_scaled = theta_closed_formRidge(X_norm, y_centered, lam)\n",
    "\n",
    "theta_closed_form_OLS = theta_closed_formOLS(X, y)\n",
    "theta_closed_form_OLS_scaled = theta_closed_formOLS(X_norm, y_centered)\n",
    "\n",
    "print(\"Closed-form Ridge coefficients:\", theta_closed_form_Ridge)\n",
    "print(\"Closed-form OLS coefficients:\", theta_closed_form_OLS)\n",
    "\n",
    "print(\"Closed-form Ridge coefficients, scaled data:\", theta_closed_form_Ridge_scaled)\n",
    "print(\"Closed-form OLS coefficients, scaled data:\", theta_closed_form_OLS_scaled)\n"
   ]
  },
  {
   "cell_type": "markdown",
   "id": "587dd3dc",
   "metadata": {
    "editable": true
   },
   "source": [
    "### 3b)\n",
    "\n",
    "Explore the results as function of different values of the hyperparameter $\\lambda$. See for example exercise 4 from week 36."
   ]
  },
  {
   "cell_type": "code",
   "execution_count": 5,
   "id": "9d50f809",
   "metadata": {},
   "outputs": [
    {
     "data": {
      "image/png": "[encoded data removed]",
      "text/plain": [
       "<Figure size 640x480 with 1 Axes>"
      ]
     },
     "metadata": {},
     "output_type": "display_data"
    },
    {
     "data": {
      "image/png": "[encoded data removed]",
      "text/plain": [
       "<Figure size 640x480 with 1 Axes>"
      ]
     },
     "metadata": {},
     "output_type": "display_data"
    },
    {
     "data": {
      "image/png": "[encoded data removed]",
      "text/plain": [
       "<Figure size 640x480 with 1 Axes>"
      ]
     },
     "metadata": {},
     "output_type": "display_data"
    }
   ],
   "source": [
    "import matplotlib.pyplot as plt\n",
    "# Will  look at non-scaled data first\n",
    "plt.scatter(x, y, label = \"Input data\", color=\"green\")\n",
    "\n",
    "lam = np.logspace(-5, 1, 5)\n",
    "\n",
    "\n",
    "for l in lam:\n",
    "    beta = theta_closed_formRidge(X, y, l)\n",
    "    plt.plot(x, X @ beta, label = f\"Ridge λ={l:.1e}\")\n",
    "plt.legend()\n",
    "plt.show()\n",
    "\n",
    "# Now with scaled data\n",
    "plt.scatter(x, y_centered, label = \"Input data\", color=\"green\")\n",
    "for l in lam:\n",
    "    beta = theta_closed_formRidge(X_norm, y_centered, l)\n",
    "    plt.plot(x, X_norm @ beta, label = f\"Ridge λ={l:.1e}\")\n",
    "plt.legend()\n",
    "plt.title(\"Scaled data\")\n",
    "plt.show()\n",
    "\n",
    "from sklearn.metrics import mean_squared_error\n",
    "\n",
    "MSE = np.zeros(len(lam))\n",
    "MSE_scaled = np.zeros(len(lam))\n",
    "\n",
    "for i, l in enumerate(lam):\n",
    "    # Unscaled case\n",
    "    beta = theta_closed_formRidge(X, y, l)\n",
    "    y_pred = X @ beta\n",
    "    MSE[i] = mean_squared_error(y, y_pred)\n",
    "\n",
    "    # Scaled case \n",
    "    beta_scaled = theta_closed_formRidge(X_norm, y_centered, l)\n",
    "    y_pred_scaled_centered = X_norm @ beta_scaled   \n",
    "    # Re-add the y_mean so both MSE are computed on y --> Better comparison\n",
    "    y_pred_scaled = y_pred_scaled_centered + y_mean       \n",
    "    MSE_scaled[i] = mean_squared_error(y, y_pred_scaled)\n",
    "\n",
    "# Plot\n",
    "plt.semilogx(lam, MSE, label=\"MSE Ridge (uskalert)\")\n",
    "plt.semilogx(lam, MSE_scaled, label=\"MSE Ridge (skalert + y re-sentrert)\")\n",
    "plt.xlabel(\"Lambda (log-skala)\")\n",
    "plt.ylabel(\"MSE\")\n",
    "plt.legend()\n",
    "plt.title(\"MSE som funksjon av lambda for Ridge\")\n",
    "plt.show()\n"
   ]
  },
  {
   "cell_type": "markdown",
   "id": "bfa34697",
   "metadata": {
    "editable": true
   },
   "source": [
    "## Exercise 4, Implementing the simplest form for gradient descent\n",
    "\n",
    "Alternatively, we can fit the ridge regression model using gradient\n",
    "descent. This is useful to visualize the iterative convergence and is\n",
    "necessary if $n$ and $p$ are so large that the closed-form might be\n",
    "too slow or memory-intensive. We derive the gradients from the cost\n",
    "functions defined above. Use the gradients of the Ridge and OLS cost functions with respect to\n",
    "the parameters  $\\boldsymbol{\\theta}$ and set up (using the template below) your own gradient descent code for OLS and Ridge regression.\n",
    "\n",
    "Below is a template code for gradient descent implementation of ridge:"
   ]
  },
  {
   "cell_type": "code",
   "execution_count": 6,
   "id": "49245f55",
   "metadata": {
    "collapsed": false,
    "editable": true
   },
   "outputs": [
    {
     "data": {
      "text/plain": [
       "'# Gradient descent parameters, learning rate eta first\\neta = 0.1\\nlam = 1\\n# Then number of iterations\\nnum_iters = 1000\\n\\n# Initialize weights for gradient descent\\ntheta_gdOLS = np.zeros(n_features)\\ntheta_gdRidge = np.zeros(n_features)\\n# Gradient descent loop\\nfor t in range(num_iters):\\n    # Compute gradients for OSL and Ridge\\n    grad_OLS = 2/n * X.T @ (X @ theta_gdOLS - y)\\n    grad_Ridge = 2 * (1/n * X.T @ (X @ theta_gdRidge - y) + lam*theta_gdRidge)\\n    # Update parameters theta\\n    theta_gdOLS = theta_gdOLS - eta*grad_OLS\\n    theta_gdRidge = theta_gdRidge - eta * grad_Ridge\\n\\n# After the loop, theta contains the fitted coefficients\\nprint(\"Gradient Descent OLS coefficients:\", theta_gdOLS)\\nprint(\"Gradient Descent Ridge coefficients:\", theta_gdRidge)'"
      ]
     },
     "execution_count": 6,
     "metadata": {},
     "output_type": "execute_result"
    }
   ],
   "source": [
    "\"\"\"# Gradient descent parameters, learning rate eta first\n",
    "eta = 0.1\n",
    "lam = 1\n",
    "# Then number of iterations\n",
    "num_iters = 1000\n",
    "\n",
    "# Initialize weights for gradient descent\n",
    "theta_gdOLS = np.zeros(n_features)\n",
    "theta_gdRidge = np.zeros(n_features)\n",
    "# Gradient descent loop\n",
    "for t in range(num_iters):\n",
    "    # Compute gradients for OSL and Ridge\n",
    "    grad_OLS = 2/n * X.T @ (X @ theta_gdOLS - y)\n",
    "    grad_Ridge = 2 * (1/n * X.T @ (X @ theta_gdRidge - y) + lam*theta_gdRidge)\n",
    "    # Update parameters theta\n",
    "    theta_gdOLS = theta_gdOLS - eta*grad_OLS\n",
    "    theta_gdRidge = theta_gdRidge - eta * grad_Ridge\n",
    "\n",
    "# After the loop, theta contains the fitted coefficients\n",
    "print(\"Gradient Descent OLS coefficients:\", theta_gdOLS)\n",
    "print(\"Gradient Descent Ridge coefficients:\", theta_gdRidge)\"\"\""
   ]
  },
  {
   "cell_type": "markdown",
   "id": "f3f43f2c",
   "metadata": {
    "editable": true
   },
   "source": [
    "### 4a)\n",
    "\n",
    "Write first a gradient descent code for OLS only using the above template.\n",
    "Discuss the results as function of the learning rate parameters and the number of iterations"
   ]
  },
  {
   "cell_type": "markdown",
   "id": "9ba303be",
   "metadata": {
    "editable": true
   },
   "source": [
    "### 4b)\n",
    "\n",
    "Write then a similar code for Ridge regression using the above template.\n",
    "Try to add a stopping parameter as function of the number iterations and the difference between the new and old $\\theta$ values. How would you define a stopping criterion?"
   ]
  },
  {
   "cell_type": "markdown",
   "id": "fb6fc765",
   "metadata": {},
   "source": [
    "## Exercise 4 - answers\n",
    "**a)**"
   ]
  },
  {
   "cell_type": "code",
   "execution_count": 7,
   "id": "d55d16b1",
   "metadata": {},
   "outputs": [
    {
     "name": "stdout",
     "output_type": "stream",
     "text": [
      "Gradient Descent OLS coefficients: [-1.          5.87012592]\n"
     ]
    }
   ],
   "source": [
    "# Gradient descent parameters, learning rate eta first\n",
    "eta = 0.01\n",
    "lam = 1\n",
    "# Then number of iterations\n",
    "num_iters = 1000\n",
    "# Initialize weights for gradient descent\n",
    "theta_gdOLS = np.zeros(n_features)\n",
    "\n",
    "# Gradient descent loop\n",
    "for t in range(num_iters):\n",
    "    # Compute gradients for OSL and Ridge\n",
    "    grad_OLS = 2/n * X.T @ (X @ theta_gdOLS - y)\n",
    "    # Update parameters theta\n",
    "    theta_gdOLS = theta_gdOLS - eta*grad_OLS\n",
    "\n",
    "# After the loop, theta contains the fitted coefficients\n",
    "print(\"Gradient Descent OLS coefficients:\", theta_gdOLS)\n",
    "\n",
    "# Function:\n",
    "def grad_descent_ols(X, y, eta=0.01, num_iters=1000):\n",
    "    n_samples, n_features = X.shape\n",
    "    theta_gdOLS = np.zeros(n_features)\n",
    "    for t in range(num_iters):\n",
    "        # Compute gradients for OSL and Ridge\n",
    "        grad_OLS = 2/n_samples * X.T @ (X @ theta_gdOLS - y)\n",
    "        # Update parameters theta\n",
    "        theta_gdOLS = theta_gdOLS - eta*grad_OLS\n",
    "    return theta_gdOLS"
   ]
  },
  {
   "cell_type": "markdown",
   "id": "7daba656",
   "metadata": {},
   "source": [
    "For small $\\eta$, the step size is small, so the number of iterations must be large if we want convergence. And if $\\eta$ is to big, we may overshoot the solution, so we get either oscillation or divergence. If we use too few iterations, we may not reach the solution, and if we have too many iterations, we may iterate even if we have found a solution. This is a waste of computer power, so we should add a stopping criterion. "
   ]
  },
  {
   "cell_type": "markdown",
   "id": "bc3c08d8",
   "metadata": {},
   "source": [
    "**b)**"
   ]
  },
  {
   "cell_type": "code",
   "execution_count": 8,
   "id": "d8479df1",
   "metadata": {},
   "outputs": [
    {
     "name": "stdout",
     "output_type": "stream",
     "text": [
      "Number of iterations:  489\n",
      "[-0.57631954  4.51448711]\n"
     ]
    }
   ],
   "source": [
    "def grad_descent_ridge(X, y, eta=0.01, lam=1, num_iters=1000, print_num_iters = False):\n",
    "    n_samples, n_features = X.shape\n",
    "    theta_gdRidge = np.zeros(n_features)\n",
    "    for t in range(num_iters):\n",
    "        grad_Ridge = 2 * (1/n_samples * X.T @ (X @ theta_gdRidge - y) + lam*theta_gdRidge)\n",
    "        theta_gdRidge_new = theta_gdRidge - eta * grad_Ridge\n",
    "        # stopping criterion, return number of iterations?\n",
    "        if np.allclose(theta_gdRidge, theta_gdRidge_new, rtol=1e-12, atol=1e-12):\n",
    "            if print_num_iters:\n",
    "                print(\"Number of iterations: \", t+1)\n",
    "            return theta_gdRidge_new\n",
    "        else: theta_gdRidge = theta_gdRidge_new\n",
    "        \n",
    "    if print_num_iters:\n",
    "        print(\"Number of iterations: \", t+1)\n",
    "    return theta_gdRidge\n",
    "\n",
    "\n",
    "print(grad_descent_ridge(X, y, num_iters=10000, print_num_iters=True))\n",
    "\n",
    "    "
   ]
  },
  {
   "cell_type": "markdown",
   "id": "edd1184a",
   "metadata": {},
   "source": [
    "I made a stopping criterion by checking if the previous and current iterations are \"equal\", with a tolerance of $10^{-12}$. By printing the number of iterations we see that this stopping criterion reduces the number of iterations from 1000 to 489. "
   ]
  },
  {
   "cell_type": "markdown",
   "id": "78362c6c",
   "metadata": {
    "editable": true
   },
   "source": [
    "## Exercise 5, Ridge regression and a new Synthetic Dataset\n",
    "\n",
    "We create a synthetic linear regression dataset with a sparse\n",
    "underlying relationship. This means we have many features but only a\n",
    "few of them actually contribute to the target. In our example, we’ll\n",
    "use 10 features with only 3 non-zero weights in the true model. This\n",
    "way, the target is generated as a linear combination of a few features\n",
    "(with known coefficients) plus some random noise. The steps we include are:\n",
    "\n",
    "Decide on the number of samples and features (e.g. 100 samples, 10 features).\n",
    "Define the **true** coefficient vector with mostly zeros (for sparsity). For example, we set $\\hat{\\boldsymbol{\\theta}} = [5.0, -3.0, 0.0, 0.0, 0.0, 0.0, 2.0, 0.0, 0.0, 0.0]$, meaning only features 0, 1, and 6 have a real effect on y.\n",
    "\n",
    "Then we sample feature values for $\\boldsymbol{X}$ randomly (e.g. from a normal distribution). We use a normal distribution so features are roughly centered around 0.\n",
    "Then we compute the target values $y$ using the linear combination $\\boldsymbol{X}\\hat{\\boldsymbol{\\theta}}$ and add some noise (to simulate measurement error or unexplained variance).\n",
    "\n",
    "Below is the code to generate the dataset:"
   ]
  },
  {
   "cell_type": "code",
   "execution_count": 9,
   "id": "8be1cebe",
   "metadata": {
    "collapsed": false,
    "editable": true
   },
   "outputs": [],
   "source": [
    "import numpy as np\n",
    "\n",
    "# Set random seed for reproducibility\n",
    "np.random.seed(0)\n",
    "\n",
    "# Define dataset size\n",
    "n_samples = 100\n",
    "n_features = 10\n",
    "\n",
    "# Define true coefficients (sparse linear relationship)\n",
    "theta_true = np.array([5.0, -3.0, 0.0, 0.0, 0.0, 0.0, 2.0, 0.0, 0.0, 0.0])\n",
    "\n",
    "# Generate feature matrix X (n_samples x n_features) with random values\n",
    "X = np.random.randn(n_samples, n_features)  # standard normal distribution\n",
    "\n",
    "# Generate target values y with a linear combination of X and theta_true, plus noise\n",
    "noise = 0.5 * np.random.randn(n_samples)    # Gaussian noise\n",
    "y = X @ theta_true + noise"
   ]
  },
  {
   "cell_type": "markdown",
   "id": "e2693666",
   "metadata": {
    "editable": true
   },
   "source": [
    "This code produces a dataset where only features 0, 1, and 6\n",
    "significantly influence $\\boldsymbol{y}$. The rest of the features have zero true\n",
    "coefficient. For example, feature 0 has\n",
    "a true weight of 5.0, feature 1 has -3.0, and feature 6 has 2.0, so\n",
    "the expected relationship is:"
   ]
  },
  {
   "cell_type": "markdown",
   "id": "bc954d12",
   "metadata": {
    "editable": true
   },
   "source": [
    "$$\n",
    "y \\approx 5 \\times x_0 \\;-\\; 3 \\times x_1 \\;+\\; 2 \\times x_6 \\;+\\; \\text{noise}.\n",
    "$$"
   ]
  },
  {
   "cell_type": "markdown",
   "id": "6534b610",
   "metadata": {
    "editable": true
   },
   "source": [
    "You can remove the noise if you wish to. \n",
    "\n",
    "Try to fit the above data set using OLS and Ridge regression with the analytical expressions and your own gradient descent codes.\n",
    "\n",
    "If everything worked correctly, the learned coefficients should be\n",
    "close to the true values [5.0, -3.0, 0.0, …, 2.0, …] that we used to\n",
    "generate the data. Keep in mind that due to regularization and noise,\n",
    "the learned values will not exactly equal the true ones, but they\n",
    "should be in the same ballpark.  Which method (OLS or Ridge) gives the best results?"
   ]
  },
  {
   "cell_type": "code",
   "execution_count": 10,
   "id": "cd6b6336",
   "metadata": {},
   "outputs": [
    {
     "name": "stdout",
     "output_type": "stream",
     "text": [
      "OLS, analytical:  [ 5.00905318e+00 -3.00383337e+00 -1.62718294e-02  1.44819819e-01\n",
      " -7.16006510e-02 -4.29656382e-02  2.05558117e+00  1.97583716e-03\n",
      "  4.11922237e-02 -5.10225177e-02]\n",
      "Ridge, analytical:  [ 4.56106741 -2.64148866 -0.01936493  0.19520454 -0.14478433 -0.10738721\n",
      "  1.81651125  0.02712845 -0.03893845 -0.05635541]\n",
      "OLS, gradient descent:  [ 5.00905157e+00 -3.00382494e+00 -1.62706238e-02  1.44824450e-01\n",
      " -7.16068680e-02 -4.29716690e-02  2.05557277e+00  1.97480991e-03\n",
      "  4.11906176e-02 -5.10223147e-02]\n",
      "Ridge, gradient descent:  [ 4.56106741 -2.64148866 -0.01936493  0.19520454 -0.14478433 -0.10738721\n",
      "  1.81651125  0.02712845 -0.03893845 -0.05635541]\n"
     ]
    }
   ],
   "source": [
    "### Closed form (analytical) ###\n",
    "\n",
    "# OLS\n",
    "theta_closed_form_OLS = theta_closed_formOLS(X, y)\n",
    "print(\"OLS, analytical: \", theta_closed_form_OLS)\n",
    "\n",
    "# Ridge\n",
    "lam = 10\n",
    "theta_closed_form_Ridge = theta_closed_formRidge(X, y, lam)\n",
    "print(\"Ridge, analytical: \", theta_closed_form_Ridge)\n",
    "\n",
    "### Gradient descent methods ###\n",
    "\n",
    "# OlS\n",
    "theta_gd_OLS = grad_descent_ols(X, y, eta=0.01, num_iters=1000)\n",
    "print(\"OLS, gradient descent: \", theta_gd_OLS)\n",
    "\n",
    "# Ridge\n",
    "theta_gd_Ridge = grad_descent_ridge(X, y, eta=0.01, lam=lam/n_samples, num_iters=10000)\n",
    "# Divide lambda by n_samples to match the averaged-loss gradient descent formulation with the unnormalized closed-form solution\n",
    "print(\"Ridge, gradient descent: \", theta_gd_Ridge)\n",
    "\n"
   ]
  },
  {
   "cell_type": "markdown",
   "id": "24d7be27",
   "metadata": {},
   "source": [
    "### Comparing the different results\n",
    "To find out which method \"works best\", i will first calculate the coefficient errors compared to the true value of $\\hat{\\boldsymbol{\\theta}}$. I will use the 2-norm to do this. Then, I will check if the values that should be zero, are in fact zero, within a chosen threshold."
   ]
  },
  {
   "cell_type": "code",
   "execution_count": 11,
   "id": "1d2462d4",
   "metadata": {},
   "outputs": [
    {
     "name": "stdout",
     "output_type": "stream",
     "text": [
      "L2 error, OLS, analytical:  0.18894489422446897\n",
      "L2 error, OLS, gradient descent:  0.18894893359947187\n",
      "L2 error, Ridge, analytical:  0.6567059732670212\n",
      "L2 error, Ridge, gradient descent:  0.6567059734014327\n",
      "Zero values are zero, OLS, analytical: \n",
      "[nan nan True False True True nan True True True]\n",
      "Zero values are zero, OLS, gradient descent: \n",
      "[nan nan True False True True nan True True True]\n",
      "Zero values are zero, Ridge, analytical: \n",
      "[nan nan True False False False nan True True True]\n",
      "Zero values are zero, Ridge, gradient descent: \n",
      "[nan nan True False False False nan True True True]\n"
     ]
    }
   ],
   "source": [
    "def coef_error(theta_true, theta_hat):\n",
    "    l2 = np.linalg.norm(theta_true - theta_hat)\n",
    "    return l2\n",
    "\n",
    "def is_zero(theta_true, theta_hat, threshold = 1e-1):\n",
    "    zero_idx = np.isclose(theta_true, 0)\n",
    "    result = np.full(theta_true.shape, np.nan, dtype=object)\n",
    "    result[zero_idx] = np.isclose(theta_hat[zero_idx], 0, atol=threshold)\n",
    "    return result\n",
    "\n",
    "l2_OLS_closed= coef_error(theta_true=theta_true, theta_hat=theta_closed_form_OLS)\n",
    "l2_OLS_gd = coef_error(theta_true=theta_true, theta_hat=theta_gd_OLS)\n",
    "l2_Ridge_closed= coef_error(theta_true=theta_true, theta_hat=theta_closed_form_Ridge)\n",
    "l2_Ridge_gd= coef_error(theta_true=theta_true, theta_hat=theta_gd_Ridge)\n",
    "### Printing results ###\n",
    "print(\"L2 error, OLS, analytical: \", l2_OLS_closed)\n",
    "print(\"L2 error, OLS, gradient descent: \", l2_OLS_gd)\n",
    "print(\"L2 error, Ridge, analytical: \", l2_Ridge_closed)\n",
    "print(\"L2 error, Ridge, gradient descent: \", l2_Ridge_gd)\n",
    "\n",
    "### Checking the features with value 0 in theta_true has value 0 in the computed thetas\n",
    "is_zero_OLS_closed = is_zero(theta_true=theta_true, theta_hat=theta_closed_form_OLS)\n",
    "is_zero_OLS_gd = is_zero(theta_true=theta_true, theta_hat=theta_gd_OLS)\n",
    "is_zero_Ridge_closed = is_zero(theta_true=theta_true, theta_hat=theta_closed_form_Ridge)\n",
    "is_zero_Ridge_gd = is_zero(theta_true=theta_true, theta_hat=theta_gd_Ridge)\n",
    "\n",
    "### Printing results ###\n",
    "print(\"Zero values are zero, OLS, analytical: \")\n",
    "print(is_zero_OLS_closed)\n",
    "print(\"Zero values are zero, OLS, gradient descent: \")\n",
    "print(is_zero_OLS_gd)\n",
    "print(\"Zero values are zero, Ridge, analytical: \")\n",
    "print(is_zero_Ridge_closed)\n",
    "print(\"Zero values are zero, Ridge, gradient descent: \")\n",
    "print(is_zero_Ridge_gd)\n",
    "\n",
    "                \n",
    "    "
   ]
  },
  {
   "cell_type": "markdown",
   "id": "3af9da71",
   "metadata": {},
   "source": [
    "With our current low-noise dataset, OLS recovers the true coefficients more accurately than Ridge, especially at larger $\\lambda$, which introduces bias. This is expected: Ridge trades bias for variance reduction. In a noisier or more correlated dataset, Ridge’s regularization would typically yield lower test error and more stable coefficients."
   ]
  }
 ],
 "metadata": {
  "kernelspec": {
   "display_name": "base",
   "language": "python",
   "name": "python3"
  },
  "language_info": {
   "codemirror_mode": {
    "name": "ipython",
    "version": 3
   },
   "file_extension": ".py",
   "mimetype": "text/x-python",
   "name": "python",
   "nbconvert_exporter": "python",
   "pygments_lexer": "ipython3",
   "version": "3.11.5"
  }
 },
 "nbformat": 4,
 "nbformat_minor": 5
}
